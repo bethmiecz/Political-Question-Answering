{
  "nbformat": 4,
  "nbformat_minor": 0,
  "metadata": {
    "colab": {
      "name": "Political_Question_Answering.ipynb",
      "provenance": [],
      "collapsed_sections": [
        "zrqjarMrl_9n",
        "BYNmQfhKD3Go"
      ]
    },
    "kernelspec": {
      "name": "python3",
      "display_name": "Python 3"
    },
    "language_info": {
      "name": "python"
    },
    "widgets": {
      "application/vnd.jupyter.widget-state+json": {
        "e4598e3d783d484982734cd310378781": {
          "model_module": "@jupyter-widgets/controls",
          "model_name": "HBoxModel",
          "state": {
            "_view_name": "HBoxView",
            "_dom_classes": [],
            "_model_name": "HBoxModel",
            "_view_module": "@jupyter-widgets/controls",
            "_model_module_version": "1.5.0",
            "_view_count": null,
            "_view_module_version": "1.5.0",
            "box_style": "",
            "layout": "IPY_MODEL_11b6147393224040975efba0c7ec58ae",
            "_model_module": "@jupyter-widgets/controls",
            "children": [
              "IPY_MODEL_2555ff5e70d54ca8b803dc6dcec17c25",
              "IPY_MODEL_465ec776125d4ce9a07732b2ee117e9a"
            ]
          }
        },
        "11b6147393224040975efba0c7ec58ae": {
          "model_module": "@jupyter-widgets/base",
          "model_name": "LayoutModel",
          "state": {
            "_view_name": "LayoutView",
            "grid_template_rows": null,
            "right": null,
            "justify_content": null,
            "_view_module": "@jupyter-widgets/base",
            "overflow": null,
            "_model_module_version": "1.2.0",
            "_view_count": null,
            "flex_flow": null,
            "width": null,
            "min_width": null,
            "border": null,
            "align_items": null,
            "bottom": null,
            "_model_module": "@jupyter-widgets/base",
            "top": null,
            "grid_column": null,
            "overflow_y": null,
            "overflow_x": null,
            "grid_auto_flow": null,
            "grid_area": null,
            "grid_template_columns": null,
            "flex": null,
            "_model_name": "LayoutModel",
            "justify_items": null,
            "grid_row": null,
            "max_height": null,
            "align_content": null,
            "visibility": null,
            "align_self": null,
            "height": null,
            "min_height": null,
            "padding": null,
            "grid_auto_rows": null,
            "grid_gap": null,
            "max_width": null,
            "order": null,
            "_view_module_version": "1.2.0",
            "grid_template_areas": null,
            "object_position": null,
            "object_fit": null,
            "grid_auto_columns": null,
            "margin": null,
            "display": null,
            "left": null
          }
        },
        "2555ff5e70d54ca8b803dc6dcec17c25": {
          "model_module": "@jupyter-widgets/controls",
          "model_name": "FloatProgressModel",
          "state": {
            "_view_name": "ProgressView",
            "style": "IPY_MODEL_bf1c7526843a4e4ca7717c7aa5c9f77f",
            "_dom_classes": [],
            "description": "Downloading: 100%",
            "_model_name": "FloatProgressModel",
            "bar_style": "success",
            "max": 508,
            "_view_module": "@jupyter-widgets/controls",
            "_model_module_version": "1.5.0",
            "value": 508,
            "_view_count": null,
            "_view_module_version": "1.5.0",
            "orientation": "horizontal",
            "min": 0,
            "description_tooltip": null,
            "_model_module": "@jupyter-widgets/controls",
            "layout": "IPY_MODEL_b433dd5c4b92401d9b6bf4629374556c"
          }
        },
        "465ec776125d4ce9a07732b2ee117e9a": {
          "model_module": "@jupyter-widgets/controls",
          "model_name": "HTMLModel",
          "state": {
            "_view_name": "HTMLView",
            "style": "IPY_MODEL_cd78b093436247fca11f74ccfc51b33e",
            "_dom_classes": [],
            "description": "",
            "_model_name": "HTMLModel",
            "placeholder": "​",
            "_view_module": "@jupyter-widgets/controls",
            "_model_module_version": "1.5.0",
            "value": " 508/508 [00:12&lt;00:00, 41.6B/s]",
            "_view_count": null,
            "_view_module_version": "1.5.0",
            "description_tooltip": null,
            "_model_module": "@jupyter-widgets/controls",
            "layout": "IPY_MODEL_993b9c232547421a8ab785bfb059f10e"
          }
        },
        "bf1c7526843a4e4ca7717c7aa5c9f77f": {
          "model_module": "@jupyter-widgets/controls",
          "model_name": "ProgressStyleModel",
          "state": {
            "_view_name": "StyleView",
            "_model_name": "ProgressStyleModel",
            "description_width": "initial",
            "_view_module": "@jupyter-widgets/base",
            "_model_module_version": "1.5.0",
            "_view_count": null,
            "_view_module_version": "1.2.0",
            "bar_color": null,
            "_model_module": "@jupyter-widgets/controls"
          }
        },
        "b433dd5c4b92401d9b6bf4629374556c": {
          "model_module": "@jupyter-widgets/base",
          "model_name": "LayoutModel",
          "state": {
            "_view_name": "LayoutView",
            "grid_template_rows": null,
            "right": null,
            "justify_content": null,
            "_view_module": "@jupyter-widgets/base",
            "overflow": null,
            "_model_module_version": "1.2.0",
            "_view_count": null,
            "flex_flow": null,
            "width": null,
            "min_width": null,
            "border": null,
            "align_items": null,
            "bottom": null,
            "_model_module": "@jupyter-widgets/base",
            "top": null,
            "grid_column": null,
            "overflow_y": null,
            "overflow_x": null,
            "grid_auto_flow": null,
            "grid_area": null,
            "grid_template_columns": null,
            "flex": null,
            "_model_name": "LayoutModel",
            "justify_items": null,
            "grid_row": null,
            "max_height": null,
            "align_content": null,
            "visibility": null,
            "align_self": null,
            "height": null,
            "min_height": null,
            "padding": null,
            "grid_auto_rows": null,
            "grid_gap": null,
            "max_width": null,
            "order": null,
            "_view_module_version": "1.2.0",
            "grid_template_areas": null,
            "object_position": null,
            "object_fit": null,
            "grid_auto_columns": null,
            "margin": null,
            "display": null,
            "left": null
          }
        },
        "cd78b093436247fca11f74ccfc51b33e": {
          "model_module": "@jupyter-widgets/controls",
          "model_name": "DescriptionStyleModel",
          "state": {
            "_view_name": "StyleView",
            "_model_name": "DescriptionStyleModel",
            "description_width": "",
            "_view_module": "@jupyter-widgets/base",
            "_model_module_version": "1.5.0",
            "_view_count": null,
            "_view_module_version": "1.2.0",
            "_model_module": "@jupyter-widgets/controls"
          }
        },
        "993b9c232547421a8ab785bfb059f10e": {
          "model_module": "@jupyter-widgets/base",
          "model_name": "LayoutModel",
          "state": {
            "_view_name": "LayoutView",
            "grid_template_rows": null,
            "right": null,
            "justify_content": null,
            "_view_module": "@jupyter-widgets/base",
            "overflow": null,
            "_model_module_version": "1.2.0",
            "_view_count": null,
            "flex_flow": null,
            "width": null,
            "min_width": null,
            "border": null,
            "align_items": null,
            "bottom": null,
            "_model_module": "@jupyter-widgets/base",
            "top": null,
            "grid_column": null,
            "overflow_y": null,
            "overflow_x": null,
            "grid_auto_flow": null,
            "grid_area": null,
            "grid_template_columns": null,
            "flex": null,
            "_model_name": "LayoutModel",
            "justify_items": null,
            "grid_row": null,
            "max_height": null,
            "align_content": null,
            "visibility": null,
            "align_self": null,
            "height": null,
            "min_height": null,
            "padding": null,
            "grid_auto_rows": null,
            "grid_gap": null,
            "max_width": null,
            "order": null,
            "_view_module_version": "1.2.0",
            "grid_template_areas": null,
            "object_position": null,
            "object_fit": null,
            "grid_auto_columns": null,
            "margin": null,
            "display": null,
            "left": null
          }
        },
        "a7334a73585f4763bf71c804a94ad34f": {
          "model_module": "@jupyter-widgets/controls",
          "model_name": "HBoxModel",
          "state": {
            "_view_name": "HBoxView",
            "_dom_classes": [],
            "_model_name": "HBoxModel",
            "_view_module": "@jupyter-widgets/controls",
            "_model_module_version": "1.5.0",
            "_view_count": null,
            "_view_module_version": "1.5.0",
            "box_style": "",
            "layout": "IPY_MODEL_74a1c6cda540465188a966466c395168",
            "_model_module": "@jupyter-widgets/controls",
            "children": [
              "IPY_MODEL_2bf55a5a541749929b9cf591e124f84f",
              "IPY_MODEL_472302e5ac714c37b3bedf976b8ec96c"
            ]
          }
        },
        "74a1c6cda540465188a966466c395168": {
          "model_module": "@jupyter-widgets/base",
          "model_name": "LayoutModel",
          "state": {
            "_view_name": "LayoutView",
            "grid_template_rows": null,
            "right": null,
            "justify_content": null,
            "_view_module": "@jupyter-widgets/base",
            "overflow": null,
            "_model_module_version": "1.2.0",
            "_view_count": null,
            "flex_flow": null,
            "width": null,
            "min_width": null,
            "border": null,
            "align_items": null,
            "bottom": null,
            "_model_module": "@jupyter-widgets/base",
            "top": null,
            "grid_column": null,
            "overflow_y": null,
            "overflow_x": null,
            "grid_auto_flow": null,
            "grid_area": null,
            "grid_template_columns": null,
            "flex": null,
            "_model_name": "LayoutModel",
            "justify_items": null,
            "grid_row": null,
            "max_height": null,
            "align_content": null,
            "visibility": null,
            "align_self": null,
            "height": null,
            "min_height": null,
            "padding": null,
            "grid_auto_rows": null,
            "grid_gap": null,
            "max_width": null,
            "order": null,
            "_view_module_version": "1.2.0",
            "grid_template_areas": null,
            "object_position": null,
            "object_fit": null,
            "grid_auto_columns": null,
            "margin": null,
            "display": null,
            "left": null
          }
        },
        "2bf55a5a541749929b9cf591e124f84f": {
          "model_module": "@jupyter-widgets/controls",
          "model_name": "FloatProgressModel",
          "state": {
            "_view_name": "ProgressView",
            "style": "IPY_MODEL_29fe0c3a7acd49718c279e79f1032217",
            "_dom_classes": [],
            "description": "Downloading: 100%",
            "_model_name": "FloatProgressModel",
            "bar_style": "success",
            "max": 433294681,
            "_view_module": "@jupyter-widgets/controls",
            "_model_module_version": "1.5.0",
            "value": 433294681,
            "_view_count": null,
            "_view_module_version": "1.5.0",
            "orientation": "horizontal",
            "min": 0,
            "description_tooltip": null,
            "_model_module": "@jupyter-widgets/controls",
            "layout": "IPY_MODEL_b8d3502beb1543d891c8cf3d43ec6ada"
          }
        },
        "472302e5ac714c37b3bedf976b8ec96c": {
          "model_module": "@jupyter-widgets/controls",
          "model_name": "HTMLModel",
          "state": {
            "_view_name": "HTMLView",
            "style": "IPY_MODEL_5d5c2faecf414447b40394ed9183b2ce",
            "_dom_classes": [],
            "description": "",
            "_model_name": "HTMLModel",
            "placeholder": "​",
            "_view_module": "@jupyter-widgets/controls",
            "_model_module_version": "1.5.0",
            "value": " 433M/433M [00:11&lt;00:00, 37.1MB/s]",
            "_view_count": null,
            "_view_module_version": "1.5.0",
            "description_tooltip": null,
            "_model_module": "@jupyter-widgets/controls",
            "layout": "IPY_MODEL_a4f7a773d33141ed96687ee45d5bc201"
          }
        },
        "29fe0c3a7acd49718c279e79f1032217": {
          "model_module": "@jupyter-widgets/controls",
          "model_name": "ProgressStyleModel",
          "state": {
            "_view_name": "StyleView",
            "_model_name": "ProgressStyleModel",
            "description_width": "initial",
            "_view_module": "@jupyter-widgets/base",
            "_model_module_version": "1.5.0",
            "_view_count": null,
            "_view_module_version": "1.2.0",
            "bar_color": null,
            "_model_module": "@jupyter-widgets/controls"
          }
        },
        "b8d3502beb1543d891c8cf3d43ec6ada": {
          "model_module": "@jupyter-widgets/base",
          "model_name": "LayoutModel",
          "state": {
            "_view_name": "LayoutView",
            "grid_template_rows": null,
            "right": null,
            "justify_content": null,
            "_view_module": "@jupyter-widgets/base",
            "overflow": null,
            "_model_module_version": "1.2.0",
            "_view_count": null,
            "flex_flow": null,
            "width": null,
            "min_width": null,
            "border": null,
            "align_items": null,
            "bottom": null,
            "_model_module": "@jupyter-widgets/base",
            "top": null,
            "grid_column": null,
            "overflow_y": null,
            "overflow_x": null,
            "grid_auto_flow": null,
            "grid_area": null,
            "grid_template_columns": null,
            "flex": null,
            "_model_name": "LayoutModel",
            "justify_items": null,
            "grid_row": null,
            "max_height": null,
            "align_content": null,
            "visibility": null,
            "align_self": null,
            "height": null,
            "min_height": null,
            "padding": null,
            "grid_auto_rows": null,
            "grid_gap": null,
            "max_width": null,
            "order": null,
            "_view_module_version": "1.2.0",
            "grid_template_areas": null,
            "object_position": null,
            "object_fit": null,
            "grid_auto_columns": null,
            "margin": null,
            "display": null,
            "left": null
          }
        },
        "5d5c2faecf414447b40394ed9183b2ce": {
          "model_module": "@jupyter-widgets/controls",
          "model_name": "DescriptionStyleModel",
          "state": {
            "_view_name": "StyleView",
            "_model_name": "DescriptionStyleModel",
            "description_width": "",
            "_view_module": "@jupyter-widgets/base",
            "_model_module_version": "1.5.0",
            "_view_count": null,
            "_view_module_version": "1.2.0",
            "_model_module": "@jupyter-widgets/controls"
          }
        },
        "a4f7a773d33141ed96687ee45d5bc201": {
          "model_module": "@jupyter-widgets/base",
          "model_name": "LayoutModel",
          "state": {
            "_view_name": "LayoutView",
            "grid_template_rows": null,
            "right": null,
            "justify_content": null,
            "_view_module": "@jupyter-widgets/base",
            "overflow": null,
            "_model_module_version": "1.2.0",
            "_view_count": null,
            "flex_flow": null,
            "width": null,
            "min_width": null,
            "border": null,
            "align_items": null,
            "bottom": null,
            "_model_module": "@jupyter-widgets/base",
            "top": null,
            "grid_column": null,
            "overflow_y": null,
            "overflow_x": null,
            "grid_auto_flow": null,
            "grid_area": null,
            "grid_template_columns": null,
            "flex": null,
            "_model_name": "LayoutModel",
            "justify_items": null,
            "grid_row": null,
            "max_height": null,
            "align_content": null,
            "visibility": null,
            "align_self": null,
            "height": null,
            "min_height": null,
            "padding": null,
            "grid_auto_rows": null,
            "grid_gap": null,
            "max_width": null,
            "order": null,
            "_view_module_version": "1.2.0",
            "grid_template_areas": null,
            "object_position": null,
            "object_fit": null,
            "grid_auto_columns": null,
            "margin": null,
            "display": null,
            "left": null
          }
        },
        "ef145ad35a444c0696607702bedb4806": {
          "model_module": "@jupyter-widgets/controls",
          "model_name": "HBoxModel",
          "state": {
            "_view_name": "HBoxView",
            "_dom_classes": [],
            "_model_name": "HBoxModel",
            "_view_module": "@jupyter-widgets/controls",
            "_model_module_version": "1.5.0",
            "_view_count": null,
            "_view_module_version": "1.5.0",
            "box_style": "",
            "layout": "IPY_MODEL_16f960a1f74842bab2b22948bd89c564",
            "_model_module": "@jupyter-widgets/controls",
            "children": [
              "IPY_MODEL_0341dba2cb2e4d8095fdff5967f62f94",
              "IPY_MODEL_1013c6edc4d64cf6a3431c874f360f0f"
            ]
          }
        },
        "16f960a1f74842bab2b22948bd89c564": {
          "model_module": "@jupyter-widgets/base",
          "model_name": "LayoutModel",
          "state": {
            "_view_name": "LayoutView",
            "grid_template_rows": null,
            "right": null,
            "justify_content": null,
            "_view_module": "@jupyter-widgets/base",
            "overflow": null,
            "_model_module_version": "1.2.0",
            "_view_count": null,
            "flex_flow": null,
            "width": null,
            "min_width": null,
            "border": null,
            "align_items": null,
            "bottom": null,
            "_model_module": "@jupyter-widgets/base",
            "top": null,
            "grid_column": null,
            "overflow_y": null,
            "overflow_x": null,
            "grid_auto_flow": null,
            "grid_area": null,
            "grid_template_columns": null,
            "flex": null,
            "_model_name": "LayoutModel",
            "justify_items": null,
            "grid_row": null,
            "max_height": null,
            "align_content": null,
            "visibility": null,
            "align_self": null,
            "height": null,
            "min_height": null,
            "padding": null,
            "grid_auto_rows": null,
            "grid_gap": null,
            "max_width": null,
            "order": null,
            "_view_module_version": "1.2.0",
            "grid_template_areas": null,
            "object_position": null,
            "object_fit": null,
            "grid_auto_columns": null,
            "margin": null,
            "display": null,
            "left": null
          }
        },
        "0341dba2cb2e4d8095fdff5967f62f94": {
          "model_module": "@jupyter-widgets/controls",
          "model_name": "FloatProgressModel",
          "state": {
            "_view_name": "ProgressView",
            "style": "IPY_MODEL_4c87f22aad014309b67ed37e5696200d",
            "_dom_classes": [],
            "description": "Downloading: 100%",
            "_model_name": "FloatProgressModel",
            "bar_style": "success",
            "max": 213450,
            "_view_module": "@jupyter-widgets/controls",
            "_model_module_version": "1.5.0",
            "value": 213450,
            "_view_count": null,
            "_view_module_version": "1.5.0",
            "orientation": "horizontal",
            "min": 0,
            "description_tooltip": null,
            "_model_module": "@jupyter-widgets/controls",
            "layout": "IPY_MODEL_4c128a18eaa8457f80799b97bd7bf238"
          }
        },
        "1013c6edc4d64cf6a3431c874f360f0f": {
          "model_module": "@jupyter-widgets/controls",
          "model_name": "HTMLModel",
          "state": {
            "_view_name": "HTMLView",
            "style": "IPY_MODEL_70d78b7b916e4b489cddce524b42a3b0",
            "_dom_classes": [],
            "description": "",
            "_model_name": "HTMLModel",
            "placeholder": "​",
            "_view_module": "@jupyter-widgets/controls",
            "_model_module_version": "1.5.0",
            "value": " 213k/213k [00:00&lt;00:00, 374kB/s]",
            "_view_count": null,
            "_view_module_version": "1.5.0",
            "description_tooltip": null,
            "_model_module": "@jupyter-widgets/controls",
            "layout": "IPY_MODEL_9187befc0172496ea1dd31848f951986"
          }
        },
        "4c87f22aad014309b67ed37e5696200d": {
          "model_module": "@jupyter-widgets/controls",
          "model_name": "ProgressStyleModel",
          "state": {
            "_view_name": "StyleView",
            "_model_name": "ProgressStyleModel",
            "description_width": "initial",
            "_view_module": "@jupyter-widgets/base",
            "_model_module_version": "1.5.0",
            "_view_count": null,
            "_view_module_version": "1.2.0",
            "bar_color": null,
            "_model_module": "@jupyter-widgets/controls"
          }
        },
        "4c128a18eaa8457f80799b97bd7bf238": {
          "model_module": "@jupyter-widgets/base",
          "model_name": "LayoutModel",
          "state": {
            "_view_name": "LayoutView",
            "grid_template_rows": null,
            "right": null,
            "justify_content": null,
            "_view_module": "@jupyter-widgets/base",
            "overflow": null,
            "_model_module_version": "1.2.0",
            "_view_count": null,
            "flex_flow": null,
            "width": null,
            "min_width": null,
            "border": null,
            "align_items": null,
            "bottom": null,
            "_model_module": "@jupyter-widgets/base",
            "top": null,
            "grid_column": null,
            "overflow_y": null,
            "overflow_x": null,
            "grid_auto_flow": null,
            "grid_area": null,
            "grid_template_columns": null,
            "flex": null,
            "_model_name": "LayoutModel",
            "justify_items": null,
            "grid_row": null,
            "max_height": null,
            "align_content": null,
            "visibility": null,
            "align_self": null,
            "height": null,
            "min_height": null,
            "padding": null,
            "grid_auto_rows": null,
            "grid_gap": null,
            "max_width": null,
            "order": null,
            "_view_module_version": "1.2.0",
            "grid_template_areas": null,
            "object_position": null,
            "object_fit": null,
            "grid_auto_columns": null,
            "margin": null,
            "display": null,
            "left": null
          }
        },
        "70d78b7b916e4b489cddce524b42a3b0": {
          "model_module": "@jupyter-widgets/controls",
          "model_name": "DescriptionStyleModel",
          "state": {
            "_view_name": "StyleView",
            "_model_name": "DescriptionStyleModel",
            "description_width": "",
            "_view_module": "@jupyter-widgets/base",
            "_model_module_version": "1.5.0",
            "_view_count": null,
            "_view_module_version": "1.2.0",
            "_model_module": "@jupyter-widgets/controls"
          }
        },
        "9187befc0172496ea1dd31848f951986": {
          "model_module": "@jupyter-widgets/base",
          "model_name": "LayoutModel",
          "state": {
            "_view_name": "LayoutView",
            "grid_template_rows": null,
            "right": null,
            "justify_content": null,
            "_view_module": "@jupyter-widgets/base",
            "overflow": null,
            "_model_module_version": "1.2.0",
            "_view_count": null,
            "flex_flow": null,
            "width": null,
            "min_width": null,
            "border": null,
            "align_items": null,
            "bottom": null,
            "_model_module": "@jupyter-widgets/base",
            "top": null,
            "grid_column": null,
            "overflow_y": null,
            "overflow_x": null,
            "grid_auto_flow": null,
            "grid_area": null,
            "grid_template_columns": null,
            "flex": null,
            "_model_name": "LayoutModel",
            "justify_items": null,
            "grid_row": null,
            "max_height": null,
            "align_content": null,
            "visibility": null,
            "align_self": null,
            "height": null,
            "min_height": null,
            "padding": null,
            "grid_auto_rows": null,
            "grid_gap": null,
            "max_width": null,
            "order": null,
            "_view_module_version": "1.2.0",
            "grid_template_areas": null,
            "object_position": null,
            "object_fit": null,
            "grid_auto_columns": null,
            "margin": null,
            "display": null,
            "left": null
          }
        },
        "6d8a955c2b51463a845f7d375a90a505": {
          "model_module": "@jupyter-widgets/controls",
          "model_name": "HBoxModel",
          "state": {
            "_view_name": "HBoxView",
            "_dom_classes": [],
            "_model_name": "HBoxModel",
            "_view_module": "@jupyter-widgets/controls",
            "_model_module_version": "1.5.0",
            "_view_count": null,
            "_view_module_version": "1.5.0",
            "box_style": "",
            "layout": "IPY_MODEL_22aaa5e65a5643e1b57c66569a9e3bf1",
            "_model_module": "@jupyter-widgets/controls",
            "children": [
              "IPY_MODEL_996bcb62831c49f1a7175b981dc7e83e",
              "IPY_MODEL_d926f818168d48ae98a91dd663089629"
            ]
          }
        },
        "22aaa5e65a5643e1b57c66569a9e3bf1": {
          "model_module": "@jupyter-widgets/base",
          "model_name": "LayoutModel",
          "state": {
            "_view_name": "LayoutView",
            "grid_template_rows": null,
            "right": null,
            "justify_content": null,
            "_view_module": "@jupyter-widgets/base",
            "overflow": null,
            "_model_module_version": "1.2.0",
            "_view_count": null,
            "flex_flow": null,
            "width": null,
            "min_width": null,
            "border": null,
            "align_items": null,
            "bottom": null,
            "_model_module": "@jupyter-widgets/base",
            "top": null,
            "grid_column": null,
            "overflow_y": null,
            "overflow_x": null,
            "grid_auto_flow": null,
            "grid_area": null,
            "grid_template_columns": null,
            "flex": null,
            "_model_name": "LayoutModel",
            "justify_items": null,
            "grid_row": null,
            "max_height": null,
            "align_content": null,
            "visibility": null,
            "align_self": null,
            "height": null,
            "min_height": null,
            "padding": null,
            "grid_auto_rows": null,
            "grid_gap": null,
            "max_width": null,
            "order": null,
            "_view_module_version": "1.2.0",
            "grid_template_areas": null,
            "object_position": null,
            "object_fit": null,
            "grid_auto_columns": null,
            "margin": null,
            "display": null,
            "left": null
          }
        },
        "996bcb62831c49f1a7175b981dc7e83e": {
          "model_module": "@jupyter-widgets/controls",
          "model_name": "FloatProgressModel",
          "state": {
            "_view_name": "ProgressView",
            "style": "IPY_MODEL_f74ac23eae2e4d70865a05bcccac85d1",
            "_dom_classes": [],
            "description": "Downloading: 100%",
            "_model_name": "FloatProgressModel",
            "bar_style": "success",
            "max": 112,
            "_view_module": "@jupyter-widgets/controls",
            "_model_module_version": "1.5.0",
            "value": 112,
            "_view_count": null,
            "_view_module_version": "1.5.0",
            "orientation": "horizontal",
            "min": 0,
            "description_tooltip": null,
            "_model_module": "@jupyter-widgets/controls",
            "layout": "IPY_MODEL_a4c8e613d65c4162ae49cd57aff7cdce"
          }
        },
        "d926f818168d48ae98a91dd663089629": {
          "model_module": "@jupyter-widgets/controls",
          "model_name": "HTMLModel",
          "state": {
            "_view_name": "HTMLView",
            "style": "IPY_MODEL_4a0ef2733243484aa4dc05f1140e839a",
            "_dom_classes": [],
            "description": "",
            "_model_name": "HTMLModel",
            "placeholder": "​",
            "_view_module": "@jupyter-widgets/controls",
            "_model_module_version": "1.5.0",
            "value": " 112/112 [00:00&lt;00:00, 286B/s]",
            "_view_count": null,
            "_view_module_version": "1.5.0",
            "description_tooltip": null,
            "_model_module": "@jupyter-widgets/controls",
            "layout": "IPY_MODEL_e1368b8b78c84ac98a32c4b265802875"
          }
        },
        "f74ac23eae2e4d70865a05bcccac85d1": {
          "model_module": "@jupyter-widgets/controls",
          "model_name": "ProgressStyleModel",
          "state": {
            "_view_name": "StyleView",
            "_model_name": "ProgressStyleModel",
            "description_width": "initial",
            "_view_module": "@jupyter-widgets/base",
            "_model_module_version": "1.5.0",
            "_view_count": null,
            "_view_module_version": "1.2.0",
            "bar_color": null,
            "_model_module": "@jupyter-widgets/controls"
          }
        },
        "a4c8e613d65c4162ae49cd57aff7cdce": {
          "model_module": "@jupyter-widgets/base",
          "model_name": "LayoutModel",
          "state": {
            "_view_name": "LayoutView",
            "grid_template_rows": null,
            "right": null,
            "justify_content": null,
            "_view_module": "@jupyter-widgets/base",
            "overflow": null,
            "_model_module_version": "1.2.0",
            "_view_count": null,
            "flex_flow": null,
            "width": null,
            "min_width": null,
            "border": null,
            "align_items": null,
            "bottom": null,
            "_model_module": "@jupyter-widgets/base",
            "top": null,
            "grid_column": null,
            "overflow_y": null,
            "overflow_x": null,
            "grid_auto_flow": null,
            "grid_area": null,
            "grid_template_columns": null,
            "flex": null,
            "_model_name": "LayoutModel",
            "justify_items": null,
            "grid_row": null,
            "max_height": null,
            "align_content": null,
            "visibility": null,
            "align_self": null,
            "height": null,
            "min_height": null,
            "padding": null,
            "grid_auto_rows": null,
            "grid_gap": null,
            "max_width": null,
            "order": null,
            "_view_module_version": "1.2.0",
            "grid_template_areas": null,
            "object_position": null,
            "object_fit": null,
            "grid_auto_columns": null,
            "margin": null,
            "display": null,
            "left": null
          }
        },
        "4a0ef2733243484aa4dc05f1140e839a": {
          "model_module": "@jupyter-widgets/controls",
          "model_name": "DescriptionStyleModel",
          "state": {
            "_view_name": "StyleView",
            "_model_name": "DescriptionStyleModel",
            "description_width": "",
            "_view_module": "@jupyter-widgets/base",
            "_model_module_version": "1.5.0",
            "_view_count": null,
            "_view_module_version": "1.2.0",
            "_model_module": "@jupyter-widgets/controls"
          }
        },
        "e1368b8b78c84ac98a32c4b265802875": {
          "model_module": "@jupyter-widgets/base",
          "model_name": "LayoutModel",
          "state": {
            "_view_name": "LayoutView",
            "grid_template_rows": null,
            "right": null,
            "justify_content": null,
            "_view_module": "@jupyter-widgets/base",
            "overflow": null,
            "_model_module_version": "1.2.0",
            "_view_count": null,
            "flex_flow": null,
            "width": null,
            "min_width": null,
            "border": null,
            "align_items": null,
            "bottom": null,
            "_model_module": "@jupyter-widgets/base",
            "top": null,
            "grid_column": null,
            "overflow_y": null,
            "overflow_x": null,
            "grid_auto_flow": null,
            "grid_area": null,
            "grid_template_columns": null,
            "flex": null,
            "_model_name": "LayoutModel",
            "justify_items": null,
            "grid_row": null,
            "max_height": null,
            "align_content": null,
            "visibility": null,
            "align_self": null,
            "height": null,
            "min_height": null,
            "padding": null,
            "grid_auto_rows": null,
            "grid_gap": null,
            "max_width": null,
            "order": null,
            "_view_module_version": "1.2.0",
            "grid_template_areas": null,
            "object_position": null,
            "object_fit": null,
            "grid_auto_columns": null,
            "margin": null,
            "display": null,
            "left": null
          }
        },
        "5e8640f975424dbfb9afa9db4fd378f6": {
          "model_module": "@jupyter-widgets/controls",
          "model_name": "HBoxModel",
          "state": {
            "_view_name": "HBoxView",
            "_dom_classes": [],
            "_model_name": "HBoxModel",
            "_view_module": "@jupyter-widgets/controls",
            "_model_module_version": "1.5.0",
            "_view_count": null,
            "_view_module_version": "1.5.0",
            "box_style": "",
            "layout": "IPY_MODEL_762146fec7814568bb182d9abf2a50b7",
            "_model_module": "@jupyter-widgets/controls",
            "children": [
              "IPY_MODEL_4c483b7c0e6f453ca08e75cecc3be46a",
              "IPY_MODEL_7d393bc3ab604e4083aff7e49d18d941"
            ]
          }
        },
        "762146fec7814568bb182d9abf2a50b7": {
          "model_module": "@jupyter-widgets/base",
          "model_name": "LayoutModel",
          "state": {
            "_view_name": "LayoutView",
            "grid_template_rows": null,
            "right": null,
            "justify_content": null,
            "_view_module": "@jupyter-widgets/base",
            "overflow": null,
            "_model_module_version": "1.2.0",
            "_view_count": null,
            "flex_flow": null,
            "width": null,
            "min_width": null,
            "border": null,
            "align_items": null,
            "bottom": null,
            "_model_module": "@jupyter-widgets/base",
            "top": null,
            "grid_column": null,
            "overflow_y": null,
            "overflow_x": null,
            "grid_auto_flow": null,
            "grid_area": null,
            "grid_template_columns": null,
            "flex": null,
            "_model_name": "LayoutModel",
            "justify_items": null,
            "grid_row": null,
            "max_height": null,
            "align_content": null,
            "visibility": null,
            "align_self": null,
            "height": null,
            "min_height": null,
            "padding": null,
            "grid_auto_rows": null,
            "grid_gap": null,
            "max_width": null,
            "order": null,
            "_view_module_version": "1.2.0",
            "grid_template_areas": null,
            "object_position": null,
            "object_fit": null,
            "grid_auto_columns": null,
            "margin": null,
            "display": null,
            "left": null
          }
        },
        "4c483b7c0e6f453ca08e75cecc3be46a": {
          "model_module": "@jupyter-widgets/controls",
          "model_name": "FloatProgressModel",
          "state": {
            "_view_name": "ProgressView",
            "style": "IPY_MODEL_2eee9a6800964d77ad030396bc5b3a5e",
            "_dom_classes": [],
            "description": "Downloading: 100%",
            "_model_name": "FloatProgressModel",
            "bar_style": "success",
            "max": 152,
            "_view_module": "@jupyter-widgets/controls",
            "_model_module_version": "1.5.0",
            "value": 152,
            "_view_count": null,
            "_view_module_version": "1.5.0",
            "orientation": "horizontal",
            "min": 0,
            "description_tooltip": null,
            "_model_module": "@jupyter-widgets/controls",
            "layout": "IPY_MODEL_9eb25d2e6bb743548dddc59b797847a9"
          }
        },
        "7d393bc3ab604e4083aff7e49d18d941": {
          "model_module": "@jupyter-widgets/controls",
          "model_name": "HTMLModel",
          "state": {
            "_view_name": "HTMLView",
            "style": "IPY_MODEL_d225badaae774f82a8b9ed16ef20f99b",
            "_dom_classes": [],
            "description": "",
            "_model_name": "HTMLModel",
            "placeholder": "​",
            "_view_module": "@jupyter-widgets/controls",
            "_model_module_version": "1.5.0",
            "value": " 152/152 [00:00&lt;00:00, 2.08kB/s]",
            "_view_count": null,
            "_view_module_version": "1.5.0",
            "description_tooltip": null,
            "_model_module": "@jupyter-widgets/controls",
            "layout": "IPY_MODEL_80ded39a1c6f4afd85ac5857d12b0ca4"
          }
        },
        "2eee9a6800964d77ad030396bc5b3a5e": {
          "model_module": "@jupyter-widgets/controls",
          "model_name": "ProgressStyleModel",
          "state": {
            "_view_name": "StyleView",
            "_model_name": "ProgressStyleModel",
            "description_width": "initial",
            "_view_module": "@jupyter-widgets/base",
            "_model_module_version": "1.5.0",
            "_view_count": null,
            "_view_module_version": "1.2.0",
            "bar_color": null,
            "_model_module": "@jupyter-widgets/controls"
          }
        },
        "9eb25d2e6bb743548dddc59b797847a9": {
          "model_module": "@jupyter-widgets/base",
          "model_name": "LayoutModel",
          "state": {
            "_view_name": "LayoutView",
            "grid_template_rows": null,
            "right": null,
            "justify_content": null,
            "_view_module": "@jupyter-widgets/base",
            "overflow": null,
            "_model_module_version": "1.2.0",
            "_view_count": null,
            "flex_flow": null,
            "width": null,
            "min_width": null,
            "border": null,
            "align_items": null,
            "bottom": null,
            "_model_module": "@jupyter-widgets/base",
            "top": null,
            "grid_column": null,
            "overflow_y": null,
            "overflow_x": null,
            "grid_auto_flow": null,
            "grid_area": null,
            "grid_template_columns": null,
            "flex": null,
            "_model_name": "LayoutModel",
            "justify_items": null,
            "grid_row": null,
            "max_height": null,
            "align_content": null,
            "visibility": null,
            "align_self": null,
            "height": null,
            "min_height": null,
            "padding": null,
            "grid_auto_rows": null,
            "grid_gap": null,
            "max_width": null,
            "order": null,
            "_view_module_version": "1.2.0",
            "grid_template_areas": null,
            "object_position": null,
            "object_fit": null,
            "grid_auto_columns": null,
            "margin": null,
            "display": null,
            "left": null
          }
        },
        "d225badaae774f82a8b9ed16ef20f99b": {
          "model_module": "@jupyter-widgets/controls",
          "model_name": "DescriptionStyleModel",
          "state": {
            "_view_name": "StyleView",
            "_model_name": "DescriptionStyleModel",
            "description_width": "",
            "_view_module": "@jupyter-widgets/base",
            "_model_module_version": "1.5.0",
            "_view_count": null,
            "_view_module_version": "1.2.0",
            "_model_module": "@jupyter-widgets/controls"
          }
        },
        "80ded39a1c6f4afd85ac5857d12b0ca4": {
          "model_module": "@jupyter-widgets/base",
          "model_name": "LayoutModel",
          "state": {
            "_view_name": "LayoutView",
            "grid_template_rows": null,
            "right": null,
            "justify_content": null,
            "_view_module": "@jupyter-widgets/base",
            "overflow": null,
            "_model_module_version": "1.2.0",
            "_view_count": null,
            "flex_flow": null,
            "width": null,
            "min_width": null,
            "border": null,
            "align_items": null,
            "bottom": null,
            "_model_module": "@jupyter-widgets/base",
            "top": null,
            "grid_column": null,
            "overflow_y": null,
            "overflow_x": null,
            "grid_auto_flow": null,
            "grid_area": null,
            "grid_template_columns": null,
            "flex": null,
            "_model_name": "LayoutModel",
            "justify_items": null,
            "grid_row": null,
            "max_height": null,
            "align_content": null,
            "visibility": null,
            "align_self": null,
            "height": null,
            "min_height": null,
            "padding": null,
            "grid_auto_rows": null,
            "grid_gap": null,
            "max_width": null,
            "order": null,
            "_view_module_version": "1.2.0",
            "grid_template_areas": null,
            "object_position": null,
            "object_fit": null,
            "grid_auto_columns": null,
            "margin": null,
            "display": null,
            "left": null
          }
        }
      }
    }
  },
  "cells": [
    {
      "cell_type": "markdown",
      "metadata": {
        "id": "GourIPMiTJHQ"
      },
      "source": [
        "# **POLITICAL QUESTION-ANSWERING**"
      ]
    },
    {
      "cell_type": "markdown",
      "metadata": {
        "id": "otIYG_sAmFQs"
      },
      "source": [
        "# **Installation + Set-Up**"
      ]
    },
    {
      "cell_type": "code",
      "metadata": {
        "id": "ZjsU1R1_7ZcD",
        "colab": {
          "base_uri": "https://localhost:8080/"
        },
        "outputId": "5d1f3f41-598e-4ccd-df4a-f49bf96c2ad9"
      },
      "source": [
        "!pip install tokenizers\n",
        "!pip install transformers\n",
        "\n",
        "import os\n",
        "import tweepy as tw\n",
        "import pandas as pd\n",
        "from google.colab import files\n",
        "import numpy as np\n",
        "import re\n",
        "import json\n",
        "import string\n",
        "from transformers import BertTokenizer, TFBertForQuestionAnswering\n",
        "import torch\n",
        "import tensorflow as tf\n",
        "import nltk"
      ],
      "execution_count": null,
      "outputs": [
        {
          "output_type": "stream",
          "text": [
            "Collecting tokenizers\n",
            "\u001b[?25l  Downloading https://files.pythonhosted.org/packages/ae/04/5b870f26a858552025a62f1649c20d29d2672c02ff3c3fb4c688ca46467a/tokenizers-0.10.2-cp37-cp37m-manylinux2010_x86_64.whl (3.3MB)\n",
            "\u001b[K     |████████████████████████████████| 3.3MB 3.9MB/s \n",
            "\u001b[?25hInstalling collected packages: tokenizers\n",
            "Successfully installed tokenizers-0.10.2\n",
            "Collecting transformers\n",
            "\u001b[?25l  Downloading https://files.pythonhosted.org/packages/d5/43/cfe4ee779bbd6a678ac6a97c5a5cdeb03c35f9eaebbb9720b036680f9a2d/transformers-4.6.1-py3-none-any.whl (2.2MB)\n",
            "\u001b[K     |████████████████████████████████| 2.3MB 4.0MB/s \n",
            "\u001b[?25hCollecting sacremoses\n",
            "\u001b[?25l  Downloading https://files.pythonhosted.org/packages/75/ee/67241dc87f266093c533a2d4d3d69438e57d7a90abb216fa076e7d475d4a/sacremoses-0.0.45-py3-none-any.whl (895kB)\n",
            "\u001b[K     |████████████████████████████████| 901kB 38.3MB/s \n",
            "\u001b[?25hRequirement already satisfied: importlib-metadata; python_version < \"3.8\" in /usr/local/lib/python3.7/dist-packages (from transformers) (4.0.1)\n",
            "Requirement already satisfied: tqdm>=4.27 in /usr/local/lib/python3.7/dist-packages (from transformers) (4.41.1)\n",
            "Requirement already satisfied: tokenizers<0.11,>=0.10.1 in /usr/local/lib/python3.7/dist-packages (from transformers) (0.10.2)\n",
            "Requirement already satisfied: packaging in /usr/local/lib/python3.7/dist-packages (from transformers) (20.9)\n",
            "Collecting huggingface-hub==0.0.8\n",
            "  Downloading https://files.pythonhosted.org/packages/a1/88/7b1e45720ecf59c6c6737ff332f41c955963090a18e72acbcbeac6b25e86/huggingface_hub-0.0.8-py3-none-any.whl\n",
            "Requirement already satisfied: filelock in /usr/local/lib/python3.7/dist-packages (from transformers) (3.0.12)\n",
            "Requirement already satisfied: numpy>=1.17 in /usr/local/lib/python3.7/dist-packages (from transformers) (1.19.5)\n",
            "Requirement already satisfied: regex!=2019.12.17 in /usr/local/lib/python3.7/dist-packages (from transformers) (2019.12.20)\n",
            "Requirement already satisfied: requests in /usr/local/lib/python3.7/dist-packages (from transformers) (2.23.0)\n",
            "Requirement already satisfied: joblib in /usr/local/lib/python3.7/dist-packages (from sacremoses->transformers) (1.0.1)\n",
            "Requirement already satisfied: six in /usr/local/lib/python3.7/dist-packages (from sacremoses->transformers) (1.15.0)\n",
            "Requirement already satisfied: click in /usr/local/lib/python3.7/dist-packages (from sacremoses->transformers) (8.0.0)\n",
            "Requirement already satisfied: typing-extensions>=3.6.4; python_version < \"3.8\" in /usr/local/lib/python3.7/dist-packages (from importlib-metadata; python_version < \"3.8\"->transformers) (3.7.4.3)\n",
            "Requirement already satisfied: zipp>=0.5 in /usr/local/lib/python3.7/dist-packages (from importlib-metadata; python_version < \"3.8\"->transformers) (3.4.1)\n",
            "Requirement already satisfied: pyparsing>=2.0.2 in /usr/local/lib/python3.7/dist-packages (from packaging->transformers) (2.4.7)\n",
            "Requirement already satisfied: certifi>=2017.4.17 in /usr/local/lib/python3.7/dist-packages (from requests->transformers) (2020.12.5)\n",
            "Requirement already satisfied: idna<3,>=2.5 in /usr/local/lib/python3.7/dist-packages (from requests->transformers) (2.10)\n",
            "Requirement already satisfied: urllib3!=1.25.0,!=1.25.1,<1.26,>=1.21.1 in /usr/local/lib/python3.7/dist-packages (from requests->transformers) (1.24.3)\n",
            "Requirement already satisfied: chardet<4,>=3.0.2 in /usr/local/lib/python3.7/dist-packages (from requests->transformers) (3.0.4)\n",
            "Installing collected packages: sacremoses, huggingface-hub, transformers\n",
            "Successfully installed huggingface-hub-0.0.8 sacremoses-0.0.45 transformers-4.6.1\n"
          ],
          "name": "stdout"
        }
      ]
    },
    {
      "cell_type": "code",
      "metadata": {
        "id": "FImNhCJCTgp3"
      },
      "source": [
        "import random"
      ],
      "execution_count": null,
      "outputs": []
    },
    {
      "cell_type": "code",
      "metadata": {
        "id": "kH02c3_TFKSH",
        "colab": {
          "base_uri": "https://localhost:8080/"
        },
        "outputId": "7161563e-5cfe-44fb-859e-d39312ae0a1d"
      },
      "source": [
        "nltk.download('words')"
      ],
      "execution_count": null,
      "outputs": [
        {
          "output_type": "stream",
          "text": [
            "[nltk_data] Downloading package words to /root/nltk_data...\n",
            "[nltk_data]   Unzipping corpora/words.zip.\n"
          ],
          "name": "stdout"
        },
        {
          "output_type": "execute_result",
          "data": {
            "text/plain": [
              "True"
            ]
          },
          "metadata": {
            "tags": []
          },
          "execution_count": 6
        }
      ]
    },
    {
      "cell_type": "code",
      "metadata": {
        "id": "Owh1tlZ2GQ2V"
      },
      "source": [
        "from nltk.tokenize import RegexpTokenizer"
      ],
      "execution_count": null,
      "outputs": []
    },
    {
      "cell_type": "code",
      "metadata": {
        "id": "WaXiurkZkb23"
      },
      "source": [
        "from transformers import pipeline\n",
        "from transformers import BertForQuestionAnswering, AutoTokenizer"
      ],
      "execution_count": null,
      "outputs": []
    },
    {
      "cell_type": "code",
      "metadata": {
        "id": "c4ntUGCM7fm7"
      },
      "source": [
        "consumer_key= '7mRsqhYU5DXe4oVA8m8u6Q6mE'\n",
        "consumer_secret= 'vAYh40un148gp8H7mxFrpDfGe04Wzwda7Qpf0qUBL6Sgm0u72o'\n",
        "access_token= '1189705328381906944-XNTFRajHw9n50A90sDTz63BV8iTsSi'\n",
        "access_token_secret= '3ru03Pk4g0QpfliJoxCALUkjYfl7oX7WH5SRcDQetljQf'"
      ],
      "execution_count": null,
      "outputs": []
    },
    {
      "cell_type": "code",
      "metadata": {
        "colab": {
          "resources": {
            "http://localhost:8080/nbextensions/google.colab/files.js": {
              "data": "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",
              "ok": true,
              "headers": [
                [
                  "content-type",
                  "application/javascript"
                ]
              ],
              "status": 200,
              "status_text": ""
            }
          },
          "base_uri": "https://localhost:8080/",
          "height": 72
        },
        "id": "0_cnehaJM5ZN",
        "outputId": "b40eb4fd-5d57-4484-de55-79988f75d29e"
      },
      "source": [
        "# Fetching data file from computer\n",
        "uploaded = files.upload()"
      ],
      "execution_count": null,
      "outputs": [
        {
          "output_type": "display_data",
          "data": {
            "text/html": [
              "\n",
              "     <input type=\"file\" id=\"files-8d1e6f39-1da4-40d1-8ce8-f00d71b4ded6\" name=\"files[]\" multiple disabled\n",
              "        style=\"border:none\" />\n",
              "     <output id=\"result-8d1e6f39-1da4-40d1-8ce8-f00d71b4ded6\">\n",
              "      Upload widget is only available when the cell has been executed in the\n",
              "      current browser session. Please rerun this cell to enable.\n",
              "      </output>\n",
              "      <script src=\"/nbextensions/google.colab/files.js\"></script> "
            ],
            "text/plain": [
              "<IPython.core.display.HTML object>"
            ]
          },
          "metadata": {
            "tags": []
          }
        },
        {
          "output_type": "stream",
          "text": [
            "Saving Politician User Data - Sheet1.csv to Politician User Data - Sheet1.csv\n"
          ],
          "name": "stdout"
        }
      ]
    },
    {
      "cell_type": "code",
      "metadata": {
        "id": "yfMcNkq-jKOM",
        "colab": {
          "resources": {
            "http://localhost:8080/nbextensions/google.colab/files.js": {
              "data": "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",
              "ok": true,
              "headers": [
                [
                  "content-type",
                  "application/javascript"
                ]
              ],
              "status": 200,
              "status_text": ""
            }
          },
          "base_uri": "https://localhost:8080/",
          "height": 72
        },
        "outputId": "f590f4ee-779f-4f02-9b22-e2eadda68662"
      },
      "source": [
        "uploaded_old = files.upload()"
      ],
      "execution_count": null,
      "outputs": [
        {
          "output_type": "display_data",
          "data": {
            "text/html": [
              "\n",
              "     <input type=\"file\" id=\"files-7636b405-692d-4296-84e4-fe3813f8289a\" name=\"files[]\" multiple disabled\n",
              "        style=\"border:none\" />\n",
              "     <output id=\"result-7636b405-692d-4296-84e4-fe3813f8289a\">\n",
              "      Upload widget is only available when the cell has been executed in the\n",
              "      current browser session. Please rerun this cell to enable.\n",
              "      </output>\n",
              "      <script src=\"/nbextensions/google.colab/files.js\"></script> "
            ],
            "text/plain": [
              "<IPython.core.display.HTML object>"
            ]
          },
          "metadata": {
            "tags": []
          }
        },
        {
          "output_type": "stream",
          "text": [
            "Saving out.csv to out.csv\n"
          ],
          "name": "stdout"
        }
      ]
    },
    {
      "cell_type": "markdown",
      "metadata": {
        "id": "zrqjarMrl_9n"
      },
      "source": [
        "# **Politician Class**"
      ]
    },
    {
      "cell_type": "code",
      "metadata": {
        "id": "0LoTdjXONQqV"
      },
      "source": [
        "class Politician:\n",
        "  def __init__(self, name, twitteracc1, twitteracc2, state, party, pos, tweets, idx):\n",
        "    self.name = name\n",
        "    self.twitteracc1 = twitteracc1\n",
        "    self.twitteracc2 = twitteracc2\n",
        "    self.state = state\n",
        "    self.party = party \n",
        "    self.pos = pos\n",
        "    self.tweets = tweets\n",
        "    self.idx = idx"
      ],
      "execution_count": null,
      "outputs": []
    },
    {
      "cell_type": "markdown",
      "metadata": {
        "id": "JfC3nfIqmP1q"
      },
      "source": [
        "# **Twitter API:** Retrieving + Initializing Politician Data\n",
        "\n",
        "This step only needs to run once, in order to call the Twitter API endpoint and initialize a new dataframe and CSV file with the retrieved Tweets that correspond to the politician names and Twitter handles that I manually inputted into a spreadsheet. "
      ]
    },
    {
      "cell_type": "code",
      "metadata": {
        "id": "GCAcYoq-NBk9"
      },
      "source": [
        "df0 = pd.read_csv('Politician User Data - Sheet1.csv')\n",
        "df = df0.replace(np.nan, '', regex=True)\n",
        "\n",
        "all_politicians = []\n",
        "\n",
        "for idx, row in df.iterrows():\n",
        "  d = row.to_dict()\n",
        "  politician = Politician(d['Politician'], d['Account 1'], d['Account 2'], d['State'], d['State'], d['Position'], \"\", idx)\n",
        "  all_politicians.append(politician)"
      ],
      "execution_count": null,
      "outputs": []
    },
    {
      "cell_type": "code",
      "metadata": {
        "id": "4Rvdc2HVvQdI"
      },
      "source": [
        "# Weird formatting error for only 1 of the entries -> manual fix\n",
        "all_politicians[102].name = \"Pence, Mike\""
      ],
      "execution_count": null,
      "outputs": []
    },
    {
      "cell_type": "code",
      "metadata": {
        "id": "lHh3SSnL7hZx"
      },
      "source": [
        "auth = tw.OAuthHandler(consumer_key, consumer_secret)\n",
        "auth.set_access_token(access_token, access_token_secret)\n",
        "api = tw.API(auth, wait_on_rate_limit=True)"
      ],
      "execution_count": null,
      "outputs": []
    },
    {
      "cell_type": "code",
      "metadata": {
        "id": "0-3mH3lR8JYW"
      },
      "source": [
        "# ONLY RUN THIS ONCE TO GET TWITTER DATA, next time run the block below. \n",
        "\n",
        "auth = tw.OAuthHandler(consumer_key, consumer_secret)\n",
        "auth.set_access_token(access_token, access_token_secret)\n",
        "api = tw.API(auth)\n",
        "\n",
        "tokenizer = RegexpTokenizer(r'\\w+')\n",
        "nltk_vocab = set(nltk.corpus.words.words())\n",
        "\n",
        "for pol in all_politicians:\n",
        "  try:\n",
        "    tweets = api.user_timeline(screen_name = pol.twitteracc1, count=200, include_rts = False, tweet_mode = 'extended')\n",
        "    for tweet in tweets[:len(tweets)]:\n",
        "      tweets_no_nonenglish = \" \".join(w for w in nltk.wordpunct_tokenize(tweet.full_text) if w.lower() in nltk_vocab or not w.isalpha() or not w.isdigit())\n",
        "      tweet_words = tokenizer.tokenize(tweets_no_nonenglish)\n",
        "      pol.tweets.update(tweet_words)\n",
        "  except:\n",
        "    try:\n",
        "      tweets = api.user_timeline(screen_name = pol.twitteracc2, count=200, include_rts = False, tweet_mode = 'extended')\n",
        "      for tweet in tweets[:len(tweets)]:\n",
        "        tweets_no_nonenglish = \" \".join(w for w in nltk.wordpunct_tokenize(tweet.full_text) if w.lower() in nltk_vocab or not w.isalpha() or not w.isdigit())\n",
        "        tweet_words = tokenizer.tokenize(tweets_no_nonenglish)\n",
        "        pol.tweets.update(tweet_words)\n",
        "    except:\n",
        "      print(\"No accounts found for politician \" + pol.name)\n",
        "  "
      ],
      "execution_count": null,
      "outputs": []
    },
    {
      "cell_type": "markdown",
      "metadata": {
        "id": "BYNmQfhKD3Go"
      },
      "source": [
        "# **Training Set:** SQuAD 2.0 "
      ]
    },
    {
      "cell_type": "code",
      "metadata": {
        "id": "6Rl9B1V8ESRn",
        "colab": {
          "base_uri": "https://localhost:8080/"
        },
        "outputId": "dc0e7882-1db5-44a5-d0e6-bd35c1c37613"
      },
      "source": [
        "!wget https://p4-squad-data.s3.us-east-2.amazonaws.com/train-v2.0.json"
      ],
      "execution_count": null,
      "outputs": [
        {
          "output_type": "stream",
          "text": [
            "--2021-05-22 21:47:16--  https://p4-squad-data.s3.us-east-2.amazonaws.com/train-v2.0.json\n",
            "Resolving p4-squad-data.s3.us-east-2.amazonaws.com (p4-squad-data.s3.us-east-2.amazonaws.com)... 52.219.106.130\n",
            "Connecting to p4-squad-data.s3.us-east-2.amazonaws.com (p4-squad-data.s3.us-east-2.amazonaws.com)|52.219.106.130|:443... connected.\n",
            "HTTP request sent, awaiting response... 200 OK\n",
            "Length: 42123633 (40M) [application/json]\n",
            "Saving to: ‘train-v2.0.json’\n",
            "\n",
            "train-v2.0.json     100%[===================>]  40.17M  63.5MB/s    in 0.6s    \n",
            "\n",
            "2021-05-22 21:47:17 (63.5 MB/s) - ‘train-v2.0.json’ saved [42123633/42123633]\n",
            "\n"
          ],
          "name": "stdout"
        }
      ]
    },
    {
      "cell_type": "markdown",
      "metadata": {
        "id": "TQEuKX1wmacX"
      },
      "source": [
        "# **Testing Set:** Politician Tweets"
      ]
    },
    {
      "cell_type": "code",
      "metadata": {
        "colab": {
          "base_uri": "https://localhost:8080/"
        },
        "id": "VzEcds85kALh",
        "outputId": "0b8f788d-8164-46e9-c698-0630ae95f351"
      },
      "source": [
        "df0_1 = pd.read_csv('out.csv')\n",
        "df1 = df0_1.replace(np.nan, '', regex=True)\n",
        "print(df1)\n",
        "\n",
        "all_politicians = []\n",
        "\n",
        "for idx, row in df1.iterrows():\n",
        "  d = row.to_dict()\n",
        "  politician = Politician(d['0'], d['1'], d['2'], d['3'], d['4'], d['5'], d['6'], idx)\n",
        "  all_politicians.append(politician)"
      ],
      "execution_count": null,
      "outputs": [
        {
          "output_type": "stream",
          "text": [
            "                       0  ...                                                  6\n",
            "0         Baldwin, Tammy  ...   Looking forward to it! \\n \\nHint: Squeaky vs....\n",
            "1         Barrasso, John  ...   .@JoeBiden’s “infrastructure” bill is a slush...\n",
            "2        Bennet, Michael  ...   It's unacceptable that there is still a gende...\n",
            "3      Blackburn, Marsha  ...   Blue states can’t stop mooching off the feder...\n",
            "4    Blumenthal, Richard  ...   There is real concern that cruises may premat...\n",
            "..                   ...  ...                                                ...\n",
            "98            Wyden, Ron  ...   A fire warning. In Oregon. In April. The clim...\n",
            "99           Young, Todd  ...   Our TRUST Act would set in motion a bipartisa...\n",
            "100           Biden, Joe  ...   The American Jobs Plan is the largest America...\n",
            "101       Harris, Kamala  ...   Help us spread the word: A special enrollment...\n",
            "102          Pence, Mike  ...   Our deepest sympathies and prayers to Her Maj...\n",
            "\n",
            "[103 rows x 7 columns]\n"
          ],
          "name": "stdout"
        }
      ]
    },
    {
      "cell_type": "code",
      "metadata": {
        "id": "KExgvdmgQHfT",
        "colab": {
          "base_uri": "https://localhost:8080/"
        },
        "outputId": "7fbd303a-a282-45a0-fa2e-9a9661916bb8"
      },
      "source": [
        "print(all_politicians[0].tweets)"
      ],
      "execution_count": null,
      "outputs": [
        {
          "output_type": "stream",
          "text": [
            " Looking forward to it! \n",
            " \n",
            "Hint: Squeaky vs. fried cheese curds is on my list of topics. https://t.co/9QEw8iZYs0 I support the bipartisan #CORPSAct because it's a bold plan that:\n",
            "\n",
            "✅ Empowers more Americans to serve their communities\n",
            "✅ Increases compensation &amp; education assistance\n",
            "✅ Supports local, community-driven service initiatives\n",
            "\n",
            "Congress must take action now! https://t.co/rziTOu9sFL Wisconsin will be receiving over $579 million in #AmericanRescuePlan funding to help early childhood educators and family child care providers keep their doors open, and help parents, especially mothers, get back to work. #HelpIsHere https://t.co/pQg2u2kZpj Thanks to @VoiceOfMilk for your support in our push for the #DairyPride Act. https://t.co/KB2cnrcpkC I’ve joined @SenBobCasey and @SenStabenow to intro the Junk Plan Accountability and Disclosure Act because we should protect people so they don’t get stuck paying thousands of dollars out of pocket when they need health care. https://t.co/xaOp6VTIUQ The federal government needs to buy what America makes. Period.\n",
            " \n",
            "My bipartisan #MadeInAmerica Act will make sure we do just that. #BuyAmerican https://t.co/BaydXsJA5e Maternal &amp; infant mortality rates are tragically high in #WI &amp; they’re even higher in the Black community. We need to do more to raise awareness about this crisis &amp; improve Black maternal health. #BlackMaternalHealthWeek #BlackMamasMatter #BMHW21 #Momnibus https://t.co/UPfaZiEwD1 It’s #BlackMaternalHealthWeek and I helped introduce a Senate Resolution to recognize it, because we must do more to raise awareness about the Black maternal health crisis and do something about it. #BlackMamasMatter #BMHW21 https://t.co/r41WCLl0UY Our Asian American communities should not have to live in fear of facing discrimination, hate, or violence. We must come together and stand against bigotry and #StopAsianHate. That’s why I support the COVID-19 Hate Crimes Act. https://t.co/vSgYaHJTlB Today is #MilwaukeeDay! On this special day to everyone in the Cream City, I’m encouraging all Milwaukeeans to get the #COVID19Vaccine when they can. Check out where to get vaccinated here ➡️ https://t.co/wupFwBHqRD #414Day We should not spend taxpayer dollars on infrastructure projects that are not subject to #BuyAmerican requirements.\n",
            " \n",
            "My bipartisan #MadeInAmerica Act will make sure we support U.S. workers and manufacturers when rebuilding our nation’s infrastructure. https://t.co/0ZoAAZ6YSG Thank you to @DairyForward for having me at this year’s #DairyDay at the Capitol! Wisconsin farmers work hard every day to support our agriculture economy and rural communities, &amp; I will keep working to do right by them as we continue moving #Forward together. https://t.co/vNgl9x3DZe I support @MazieHirono’s COVID–19 Hate Crimes Act and the Senate should pass it this week. #StopAsianHate https://t.co/PQA3RChizF Proud to join @PattyMurray and @rosadelauro to introduce the #HealthyFamiliesAct. Now let’s pass it and help ensure American workers have paid sick days. https://t.co/G5PPUCo7RH On this historically significant day for Sikhs, I'm wishing our friends in Wisconsin’s Sikh community a happy #Vaisakhi! https://t.co/2GNCEuMpJz Today I paid my respects to Capitol Police Officer Billy Evans, who was tragically killed doing his job protecting the Capitol. My heart goes out to his family &amp; friends, and to the entire Capitol Police force. Let us honor his service and sacrifice. https://t.co/Ob2eboE6ZG We should not spend taxpayer dollars on infrastructure projects that are not subject to #BuyAmerican requirements. So I’m reintroducing my bipartisan #MadeInAmerica Act because we need to buy what America makes when we rebuild our infrastructure. https://t.co/xqsMScmgI3 NEW: Today I’m reintroducing my bipartisan #MadeInAmerica Act with @SenatorBraun and @RepGaramendi because we need to make bold investments to support American workers and manufacturers when rebuilding our nation’s infrastructure. 🇺🇸 https://t.co/YYYxf2DYbJ Daunte Wright had his life taken away by police and there should be accountability and justice. My heart breaks for his family and friends who like too many others suffer this tragic trauma again and again. Change is long overdue and we need to act on policing reforms now. Thank you to @ChamberLaCrosse for the great meeting today! Let’s keep working to grow our #MadeInWI economy and move #Forward together. https://t.co/oRGGOD9MMJ Thanks so much to @UWMadison for all their work on great #MadeinWI science, research, and innovation to help us take on #SARSCoV2. https://t.co/8bpX2XVDcx I want to wish our Muslim community in Wisconsin peace and renewal as the beginning of #Ramadan begins today. https://t.co/u8KMVmLPWA The #AmericanRescuePlan includes funding to help ensure that Wisconsinites and their families have a roof over their heads. #HelpIsHere\n",
            "https://t.co/7hEIhoaf5W The time is now for Wisconsin Republicans in the State Legislature to do the right thing, listen to the people of our state, and seize this opportunity to expand health care coverage and save taxpayers money. https://t.co/IuuEYUHPHj Thank you @POTUS for taking these important steps to #EndGunViolence.\n",
            " \n",
            "The American people support commonsense gun safety reforms – let’s get it done and help save lives.\n",
            "https://t.co/PtC4mXMCt2 Too many American families have lost loved ones to gun violence in this country. It’s an epidemic that demands more than just thoughts and prayers, but action. I believe we have a moral responsibility in Congress to pass commonsense gun safety reforms that will save lives. TODAY: I’m standing with @JodiRep, @CitizenActionWI, and other leaders to discuss why Wisconsin needs to accept the federal #AmericanRescuePlan investment in our BadgerCare program to provide more folks the health care they need.\n",
            " \n",
            "RSVP now ➡️ https://t.co/L5HxkDkGF0 Now more than ever, Americans need access to quality, affordable health care. The #AmericanRescuePlan expands premium tax credits and lowers health care costs so you can find a health care plan that meets your needs, at a price you can afford. #GetCovered\n",
            "https://t.co/Di4xSbWXYn Thank you to the @OshkoshChamber for having me today to discuss how we can continue working together to support our workers, our businesses, and our #MadeInWI economy. https://t.co/qdiFk4DEzw Tracking coronavirus variants is so important to our ability to combat the virus &amp; get through the pandemic, and I want to applaud the team @UWMadison for their incredible work. I was proud to champion funding in the #AmericanRescuePlan to boost our efforts to track variants. https://t.co/JJbMGN0sfO I’m saddened to hear of the passing of my friend and colleague, Rep. Alcee Hastings. He was a champion for civil rights and the people of Florida, and I was honored to work with him in the House. My deepest condolences to his family and loved ones during this difficult time. https://t.co/zwaiXcstBH #WearAMask to protect the health and safety of yourself and those around you. Together, we will get through this. #MaskUp https://t.co/bMGGVo9VSh Hey Wisconsin! Today is the day that all residents 16 years old and older are eligible for the #COVID19 vaccine.\n",
            " \n",
            "Everyone needs to get the #COVID19 vaccine so we can get through this pandemic and move forward together. Learn more about getting your shot here ⬇️ https://t.co/bL7lZZrRuO Happy Easter Sunday, Wisconsin! https://t.co/ryNc6B4rfZ Don’t forget: You can sign up for quality, affordable health insurance between now and August 15! And thanks to the #AmericanRescuePlan, there is more financial help and lower cost plans available.\n",
            " \n",
            "Wisconsinites can visit https://t.co/2HpWljtgbM to #GetCovered The future of a democratic &amp; stable Afghanistan depends on how gains on human rights and women’s empowerment are protected. @SenatorShaheen and I wrote to @POTUS to urge the importance of women’s active participation in ongoing Afghan peace negotiations. Read our letter here ⬇️ https://t.co/7zTwBpldcs Devastated that a Capitol Police officer was killed in the line of duty today. My thoughts are with their family &amp; friends, and I pray the injured officer makes a full recovery. I’m grateful to Capitol Police &amp; National Guard for keeping everyone who works in the Capitol safe. Go @Brewers! #ThisIsMyCrew #OpeningDay https://t.co/k3mWYubcsQ The Crime Victims Fund ensures that victims of crimes receive the compensation and assistance they need. This lifeline for so many is rapidly running out of funds, and I have bipartisan legislation to replenish it so folks can continue accessing these critical resources. https://t.co/FL9RbNaAyE We need a bold economic plan and @POTUS has put one forward that will create jobs, put people back to work and rebuild economic security for working families. #AmericanJobsPlan #BuildBackBetter On this #TransDayOfVisibility I have a simple message - I see you, I am with you, and I will keep fighting to make sure you #WontBeErased. https://t.co/uVlgurVKt0 Get vaccinated. Wear a mask. Save lives. #MaskUpWisconsin #StopTheSpread https://t.co/yJuvX15RnU Today, Wisconsin celebrates #CesarChavezDay to recognize and remember a champion of workers rights, civil rights, and economic justice. Let us be inspired by la causa, as the march goes on. #SiSePuede https://t.co/edmNaDnQCI As we close out #WomensHistoryMonth let’s give thanks to the trailblazers who came before us to break down barriers &amp; move our country forward.\n",
            " \n",
            "We must keep working to advance equal opportunity for all women, and empower young women &amp; girls to be the next generation of leaders. https://t.co/vNLnClKr2I The #AmericanRescuePlan makes a bold investment to support schools safely reopening for students &amp; educators. As we work to rebuild our infrastructure, we must also invest in our schools so they don't get left behind. This legislation will get it done⬇️ https://t.co/5RfM9eyQ1f Since Citizens United, dark money and super PACs have polluted our political system. We’re going to end this corruption with the #ForThePeople Act and get dark money OUT of our elections. https://t.co/ywUkJ5t58b I am so proud that now these Wisconsin workers and retirees have the peace of mind of knowing that their pensions will be there for them and for their families when they need it. https://t.co/85Z9NrN9VV People should get vaccinated to protect themselves and help us save lives. #VaccinateMKE #CrushCovidMKE\n",
            "\n",
            "Make a plan today to get vaccinated ⬇️\n",
            "https://t.co/VEFhQ40NYg I want every Wisconsinite to know that the #COVID19 vaccines are safe and effective at preventing sickness, severe illness, and death. As more people get vaccinated, the faster we’re going to beat this deadly pandemic. https://t.co/7n7njECDob I worked for six years with Wisconsin workers and retirees to make sure they would get the pensions that they worked for and earned, and finally, we were able to get this done in the American Rescue Plan. https://t.co/0xdkW2uHs3 We must pass the #ForThePeople Act and John Lewis #VotingRightsAct to stop voter suppression efforts, protect voting rights, and strengthen our democracy. https://t.co/mcFmPQPK4o That's the way we do it. #KeepErMovin 🧀 https://t.co/CM8NLrzCq3 The #AmericanRescuePlan expands tax credits, reduces premiums, and lowers health care costs. https://t.co/QoaWlb0Zoj I’m standing in solidarity with the @AAPIcoalitionWI and local leaders throughout the state during today’s National Day of Action and Healing.\n",
            " \n",
            "We must denounce violence against the Asian American community. We must work together to #StopAsianHate and #StopAAPIHate. https://t.co/uLugxmAmwo The majority of Americans agree – the #AmericanRescuePlan is the support we need to help us get past this public health crisis and move Wisconsin’s economy forward. #HelpIsHere https://t.co/1W6AMKeCYV Thanks to @visitmilwaukee for supporting the #AmericanRescuePlan so we can get past this pandemic and move #MKE forward together. https://t.co/xPjY3HTwTk Today I joined @RonWyden to introduce a new bill to build on this progress and make sure working families &amp; students have access to broadband no matter where they live and are not left behind as we work to build back better &amp; move our economy forward. https://t.co/oMDE6RDdsx Reliable high-speed broadband is necessary for our small businesses &amp; rural communities to get through this ongoing pandemic. That’s why I worked to expand broadband access so folks can stay connected to work, school and communities during this pandemic. https://t.co/vDWCfyRb0E People in Wisconsin must have quality health care coverage during and after this public health crisis. The #AmericanRescuePlan lowers health care costs so people have the affordable coverage they need. https://t.co/QggyIPtgvj Over the last year, the use of anti-Asian terminology and rhetoric related to COVID–19 has contributed to the rise in racism, hate crimes and violence.\n",
            " \n",
            "We all must stand together and make it clear: It is past time to #StopAsianHate and #StopAAPIHate. https://t.co/ibLJotSm5e #HelpIsHere for Dane County and with the #AmericanRescuePlan, we are going to get through this together. https://t.co/KjhfQuk1Zw Obstruction from Wisconsin Republicans has cost our state. It’s time to do the right thing and take the federal investment in our BadgerCare program so we can expand health care coverage to more people who need it, and save taxpayers money. https://t.co/hWgR7EAbg3 The #AmericanRescuePlan builds on the #ACA by lowering premiums, reducing health care costs, and expanding quality, affordable health care coverage. #HelpIsHere https://t.co/HwCRaGdNzw I am so grateful for @PEARLS_MKE and the leadership of @alderwomancoggs. Thank you for including me in today’s wonderful conversation about helping our young women and girls in #MKE realize their dreams, pursue their ambitions and succeed in their bright futures. https://t.co/nJzNo9TRYh My goal in the Senate is to get things done for the people of Wisconsin. If that takes reforming the filibuster, I’m for that. If it takes getting rid of the filibuster, I’m for that too. We can't let obstructionists block us from delivering results for the American people. We must stand together in support of the #AAPI community and stand together against the rise in #COVID19 related racism, hate crimes and violence. Thanks to @maziehirono and @SenDuckworth for their leadership introducing a Senate resolution that makes it clear - #StopAAPIHate. A pension is a promise to Wisconsin workers and retirees, and I am proud we worked to deliver on that promise in the #AmericanRescuePlan. https://t.co/jM0wV2NOmB With millions diagnosed with COVID-19, we should be working to expand quality, affordable health care that provides all #ACA protections &amp; essential benefits. Junk plans don’t and we need to stop their expansion so people can get the health care they need. https://t.co/A8FmXyY2Pq Today I reintroduced my No Junk Plans Act with @SenStabenow and @SenBobCasey to overturn the Trump-era rule expanding junk health insurance plans that don’t provide health care coverage for folks with pre-existing conditions. Read more ⬇️ https://t.co/o2Q5lIcJxV The #AmericanRescuePlan provides federal support to Wisconsin State Veterans homes so now #HelpIsHere for Veterans and their families in Union Grove. \n",
            "https://t.co/hxlCpTHWw5 The TRIO program helps students from low-income and disadvantaged backgrounds prepare for and succeed in higher education so I've introduced bipartisan legislation will make this program more accessible to students. #TRIOWorks https://t.co/bEBUklK0KK With voting rights under attack in Wisconsin and across the country, I support passing the #ForThePeople Act and John Lewis #VotingRightsAct to stop voter suppression efforts, protect voting rights and strengthen our democracy. https://t.co/PjIcSngAgm It’s 2021 and women in America are still paid less than men for the same work, and for women of color, it’s even worse. \n",
            "\n",
            "And with school &amp; daycare #COVID19 closures, moms are juggling even more this #EqualPayDay than usual. \n",
            "\n",
            "Women deserve #equalpay for equal work now. https://t.co/Z57xCQ1zfJ Voting rights should not be a partisan issue, but Senate Republicans can’t give up promoting Trump’s conspiracy theories and his big lie that the election was stolen from him. It wasn’t, he lost fair and square. Now let’s pass the #ForThePeople Act and John Lewis #VotingRightsAct https://t.co/hUnvw8JlU3 It is time for Congress to take action and take on the rising costs of medicine people depend on.\n",
            "https://t.co/VuEt8bxRY4 I voted for Dr. Vivek Murthy as our new Surgeon General. He has committed his life's work to public health, serving as America's Doctor before, and he is the leader we need in this role to help us get past the ongoing #COVID19 pandemic.\n",
            "https://t.co/Ypa7uJH65Z The #AmericanRescuePlan builds on the #ACA so more people in Wisconsin have quality, affordable health care coverage during and after this pandemic. It expands access to care, lowers premiums &amp; reduces health care costs. #HelpisHere https://t.co/B8vcTVOkn9 Today, we celebrate 11 years of the Affordable Care Act despite all the efforts by Congressional Republicans and Trump to repeal your health care. The #ACA expanded health care coverage to millions of Americans and protected people with pre-existing conditions. #ProtectOurCare https://t.co/KmdySdlyw1 The #AmericanRescuePlan provides support to our State Veterans homes so they can serve the finest among us. #HelpIsHere https://t.co/Ot7TM3Q0Bz A pension is a promise so I worked to make sure it was kept for Wisconsin workers and retirees. #HelpIsHere https://t.co/ai5kM48gr1 For too long, I’ve heard story after story from Wisconsinites who are struggling to afford the life-saving medications they need. It is time for Congress to work together to take action and take on the rising costs of medicine people depend on. https://t.co/KJawND5i7p Today I introduced bipartisan legislation with @SenatorBraun @LisaMurkowski @SenTinaSmith that will demand answers and transparency from drug companies that jack up the prices on the medications that Americans need.\n",
            "https://t.co/vN04Xt6HsB HAPPENING NOW: For too long the Senate has failed to act on gun violence prevention. Today @JudiciaryDems are working to change that so we can #EndGunViolence. https://t.co/347L86Cfjd Mass shootings and more heartbreak for families that lose loved ones to gun violence is a crisis in America. A moral crisis we can't ignore and must confront with action. https://t.co/zvDlzAwsUW I voted for Marty Walsh because he will provide new leadership @USDOL that makes sure we protect and support workers. I look forward to working with him to ensure all workers have a fair, safe and just workplace where hard work is treated with dignity and respect. https://t.co/6m8db6AWD7 For about 22,500 workers and retirees in Wisconsin, #HelpisHere. I worked for six years to make sure they would get the pensions that they worked for and earned, and finally, we were able to get this done in the #AmericanRescuePlan. https://t.co/iMIScUWDGK Congratulations to @BadgerWHockey on winning their SIXTH National Championship! #OnWisconsin https://t.co/JNbu075fMS On this day in 1965, Dr. Martin Luther King, Jr. led thousands of people in the third march from Selma to Montgomery. Let us be inspired today to carry on our work to protect voting rights, advance racial justice, and move equality forward for all. https://t.co/lgLO932HHy Prioritizing our workers and businesses here at home for projects is the best way forward in building back our economy better than before. #BuyAmerican https://t.co/zrReeICA48 For the first time in more than six years, thousands of #WI workers and retirees don't have to worry about cuts to pensions they’ve already earned.\n",
            " \n",
            "I’m so proud we got the job done in protecting the pensions they have worked for, planned for and depend on. https://t.co/wJp9nuEOOi Taxpayer dollars should benefit American workers and American companies. It’s the right thing to do during this economic crisis. #BuyAmerican https://t.co/XWIpFKQpwu Millions of Americans remain unemployed and struggling to make ends meet, so we need a bold, federal investment in state and local jobs programs to create job opportunities and put people back to work. Our Jobs for Economic Recovery Act provides it. https://t.co/J136cvi1BH I believe Wisconsin nurses on the frontlines of this pandemic should have a safe workplace and paid sick leave. Their work should be respected and Meriter nurses should have a voice in negotiating a fair agreement with @uph_meriter &amp; @UnityPointNews that rewards their hard work. I just reintroduced the Jobs for Economic Recovery Act with @RonWyden @ChrisVanHollen @SenatorBennet @SenBooker. As we support workers &amp; businesses in our recovery from this economic crisis, this legislation is a stronger way forward &amp; we should seize it. https://t.co/aTYcZbcvaT I’m working to make sure the #AmericanRescuePlan supports our workers and businesses here at home. #BuyAmerican https://t.co/Hp7zi6wgwb A pension is a promise that must be kept.\n",
            " \n",
            "Now, 22,500 workers and retirees in Wisconsin know that the pensions they earned will be there for them when they need it. I was proud to work with #WI teamsters for 6 long years to get this job done. https://t.co/gQeOE3wo3S Thanks for meeting with me and thanks for all you are doing to help families get through this public health and economic crisis. https://t.co/fLuIilbOig Proud to vote for @XavierBecerra's historic confirmation to lead @HHSGov. I know he will not only protect people’s health care, including guaranteed protections for people with pre-existing conditions, he will work to expand access to quality, affordable health care. https://t.co/zkS5b6dHAg No one should work hard, full-time, and live in poverty. It is past time to #RaiseTheWage. https://t.co/tCZgHzqsbW We need to buy what America makes. Period.\n",
            " \n",
            "The federal government should use its authority to suspend trade waivers that favor foreign companies so we can support American workers and American businesses. https://t.co/ruS8bryCRU I’m calling on @POTUS to temporarily suspend trade waivers and prioritize American companies for projects funded by the #AmericanRescuePlan. #BuyAmerican https://t.co/Ci5ErtGvyq Our nation has trade waivers that could allow foreign companies that don't have American workers or pay American taxes, to bid on projects funded by your taxpayer money.\n",
            "\n",
            "We should suspend these waivers to support U.S. workers &amp; businesses, not foreign firms. #BuyAmerican https://t.co/QSB6AUCRVT Voting rights should not be a partisan issue but Republicans in Wisconsin and Washington want to make it harder for you to vote. I believe every American should have their voice heard so I’m working to protect your voting rights by passing the John Lewis #VotingRightsAct. https://t.co/1nQILbeRTO #HelpIsHere Green Bay and I was proud to be the one member of our Congressional delegation representing Titletown to support you. https://t.co/Mc3YUWjHwm I support the #ForThePeople Act because I support more people voting, not less. Let’s break down barriers to ensure everyone can access the right to vote. #VotingRightsAct #VRAA https://t.co/j8lhK04PS8 Proud to vote again today to make history on @POTUS' nomination of Katherine Tai as our new United States Trade Representative. She understands the human impact of trade policies and has spent her career working to level the playing field for American workers and families. https://t.co/ZTPxbAHElj My heart breaks for the two workers whose lives were taken by tragic gun violence in Oconomowoc. I know everyone in Wisconsin joins me in sending our sympathies to their friends, families and co-workers. https://t.co/p8aiTQy4uD #HelpIsHere La Crosse and that's why I voted to pass the #AmericanRescuePlan. https://t.co/T7rPz3dXPc Voting rights are under attack in Wisconsin and across the country, and I support doing what we need to do in the Senate to pass the #ForThePeople Act and the John Lewis #VRAA because we should make it easier to vote, not harder. https://t.co/Q3RH13yyDt Thanks to Wisconsin health care leaders for supporting my bipartisan legislation to support our rural hospitals as we work together to get past this pandemic and move forward. https://t.co/wKXEVEogVy My thoughts are with the Atlanta community, and my heart breaks for the family and friends of the victims of this tragic mass shooting. The freedom of full equality for #LGBTQ Americans is the next step forward for our country. When the Senate Judiciary Committee (@JudiciaryDems) holds its hearing today on the Equality Act, I will be there to make my voice heard. #EqualityActNOW It's time to turn the page on Trump. I've introduced legislation to protect and expand access to quality, affordable health insurance for people with preexisting health conditions. https://t.co/SRyFty0Ief With nearly 30 million Americans diagnosed with #COVID19 we need to undo Trump-era sabotage that destabilizes the #ACA health insurance market, weakens protections for Americans with preexisting conditions, and increases costs. My legislation to provide $10 billion to boost domestic production of #PPE was included in the #AmericanRescuePlan. Now that #HelpIsHere, I'm pushing to make sure funding goes to secure critical #MadeinWI materials and supplies to combat the pandemic. https://t.co/6njV9e39Fg I strongly believe your taxpayer money should not be spent buying foreign products and supporting foreign workers.\n",
            " \n",
            "That’s why I’m working with @SenSherrodBrown to ensure we fund projects that prioritize U.S. workers and businesses. #BuyAmerican https://t.co/Cr6OGZd8X7 Trade waivers for foreign countries shouldn’t force us to rely on products and supplies from overseas. We should buy what America makes and support our workers and businesses. #BuyAmerican https://t.co/zzNVOdNCbH When taxpayer dollars are spent by our government, we should be investing in our workers and businesses here at home. #BuyAmerican https://t.co/AEahVg7VS4 My work is inspired by Aidan from Slinger, WI, who was born with ectodermal dysplasia and needed intense oral care from an early age, but his family’s insurance company refused to pay for it. Thanks to Aidan &amp; @NFED_ORG, we’re working to ensure kids like Aidan are covered. https://t.co/NSEg0cPPoy Today I’m so proud to reintroduce the #EnsuringLastingSmiles Act with @SenJoniErnst @RepAnnaEshoo @RepDrewFerguson. This important reform will guarantee that those born with congenital anomalies have access to the comprehensive health treatments they need.\n",
            "https://t.co/0CIb9E71yy Andrea Palm is the right choice by @POTUS to serve as Deputy @HHSGov Secretary. She did a great job in Wisconsin and I’m looking forward to supporting her nomination so we can work together to beat #COVID19 &amp; get past this public health crisis. https://t.co/t7totaSZrV So proud to have voted to make history and confirm President Biden’s choice to lead @Interior. The first-ever Native American Cabinet secretary, @DebHaalandNM will protect our public lands and help us create a clean energy future. https://t.co/N8fzp4G4R7 Great meeting with @EnvisionGrtrFDL today about supporting our workers and businesses in Fond du Lac and beyond! https://t.co/nPo9F7vNLx There is a real need for more truck drivers and removing barriers that get in the way of women pursuing careers in the trucking industry is key.\n",
            "\n",
            "I am working to create more job opportunities for #WI women that will lead to more economic security for working families. https://t.co/8bTuZpvEDf We must make sure the #AmericanRescuePlan works for American workers and American businesses.\n",
            "\n",
            "I’m working with @SenSherrodBrown to ensure we are supporting U.S. companies and their employees with this #COVID19 relief bill, not foreign firms. #BuyAmerican https://t.co/eSnbT7ngK7 To the small businesses, restaurant owners and live venue operators in Wisconsin: I want you to know that help is on the way. #AmericanRescuePlan https://t.co/ohOQjYZKsX I want @POTUS to use his authority to temporarily suspend trade waivers that could allow foreign companies that do not have American workers or pay American taxes, to bid on projects funded by the American Rescue Plan. #BuyAmerican https://t.co/Eaz8V3v3nt Today, @SenSherrodBrown and I are leading an effort to call on @POTUS to prioritize American companies for projects funded by the American Rescue Plan. #BuyAmerican https://t.co/QPqEJNm2kS In the past there has been little progress at the VA for Gulf War Vets, but now with new leadership, I look forward to working with @SecVetAffairs to improve the VA’s treatment of Gulf War veterans and rebuild strong relationships with the Gulf War Veteran Service Organizations. https://t.co/7zwRTn5X1O Breonna Taylor's life was taken by police one year ago today. Her life matters and we need to honor her by taking action to advance racial justice. We need the #JusticeInPolicing Act now to end no knock warrants. #SayHerName #BreonnaTaylor https://t.co/Bmy0iNXGte As I said earlier this week, systemic racism is real. Whether it's on the House floor as we heard from a Congressman a couple of days ago, or as we hear it from the mouth of a Senator. Their words don't represent the Wisconsin I know.\n",
            "https://t.co/8UD1HtWS70 A violent insurrection against our Democracy is not showing you \"love this country\" and when a Capitol police officer is killed and over 140 are injured that is not showing you \"truly respect law enforcement.\" That’s why over 300 rioters have been charged with breaking the law. https://t.co/bVqmpr7tz5 This week, I voted to confirm President Biden’s historic choice to lead @EPA. I know @EPAMichaelRegan will move us forward and bring a new approach focused on science, health, environmental justice, and taking on climate change like the urgent crisis it is. https://t.co/XRwR1TGmIZ What a refreshing change from our new Attorney General, Merrick Garland. https://t.co/BfZlfGclYM Thanks to @FaBWisconsin for meeting to talk about how the #AmericanRescuePlan will provide much-needed support to #WI restaurants, bars and breweries so they can move past #COVID19 and help grow our #MadeInWI economy. https://t.co/a2Cp5aioF9 The #AmericanRescuePlan provides tax credits to working families that will help reduce child poverty. Some Republicans say this is “unnecessary” but I believe we have a moral responsibility to lift children out of poverty. https://t.co/cLP2PRCix5 President Biden is providing strong leadership and the #AmericanRescuePlan that I voted for and he signed into law today is the bold action we need in Wisconsin to beat this pandemic, help people and move our economy forward after a year of devastating struggle for our country. .@Couleecap does great work and it was great to meet with them today. Together we are going to make the #AmericanRescuePlan work for families in Crawford, La Crosse, Monroe, and Vernon counties. https://t.co/oVf7XeP1k3 The #AmericanRescuePlan is what Wisconsin needs to beat #COVID19 and bounce back stronger. @POTUS just signed it into law to provide us the help we need to move our economy forward. https://t.co/k3fBYL5xmW Thanks to @AEMAdvocacy for meeting with me today to talk about how we can work together to support our workers and help our manufacturers succeed! #AEMFlyIn https://t.co/AmjHDJDIPI\n"
          ],
          "name": "stdout"
        }
      ]
    },
    {
      "cell_type": "code",
      "metadata": {
        "id": "mEVVt2sPluwf"
      },
      "source": [
        "tokenizer = RegexpTokenizer(r'\\w+')\n",
        "nltk_vocab = set(nltk.corpus.words.words())\n",
        "all_politicians_untokeniz = []\n",
        "\n",
        "for idx,pol in enumerate(all_politicians):\n",
        "  curr_tweets = pol.tweets\n",
        "  all_politicians_untokeniz.append(curr_tweets)\n",
        "  if isinstance(curr_tweets, str):\n",
        "      tweets_no_nonenglish = \" \".join(w for w in nltk.wordpunct_tokenize(curr_tweets) if w.lower() in nltk_vocab or not w.isalpha() or not w.isdigit())\n",
        "      tweets_manual_tokeniz = \"\"\n",
        "      for word in tweets_no_nonenglish.split(\" \"):\n",
        "        # Manually removing hyperlinks embedded in tweets. \n",
        "        if \"http\" not in word:\n",
        "          tweets_manual_tokeniz = tweets_manual_tokeniz + \" \" + word\n",
        "      tweet_words = tokenizer.tokenize(tweets_manual_tokeniz)\n",
        "  else:\n",
        "    tweet_words = curr_tweets\n",
        "  \n",
        "  pol.tweets = tweet_words"
      ],
      "execution_count": null,
      "outputs": []
    },
    {
      "cell_type": "code",
      "metadata": {
        "id": "D81-0VpAl3sY",
        "colab": {
          "base_uri": "https://localhost:8080/"
        },
        "outputId": "9b4256fd-0b0d-41be-d57d-b940b4621169"
      },
      "source": [
        "print(all_politicians[0].tweets)"
      ],
      "execution_count": null,
      "outputs": [
        {
          "output_type": "stream",
          "text": [
            "['Looking', 'forward', 'to', 'it', 'Hint', 'Squeaky', 'vs', 'fried', 'cheese', 'curds', 'is', 'on', 'my', 'list', 'of', 'topics', 't', 'co', '9QEw8iZYs0', 'I', 'support', 'the', 'bipartisan', 'CORPSAct', 'because', 'it', 's', 'a', 'bold', 'plan', 'that', 'Empowers', 'more', 'Americans', 'to', 'serve', 'their', 'communities', 'Increases', 'compensation', 'amp', 'education', 'assistance', 'Supports', 'local', 'community', 'driven', 'service', 'initiatives', 'Congress', 'must', 'take', 'action', 'now', 't', 'co', 'rziTOu9sFL', 'Wisconsin', 'will', 'be', 'receiving', 'over', '579', 'million', 'in', 'AmericanRescuePlan', 'funding', 'to', 'help', 'early', 'childhood', 'educators', 'and', 'family', 'child', 'care', 'providers', 'keep', 'their', 'doors', 'open', 'and', 'help', 'parents', 'especially', 'mothers', 'get', 'back', 'to', 'work', 'HelpIsHere', 't', 'co', 'pQg2u2kZpj', 'Thanks', 'to', 'VoiceOfMilk', 'for', 'your', 'support', 'in', 'our', 'push', 'for', 'the', 'DairyPride', 'Act', 't', 'co', 'KB2cnrcpkC', 'I', 've', 'joined', 'SenBobCasey', 'and', 'SenStabenow', 'to', 'intro', 'the', 'Junk', 'Plan', 'Accountability', 'and', 'Disclosure', 'Act', 'because', 'we', 'should', 'protect', 'people', 'so', 'they', 'don', 't', 'get', 'stuck', 'paying', 'thousands', 'of', 'dollars', 'out', 'of', 'pocket', 'when', 'they', 'need', 'health', 'care', 't', 'co', 'xaOp6VTIUQ', 'The', 'federal', 'government', 'needs', 'to', 'buy', 'what', 'America', 'makes', 'Period', 'My', 'bipartisan', 'MadeInAmerica', 'Act', 'will', 'make', 'sure', 'we', 'do', 'just', 'that', 'BuyAmerican', 't', 'co', 'BaydXsJA5e', 'Maternal', 'amp', 'infant', 'mortality', 'rates', 'are', 'tragically', 'high', 'in', 'WI', 'amp', 'they', 're', 'even', 'higher', 'in', 'the', 'Black', 'community', 'We', 'need', 'to', 'do', 'more', 'to', 'raise', 'awareness', 'about', 'this', 'crisis', 'amp', 'improve', 'Black', 'maternal', 'health', 'BlackMaternalHealthWeek', 'BlackMamasMatter', 'BMHW21', 'Momnibus', 't', 'co', 'UPfaZiEwD1', 'It', 's', 'BlackMaternalHealthWeek', 'and', 'I', 'helped', 'introduce', 'a', 'Senate', 'Resolution', 'to', 'recognize', 'it', 'because', 'we', 'must', 'do', 'more', 'to', 'raise', 'awareness', 'about', 'the', 'Black', 'maternal', 'health', 'crisis', 'and', 'do', 'something', 'about', 'it', 'BlackMamasMatter', 'BMHW21', 't', 'co', 'r41WCLl0UY', 'Our', 'Asian', 'American', 'communities', 'should', 'not', 'have', 'to', 'live', 'in', 'fear', 'of', 'facing', 'discrimination', 'hate', 'or', 'violence', 'We', 'must', 'come', 'together', 'and', 'stand', 'against', 'bigotry', 'and', 'StopAsianHate', 'That', 's', 'why', 'I', 'support', 'the', 'COVID', '19', 'Hate', 'Crimes', 'Act', 't', 'co', 'vSgYaHJTlB', 'Today', 'is', 'MilwaukeeDay', 'On', 'this', 'special', 'day', 'to', 'everyone', 'in', 'the', 'Cream', 'City', 'I', 'm', 'encouraging', 'all', 'Milwaukeeans', 'to', 'get', 'the', 'COVID19Vaccine', 'when', 'they', 'can', 'Check', 'out', 'where', 'to', 'get', 'vaccinated', 'here', 't', 'co', 'wupFwBHqRD', '414Day', 'We', 'should', 'not', 'spend', 'taxpayer', 'dollars', 'on', 'infrastructure', 'projects', 'that', 'are', 'not', 'subject', 'to', 'BuyAmerican', 'requirements', 'My', 'bipartisan', 'MadeInAmerica', 'Act', 'will', 'make', 'sure', 'we', 'support', 'U', 'S', 'workers', 'and', 'manufacturers', 'when', 'rebuilding', 'our', 'nation', 's', 'infrastructure', 't', 'co', '0ZoAAZ6YSG', 'Thank', 'you', 'to', 'DairyForward', 'for', 'having', 'me', 'at', 'this', 'year', 's', 'DairyDay', 'at', 'the', 'Capitol', 'Wisconsin', 'farmers', 'work', 'hard', 'every', 'day', 'to', 'support', 'our', 'agriculture', 'economy', 'and', 'rural', 'communities', 'amp', 'I', 'will', 'keep', 'working', 'to', 'do', 'right', 'by', 'them', 'as', 'we', 'continue', 'moving', 'Forward', 'together', 't', 'co', 'vNgl9x3DZe', 'I', 'support', 'MazieHirono', 's', 'COVID', '19', 'Hate', 'Crimes', 'Act', 'and', 'the', 'Senate', 'should', 'pass', 'it', 'this', 'week', 'StopAsianHate', 't', 'co', 'PQA3RChizF', 'Proud', 'to', 'join', 'PattyMurray', 'and', 'rosadelauro', 'to', 'introduce', 'the', 'HealthyFamiliesAct', 'Now', 'let', 's', 'pass', 'it', 'and', 'help', 'ensure', 'American', 'workers', 'have', 'paid', 'sick', 'days', 't', 'co', 'G5PPUCo7RH', 'On', 'this', 'historically', 'significant', 'day', 'for', 'Sikhs', 'I', 'm', 'wishing', 'our', 'friends', 'in', 'Wisconsin', 's', 'Sikh', 'community', 'a', 'happy', 'Vaisakhi', 't', 'co', '2GNCEuMpJz', 'Today', 'I', 'paid', 'my', 'respects', 'to', 'Capitol', 'Police', 'Officer', 'Billy', 'Evans', 'who', 'was', 'tragically', 'killed', 'doing', 'his', 'job', 'protecting', 'the', 'Capitol', 'My', 'heart', 'goes', 'out', 'to', 'his', 'family', 'amp', 'friends', 'and', 'to', 'the', 'entire', 'Capitol', 'Police', 'force', 'Let', 'us', 'honor', 'his', 'service', 'and', 'sacrifice', 't', 'co', 'Ob2eboE6ZG', 'We', 'should', 'not', 'spend', 'taxpayer', 'dollars', 'on', 'infrastructure', 'projects', 'that', 'are', 'not', 'subject', 'to', 'BuyAmerican', 'requirements', 'So', 'I', 'm', 'reintroducing', 'my', 'bipartisan', 'MadeInAmerica', 'Act', 'because', 'we', 'need', 'to', 'buy', 'what', 'America', 'makes', 'when', 'we', 'rebuild', 'our', 'infrastructure', 't', 'co', 'xqsMScmgI3', 'NEW', 'Today', 'I', 'm', 'reintroducing', 'my', 'bipartisan', 'MadeInAmerica', 'Act', 'with', 'SenatorBraun', 'and', 'RepGaramendi', 'because', 'we', 'need', 'to', 'make', 'bold', 'investments', 'to', 'support', 'American', 'workers', 'and', 'manufacturers', 'when', 'rebuilding', 'our', 'nation', 's', 'infrastructure', 't', 'co', 'YYYxf2DYbJ', 'Daunte', 'Wright', 'had', 'his', 'life', 'taken', 'away', 'by', 'police', 'and', 'there', 'should', 'be', 'accountability', 'and', 'justice', 'My', 'heart', 'breaks', 'for', 'his', 'family', 'and', 'friends', 'who', 'like', 'too', 'many', 'others', 'suffer', 'this', 'tragic', 'trauma', 'again', 'and', 'again', 'Change', 'is', 'long', 'overdue', 'and', 'we', 'need', 'to', 'act', 'on', 'policing', 'reforms', 'now', 'Thank', 'you', 'to', 'ChamberLaCrosse', 'for', 'the', 'great', 'meeting', 'today', 'Let', 's', 'keep', 'working', 'to', 'grow', 'our', 'MadeInWI', 'economy', 'and', 'move', 'Forward', 'together', 't', 'co', 'oRGGOD9MMJ', 'Thanks', 'so', 'much', 'to', 'UWMadison', 'for', 'all', 'their', 'work', 'on', 'great', 'MadeinWI', 'science', 'research', 'and', 'innovation', 'to', 'help', 'us', 'take', 'on', 'SARSCoV2', 't', 'co', '8bpX2XVDcx', 'I', 'want', 'to', 'wish', 'our', 'Muslim', 'community', 'in', 'Wisconsin', 'peace', 'and', 'renewal', 'as', 'the', 'beginning', 'of', 'Ramadan', 'begins', 'today', 't', 'co', 'u8KMVmLPWA', 'The', 'AmericanRescuePlan', 'includes', 'funding', 'to', 'help', 'ensure', 'that', 'Wisconsinites', 'and', 'their', 'families', 'have', 'a', 'roof', 'over', 'their', 'heads', 'HelpIsHere', 't', 'co', '7hEIhoaf5W', 'The', 'time', 'is', 'now', 'for', 'Wisconsin', 'Republicans', 'in', 'the', 'State', 'Legislature', 'to', 'do', 'the', 'right', 'thing', 'listen', 'to', 'the', 'people', 'of', 'our', 'state', 'and', 'seize', 'this', 'opportunity', 'to', 'expand', 'health', 'care', 'coverage', 'and', 'save', 'taxpayers', 'money', 't', 'co', 'IuuEYUHPHj', 'Thank', 'you', 'POTUS', 'for', 'taking', 'these', 'important', 'steps', 'to', 'EndGunViolence', 'The', 'American', 'people', 'support', 'commonsense', 'gun', 'safety', 'reforms', 'let', 's', 'get', 'it', 'done', 'and', 'help', 'save', 'lives', 't', 'co', 'PtC4mXMCt2', 'Too', 'many', 'American', 'families', 'have', 'lost', 'loved', 'ones', 'to', 'gun', 'violence', 'in', 'this', 'country', 'It', 's', 'an', 'epidemic', 'that', 'demands', 'more', 'than', 'just', 'thoughts', 'and', 'prayers', 'but', 'action', 'I', 'believe', 'we', 'have', 'a', 'moral', 'responsibility', 'in', 'Congress', 'to', 'pass', 'commonsense', 'gun', 'safety', 'reforms', 'that', 'will', 'save', 'lives', 'TODAY', 'I', 'm', 'standing', 'with', 'JodiRep', 'CitizenActionWI', 'and', 'other', 'leaders', 'to', 'discuss', 'why', 'Wisconsin', 'needs', 'to', 'accept', 'the', 'federal', 'AmericanRescuePlan', 'investment', 'in', 'our', 'BadgerCare', 'program', 'to', 'provide', 'more', 'folks', 'the', 'health', 'care', 'they', 'need', 'RSVP', 'now', 't', 'co', 'L5HxkDkGF0', 'Now', 'more', 'than', 'ever', 'Americans', 'need', 'access', 'to', 'quality', 'affordable', 'health', 'care', 'The', 'AmericanRescuePlan', 'expands', 'premium', 'tax', 'credits', 'and', 'lowers', 'health', 'care', 'costs', 'so', 'you', 'can', 'find', 'a', 'health', 'care', 'plan', 'that', 'meets', 'your', 'needs', 'at', 'a', 'price', 'you', 'can', 'afford', 'GetCovered', 't', 'co', 'Di4xSbWXYn', 'Thank', 'you', 'to', 'the', 'OshkoshChamber', 'for', 'having', 'me', 'today', 'to', 'discuss', 'how', 'we', 'can', 'continue', 'working', 'together', 'to', 'support', 'our', 'workers', 'our', 'businesses', 'and', 'our', 'MadeInWI', 'economy', 't', 'co', 'qdiFk4DEzw', 'Tracking', 'coronavirus', 'variants', 'is', 'so', 'important', 'to', 'our', 'ability', 'to', 'combat', 'the', 'virus', 'amp', 'get', 'through', 'the', 'pandemic', 'and', 'I', 'want', 'to', 'applaud', 'the', 'team', 'UWMadison', 'for', 'their', 'incredible', 'work', 'I', 'was', 'proud', 'to', 'champion', 'funding', 'in', 'the', 'AmericanRescuePlan', 'to', 'boost', 'our', 'efforts', 'to', 'track', 'variants', 't', 'co', 'JJbMGN0sfO', 'I', 'm', 'saddened', 'to', 'hear', 'of', 'the', 'passing', 'of', 'my', 'friend', 'and', 'colleague', 'Rep', 'Alcee', 'Hastings', 'He', 'was', 'a', 'champion', 'for', 'civil', 'rights', 'and', 'the', 'people', 'of', 'Florida', 'and', 'I', 'was', 'honored', 'to', 'work', 'with', 'him', 'in', 'the', 'House', 'My', 'deepest', 'condolences', 'to', 'his', 'family', 'and', 'loved', 'ones', 'during', 'this', 'difficult', 'time', 't', 'co', 'zwaiXcstBH', 'WearAMask', 'to', 'protect', 'the', 'health', 'and', 'safety', 'of', 'yourself', 'and', 'those', 'around', 'you', 'Together', 'we', 'will', 'get', 'through', 'this', 'MaskUp', 't', 'co', 'bMGGVo9VSh', 'Hey', 'Wisconsin', 'Today', 'is', 'the', 'day', 'that', 'all', 'residents', '16', 'years', 'old', 'and', 'older', 'are', 'eligible', 'for', 'the', 'COVID19', 'vaccine', 'Everyone', 'needs', 'to', 'get', 'the', 'COVID19', 'vaccine', 'so', 'we', 'can', 'get', 'through', 'this', 'pandemic', 'and', 'move', 'forward', 'together', 'Learn', 'more', 'about', 'getting', 'your', 'shot', 'here', 't', 'co', 'bL7lZZrRuO', 'Happy', 'Easter', 'Sunday', 'Wisconsin', 't', 'co', 'ryNc6B4rfZ', 'Don', 't', 'forget', 'You', 'can', 'sign', 'up', 'for', 'quality', 'affordable', 'health', 'insurance', 'between', 'now', 'and', 'August', '15', 'And', 'thanks', 'to', 'the', 'AmericanRescuePlan', 'there', 'is', 'more', 'financial', 'help', 'and', 'lower', 'cost', 'plans', 'available', 'Wisconsinites', 'can', 'visit', 't', 'co', '2HpWljtgbM', 'to', 'GetCovered', 'The', 'future', 'of', 'a', 'democratic', 'amp', 'stable', 'Afghanistan', 'depends', 'on', 'how', 'gains', 'on', 'human', 'rights', 'and', 'women', 's', 'empowerment', 'are', 'protected', 'SenatorShaheen', 'and', 'I', 'wrote', 'to', 'POTUS', 'to', 'urge', 'the', 'importance', 'of', 'women', 's', 'active', 'participation', 'in', 'ongoing', 'Afghan', 'peace', 'negotiations', 'Read', 'our', 'letter', 'here', 't', 'co', '7zTwBpldcs', 'Devastated', 'that', 'a', 'Capitol', 'Police', 'officer', 'was', 'killed', 'in', 'the', 'line', 'of', 'duty', 'today', 'My', 'thoughts', 'are', 'with', 'their', 'family', 'amp', 'friends', 'and', 'I', 'pray', 'the', 'injured', 'officer', 'makes', 'a', 'full', 'recovery', 'I', 'm', 'grateful', 'to', 'Capitol', 'Police', 'amp', 'National', 'Guard', 'for', 'keeping', 'everyone', 'who', 'works', 'in', 'the', 'Capitol', 'safe', 'Go', 'Brewers', 'ThisIsMyCrew', 'OpeningDay', 't', 'co', 'k3mWYubcsQ', 'The', 'Crime', 'Victims', 'Fund', 'ensures', 'that', 'victims', 'of', 'crimes', 'receive', 'the', 'compensation', 'and', 'assistance', 'they', 'need', 'This', 'lifeline', 'for', 'so', 'many', 'is', 'rapidly', 'running', 'out', 'of', 'funds', 'and', 'I', 'have', 'bipartisan', 'legislation', 'to', 'replenish', 'it', 'so', 'folks', 'can', 'continue', 'accessing', 'these', 'critical', 'resources', 't', 'co', 'FL9RbNaAyE', 'We', 'need', 'a', 'bold', 'economic', 'plan', 'and', 'POTUS', 'has', 'put', 'one', 'forward', 'that', 'will', 'create', 'jobs', 'put', 'people', 'back', 'to', 'work', 'and', 'rebuild', 'economic', 'security', 'for', 'working', 'families', 'AmericanJobsPlan', 'BuildBackBetter', 'On', 'this', 'TransDayOfVisibility', 'I', 'have', 'a', 'simple', 'message', 'I', 'see', 'you', 'I', 'am', 'with', 'you', 'and', 'I', 'will', 'keep', 'fighting', 'to', 'make', 'sure', 'you', 'WontBeErased', 't', 'co', 'uVlgurVKt0', 'Get', 'vaccinated', 'Wear', 'a', 'mask', 'Save', 'lives', 'MaskUpWisconsin', 'StopTheSpread', 't', 'co', 'yJuvX15RnU', 'Today', 'Wisconsin', 'celebrates', 'CesarChavezDay', 'to', 'recognize', 'and', 'remember', 'a', 'champion', 'of', 'workers', 'rights', 'civil', 'rights', 'and', 'economic', 'justice', 'Let', 'us', 'be', 'inspired', 'by', 'la', 'causa', 'as', 'the', 'march', 'goes', 'on', 'SiSePuede', 't', 'co', 'edmNaDnQCI', 'As', 'we', 'close', 'out', 'WomensHistoryMonth', 'let', 's', 'give', 'thanks', 'to', 'the', 'trailblazers', 'who', 'came', 'before', 'us', 'to', 'break', 'down', 'barriers', 'amp', 'move', 'our', 'country', 'forward', 'We', 'must', 'keep', 'working', 'to', 'advance', 'equal', 'opportunity', 'for', 'all', 'women', 'and', 'empower', 'young', 'women', 'amp', 'girls', 'to', 'be', 'the', 'next', 'generation', 'of', 'leaders', 't', 'co', 'vNLnClKr2I', 'The', 'AmericanRescuePlan', 'makes', 'a', 'bold', 'investment', 'to', 'support', 'schools', 'safely', 'reopening', 'for', 'students', 'amp', 'educators', 'As', 'we', 'work', 'to', 'rebuild', 'our', 'infrastructure', 'we', 'must', 'also', 'invest', 'in', 'our', 'schools', 'so', 'they', 'don', 't', 'get', 'left', 'behind', 'This', 'legislation', 'will', 'get', 'it', 'done', 't', 'co', '5RfM9eyQ1f', 'Since', 'Citizens', 'United', 'dark', 'money', 'and', 'super', 'PACs', 'have', 'polluted', 'our', 'political', 'system', 'We', 're', 'going', 'to', 'end', 'this', 'corruption', 'with', 'the', 'ForThePeople', 'Act', 'and', 'get', 'dark', 'money', 'OUT', 'of', 'our', 'elections', 't', 'co', 'ywUkJ5t58b', 'I', 'am', 'so', 'proud', 'that', 'now', 'these', 'Wisconsin', 'workers', 'and', 'retirees', 'have', 'the', 'peace', 'of', 'mind', 'of', 'knowing', 'that', 'their', 'pensions', 'will', 'be', 'there', 'for', 'them', 'and', 'for', 'their', 'families', 'when', 'they', 'need', 'it', 't', 'co', '85Z9NrN9VV', 'People', 'should', 'get', 'vaccinated', 'to', 'protect', 'themselves', 'and', 'help', 'us', 'save', 'lives', 'VaccinateMKE', 'CrushCovidMKE', 'Make', 'a', 'plan', 'today', 'to', 'get', 'vaccinated', 't', 'co', 'VEFhQ40NYg', 'I', 'want', 'every', 'Wisconsinite', 'to', 'know', 'that', 'the', 'COVID19', 'vaccines', 'are', 'safe', 'and', 'effective', 'at', 'preventing', 'sickness', 'severe', 'illness', 'and', 'death', 'As', 'more', 'people', 'get', 'vaccinated', 'the', 'faster', 'we', 're', 'going', 'to', 'beat', 'this', 'deadly', 'pandemic', 't', 'co', '7n7njECDob', 'I', 'worked', 'for', 'six', 'years', 'with', 'Wisconsin', 'workers', 'and', 'retirees', 'to', 'make', 'sure', 'they', 'would', 'get', 'the', 'pensions', 'that', 'they', 'worked', 'for', 'and', 'earned', 'and', 'finally', 'we', 'were', 'able', 'to', 'get', 'this', 'done', 'in', 'the', 'American', 'Rescue', 'Plan', 't', 'co', '0xdkW2uHs3', 'We', 'must', 'pass', 'the', 'ForThePeople', 'Act', 'and', 'John', 'Lewis', 'VotingRightsAct', 'to', 'stop', 'voter', 'suppression', 'efforts', 'protect', 'voting', 'rights', 'and', 'strengthen', 'our', 'democracy', 't', 'co', 'mcFmPQPK4o', 'That', 's', 'the', 'way', 'we', 'do', 'it', 'KeepErMovin', 't', 'co', 'CM8NLrzCq3', 'The', 'AmericanRescuePlan', 'expands', 'tax', 'credits', 'reduces', 'premiums', 'and', 'lowers', 'health', 'care', 'costs', 't', 'co', 'QoaWlb0Zoj', 'I', 'm', 'standing', 'in', 'solidarity', 'with', 'the', 'AAPIcoalitionWI', 'and', 'local', 'leaders', 'throughout', 'the', 'state', 'during', 'today', 's', 'National', 'Day', 'of', 'Action', 'and', 'Healing', 'We', 'must', 'denounce', 'violence', 'against', 'the', 'Asian', 'American', 'community', 'We', 'must', 'work', 'together', 'to', 'StopAsianHate', 'and', 'StopAAPIHate', 't', 'co', 'uLugxmAmwo', 'The', 'majority', 'of', 'Americans', 'agree', 'the', 'AmericanRescuePlan', 'is', 'the', 'support', 'we', 'need', 'to', 'help', 'us', 'get', 'past', 'this', 'public', 'health', 'crisis', 'and', 'move', 'Wisconsin', 's', 'economy', 'forward', 'HelpIsHere', 't', 'co', '1W6AMKeCYV', 'Thanks', 'to', 'visitmilwaukee', 'for', 'supporting', 'the', 'AmericanRescuePlan', 'so', 'we', 'can', 'get', 'past', 'this', 'pandemic', 'and', 'move', 'MKE', 'forward', 'together', 't', 'co', 'xPjY3HTwTk', 'Today', 'I', 'joined', 'RonWyden', 'to', 'introduce', 'a', 'new', 'bill', 'to', 'build', 'on', 'this', 'progress', 'and', 'make', 'sure', 'working', 'families', 'amp', 'students', 'have', 'access', 'to', 'broadband', 'no', 'matter', 'where', 'they', 'live', 'and', 'are', 'not', 'left', 'behind', 'as', 'we', 'work', 'to', 'build', 'back', 'better', 'amp', 'move', 'our', 'economy', 'forward', 't', 'co', 'oMDE6RDdsx', 'Reliable', 'high', 'speed', 'broadband', 'is', 'necessary', 'for', 'our', 'small', 'businesses', 'amp', 'rural', 'communities', 'to', 'get', 'through', 'this', 'ongoing', 'pandemic', 'That', 's', 'why', 'I', 'worked', 'to', 'expand', 'broadband', 'access', 'so', 'folks', 'can', 'stay', 'connected', 'to', 'work', 'school', 'and', 'communities', 'during', 'this', 'pandemic', 't', 'co', 'vDWCfyRb0E', 'People', 'in', 'Wisconsin', 'must', 'have', 'quality', 'health', 'care', 'coverage', 'during', 'and', 'after', 'this', 'public', 'health', 'crisis', 'The', 'AmericanRescuePlan', 'lowers', 'health', 'care', 'costs', 'so', 'people', 'have', 'the', 'affordable', 'coverage', 'they', 'need', 't', 'co', 'QggyIPtgvj', 'Over', 'the', 'last', 'year', 'the', 'use', 'of', 'anti', 'Asian', 'terminology', 'and', 'rhetoric', 'related', 'to', 'COVID', '19', 'has', 'contributed', 'to', 'the', 'rise', 'in', 'racism', 'hate', 'crimes', 'and', 'violence', 'We', 'all', 'must', 'stand', 'together', 'and', 'make', 'it', 'clear', 'It', 'is', 'past', 'time', 'to', 'StopAsianHate', 'and', 'StopAAPIHate', 't', 'co', 'ibLJotSm5e', 'HelpIsHere', 'for', 'Dane', 'County', 'and', 'with', 'the', 'AmericanRescuePlan', 'we', 'are', 'going', 'to', 'get', 'through', 'this', 'together', 't', 'co', 'KjhfQuk1Zw', 'Obstruction', 'from', 'Wisconsin', 'Republicans', 'has', 'cost', 'our', 'state', 'It', 's', 'time', 'to', 'do', 'the', 'right', 'thing', 'and', 'take', 'the', 'federal', 'investment', 'in', 'our', 'BadgerCare', 'program', 'so', 'we', 'can', 'expand', 'health', 'care', 'coverage', 'to', 'more', 'people', 'who', 'need', 'it', 'and', 'save', 'taxpayers', 'money', 't', 'co', 'hWgR7EAbg3', 'The', 'AmericanRescuePlan', 'builds', 'on', 'the', 'ACA', 'by', 'lowering', 'premiums', 'reducing', 'health', 'care', 'costs', 'and', 'expanding', 'quality', 'affordable', 'health', 'care', 'coverage', 'HelpIsHere', 't', 'co', 'HwCRaGdNzw', 'I', 'am', 'so', 'grateful', 'for', 'PEARLS_MKE', 'and', 'the', 'leadership', 'of', 'alderwomancoggs', 'Thank', 'you', 'for', 'including', 'me', 'in', 'today', 's', 'wonderful', 'conversation', 'about', 'helping', 'our', 'young', 'women', 'and', 'girls', 'in', 'MKE', 'realize', 'their', 'dreams', 'pursue', 'their', 'ambitions', 'and', 'succeed', 'in', 'their', 'bright', 'futures', 't', 'co', 'nJzNo9TRYh', 'My', 'goal', 'in', 'the', 'Senate', 'is', 'to', 'get', 'things', 'done', 'for', 'the', 'people', 'of', 'Wisconsin', 'If', 'that', 'takes', 'reforming', 'the', 'filibuster', 'I', 'm', 'for', 'that', 'If', 'it', 'takes', 'getting', 'rid', 'of', 'the', 'filibuster', 'I', 'm', 'for', 'that', 'too', 'We', 'can', 't', 'let', 'obstructionists', 'block', 'us', 'from', 'delivering', 'results', 'for', 'the', 'American', 'people', 'We', 'must', 'stand', 'together', 'in', 'support', 'of', 'the', 'AAPI', 'community', 'and', 'stand', 'together', 'against', 'the', 'rise', 'in', 'COVID19', 'related', 'racism', 'hate', 'crimes', 'and', 'violence', 'Thanks', 'to', 'maziehirono', 'and', 'SenDuckworth', 'for', 'their', 'leadership', 'introducing', 'a', 'Senate', 'resolution', 'that', 'makes', 'it', 'clear', 'StopAAPIHate', 'A', 'pension', 'is', 'a', 'promise', 'to', 'Wisconsin', 'workers', 'and', 'retirees', 'and', 'I', 'am', 'proud', 'we', 'worked', 'to', 'deliver', 'on', 'that', 'promise', 'in', 'the', 'AmericanRescuePlan', 't', 'co', 'jM0wV2NOmB', 'With', 'millions', 'diagnosed', 'with', 'COVID', '19', 'we', 'should', 'be', 'working', 'to', 'expand', 'quality', 'affordable', 'health', 'care', 'that', 'provides', 'all', 'ACA', 'protections', 'amp', 'essential', 'benefits', 'Junk', 'plans', 'don', 't', 'and', 'we', 'need', 'to', 'stop', 'their', 'expansion', 'so', 'people', 'can', 'get', 'the', 'health', 'care', 'they', 'need', 't', 'co', 'A8FmXyY2Pq', 'Today', 'I', 'reintroduced', 'my', 'No', 'Junk', 'Plans', 'Act', 'with', 'SenStabenow', 'and', 'SenBobCasey', 'to', 'overturn', 'the', 'Trump', 'era', 'rule', 'expanding', 'junk', 'health', 'insurance', 'plans', 'that', 'don', 't', 'provide', 'health', 'care', 'coverage', 'for', 'folks', 'with', 'pre', 'existing', 'conditions', 'Read', 'more', 't', 'co', 'o2Q5lIcJxV', 'The', 'AmericanRescuePlan', 'provides', 'federal', 'support', 'to', 'Wisconsin', 'State', 'Veterans', 'homes', 'so', 'now', 'HelpIsHere', 'for', 'Veterans', 'and', 'their', 'families', 'in', 'Union', 'Grove', 't', 'co', 'hxlCpTHWw5', 'The', 'TRIO', 'program', 'helps', 'students', 'from', 'low', 'income', 'and', 'disadvantaged', 'backgrounds', 'prepare', 'for', 'and', 'succeed', 'in', 'higher', 'education', 'so', 'I', 've', 'introduced', 'bipartisan', 'legislation', 'will', 'make', 'this', 'program', 'more', 'accessible', 'to', 'students', 'TRIOWorks', 't', 'co', 'bEBUklK0KK', 'With', 'voting', 'rights', 'under', 'attack', 'in', 'Wisconsin', 'and', 'across', 'the', 'country', 'I', 'support', 'passing', 'the', 'ForThePeople', 'Act', 'and', 'John', 'Lewis', 'VotingRightsAct', 'to', 'stop', 'voter', 'suppression', 'efforts', 'protect', 'voting', 'rights', 'and', 'strengthen', 'our', 'democracy', 't', 'co', 'PjIcSngAgm', 'It', 's', '2021', 'and', 'women', 'in', 'America', 'are', 'still', 'paid', 'less', 'than', 'men', 'for', 'the', 'same', 'work', 'and', 'for', 'women', 'of', 'color', 'it', 's', 'even', 'worse', 'And', 'with', 'school', 'amp', 'daycare', 'COVID19', 'closures', 'moms', 'are', 'juggling', 'even', 'more', 'this', 'EqualPayDay', 'than', 'usual', 'Women', 'deserve', 'equalpay', 'for', 'equal', 'work', 'now', 't', 'co', 'Z57xCQ1zfJ', 'Voting', 'rights', 'should', 'not', 'be', 'a', 'partisan', 'issue', 'but', 'Senate', 'Republicans', 'can', 't', 'give', 'up', 'promoting', 'Trump', 's', 'conspiracy', 'theories', 'and', 'his', 'big', 'lie', 'that', 'the', 'election', 'was', 'stolen', 'from', 'him', 'It', 'wasn', 't', 'he', 'lost', 'fair', 'and', 'square', 'Now', 'let', 's', 'pass', 'the', 'ForThePeople', 'Act', 'and', 'John', 'Lewis', 'VotingRightsAct', 't', 'co', 'hUnvw8JlU3', 'It', 'is', 'time', 'for', 'Congress', 'to', 'take', 'action', 'and', 'take', 'on', 'the', 'rising', 'costs', 'of', 'medicine', 'people', 'depend', 'on', 't', 'co', 'VuEt8bxRY4', 'I', 'voted', 'for', 'Dr', 'Vivek', 'Murthy', 'as', 'our', 'new', 'Surgeon', 'General', 'He', 'has', 'committed', 'his', 'life', 's', 'work', 'to', 'public', 'health', 'serving', 'as', 'America', 's', 'Doctor', 'before', 'and', 'he', 'is', 'the', 'leader', 'we', 'need', 'in', 'this', 'role', 'to', 'help', 'us', 'get', 'past', 'the', 'ongoing', 'COVID19', 'pandemic', 't', 'co', 'Ypa7uJH65Z', 'The', 'AmericanRescuePlan', 'builds', 'on', 'the', 'ACA', 'so', 'more', 'people', 'in', 'Wisconsin', 'have', 'quality', 'affordable', 'health', 'care', 'coverage', 'during', 'and', 'after', 'this', 'pandemic', 'It', 'expands', 'access', 'to', 'care', 'lowers', 'premiums', 'amp', 'reduces', 'health', 'care', 'costs', 'HelpisHere', 't', 'co', 'B8vcTVOkn9', 'Today', 'we', 'celebrate', '11', 'years', 'of', 'the', 'Affordable', 'Care', 'Act', 'despite', 'all', 'the', 'efforts', 'by', 'Congressional', 'Republicans', 'and', 'Trump', 'to', 'repeal', 'your', 'health', 'care', 'The', 'ACA', 'expanded', 'health', 'care', 'coverage', 'to', 'millions', 'of', 'Americans', 'and', 'protected', 'people', 'with', 'pre', 'existing', 'conditions', 'ProtectOurCare', 't', 'co', 'KmdySdlyw1', 'The', 'AmericanRescuePlan', 'provides', 'support', 'to', 'our', 'State', 'Veterans', 'homes', 'so', 'they', 'can', 'serve', 'the', 'finest', 'among', 'us', 'HelpIsHere', 't', 'co', 'Ot7TM3Q0Bz', 'A', 'pension', 'is', 'a', 'promise', 'so', 'I', 'worked', 'to', 'make', 'sure', 'it', 'was', 'kept', 'for', 'Wisconsin', 'workers', 'and', 'retirees', 'HelpIsHere', 't', 'co', 'ai5kM48gr1', 'For', 'too', 'long', 'I', 've', 'heard', 'story', 'after', 'story', 'from', 'Wisconsinites', 'who', 'are', 'struggling', 'to', 'afford', 'the', 'life', 'saving', 'medications', 'they', 'need', 'It', 'is', 'time', 'for', 'Congress', 'to', 'work', 'together', 'to', 'take', 'action', 'and', 'take', 'on', 'the', 'rising', 'costs', 'of', 'medicine', 'people', 'depend', 'on', 't', 'co', 'KJawND5i7p', 'Today', 'I', 'introduced', 'bipartisan', 'legislation', 'with', 'SenatorBraun', 'LisaMurkowski', 'SenTinaSmith', 'that', 'will', 'demand', 'answers', 'and', 'transparency', 'from', 'drug', 'companies', 'that', 'jack', 'up', 'the', 'prices', 'on', 'the', 'medications', 'that', 'Americans', 'need', 't', 'co', 'vN04Xt6HsB', 'HAPPENING', 'NOW', 'For', 'too', 'long', 'the', 'Senate', 'has', 'failed', 'to', 'act', 'on', 'gun', 'violence', 'prevention', 'Today', 'JudiciaryDems', 'are', 'working', 'to', 'change', 'that', 'so', 'we', 'can', 'EndGunViolence', 't', 'co', '347L86Cfjd', 'Mass', 'shootings', 'and', 'more', 'heartbreak', 'for', 'families', 'that', 'lose', 'loved', 'ones', 'to', 'gun', 'violence', 'is', 'a', 'crisis', 'in', 'America', 'A', 'moral', 'crisis', 'we', 'can', 't', 'ignore', 'and', 'must', 'confront', 'with', 'action', 't', 'co', 'zvDlzAwsUW', 'I', 'voted', 'for', 'Marty', 'Walsh', 'because', 'he', 'will', 'provide', 'new', 'leadership', 'USDOL', 'that', 'makes', 'sure', 'we', 'protect', 'and', 'support', 'workers', 'I', 'look', 'forward', 'to', 'working', 'with', 'him', 'to', 'ensure', 'all', 'workers', 'have', 'a', 'fair', 'safe', 'and', 'just', 'workplace', 'where', 'hard', 'work', 'is', 'treated', 'with', 'dignity', 'and', 'respect', 't', 'co', '6m8db6AWD7', 'For', 'about', '22', '500', 'workers', 'and', 'retirees', 'in', 'Wisconsin', 'HelpisHere', 'I', 'worked', 'for', 'six', 'years', 'to', 'make', 'sure', 'they', 'would', 'get', 'the', 'pensions', 'that', 'they', 'worked', 'for', 'and', 'earned', 'and', 'finally', 'we', 'were', 'able', 'to', 'get', 'this', 'done', 'in', 'the', 'AmericanRescuePlan', 't', 'co', 'iMIScUWDGK', 'Congratulations', 'to', 'BadgerWHockey', 'on', 'winning', 'their', 'SIXTH', 'National', 'Championship', 'OnWisconsin', 't', 'co', 'JNbu075fMS', 'On', 'this', 'day', 'in', '1965', 'Dr', 'Martin', 'Luther', 'King', 'Jr', 'led', 'thousands', 'of', 'people', 'in', 'the', 'third', 'march', 'from', 'Selma', 'to', 'Montgomery', 'Let', 'us', 'be', 'inspired', 'today', 'to', 'carry', 'on', 'our', 'work', 'to', 'protect', 'voting', 'rights', 'advance', 'racial', 'justice', 'and', 'move', 'equality', 'forward', 'for', 'all', 't', 'co', 'lgLO932HHy', 'Prioritizing', 'our', 'workers', 'and', 'businesses', 'here', 'at', 'home', 'for', 'projects', 'is', 'the', 'best', 'way', 'forward', 'in', 'building', 'back', 'our', 'economy', 'better', 'than', 'before', 'BuyAmerican', 't', 'co', 'zrReeICA48', 'For', 'the', 'first', 'time', 'in', 'more', 'than', 'six', 'years', 'thousands', 'of', 'WI', 'workers', 'and', 'retirees', 'don', 't', 'have', 'to', 'worry', 'about', 'cuts', 'to', 'pensions', 'they', 've', 'already', 'earned', 'I', 'm', 'so', 'proud', 'we', 'got', 'the', 'job', 'done', 'in', 'protecting', 'the', 'pensions', 'they', 'have', 'worked', 'for', 'planned', 'for', 'and', 'depend', 'on', 't', 'co', 'wJp9nuEOOi', 'Taxpayer', 'dollars', 'should', 'benefit', 'American', 'workers', 'and', 'American', 'companies', 'It', 's', 'the', 'right', 'thing', 'to', 'do', 'during', 'this', 'economic', 'crisis', 'BuyAmerican', 't', 'co', 'XWIpFKQpwu', 'Millions', 'of', 'Americans', 'remain', 'unemployed', 'and', 'struggling', 'to', 'make', 'ends', 'meet', 'so', 'we', 'need', 'a', 'bold', 'federal', 'investment', 'in', 'state', 'and', 'local', 'jobs', 'programs', 'to', 'create', 'job', 'opportunities', 'and', 'put', 'people', 'back', 'to', 'work', 'Our', 'Jobs', 'for', 'Economic', 'Recovery', 'Act', 'provides', 'it', 't', 'co', 'J136cvi1BH', 'I', 'believe', 'Wisconsin', 'nurses', 'on', 'the', 'frontlines', 'of', 'this', 'pandemic', 'should', 'have', 'a', 'safe', 'workplace', 'and', 'paid', 'sick', 'leave', 'Their', 'work', 'should', 'be', 'respected', 'and', 'Meriter', 'nurses', 'should', 'have', 'a', 'voice', 'in', 'negotiating', 'a', 'fair', 'agreement', 'with', 'uph_meriter', 'amp', 'UnityPointNews', 'that', 'rewards', 'their', 'hard', 'work', 'I', 'just', 'reintroduced', 'the', 'Jobs', 'for', 'Economic', 'Recovery', 'Act', 'with', 'RonWyden', 'ChrisVanHollen', 'SenatorBennet', 'SenBooker', 'As', 'we', 'support', 'workers', 'amp', 'businesses', 'in', 'our', 'recovery', 'from', 'this', 'economic', 'crisis', 'this', 'legislation', 'is', 'a', 'stronger', 'way', 'forward', 'amp', 'we', 'should', 'seize', 'it', 't', 'co', 'aTYcZbcvaT', 'I', 'm', 'working', 'to', 'make', 'sure', 'the', 'AmericanRescuePlan', 'supports', 'our', 'workers', 'and', 'businesses', 'here', 'at', 'home', 'BuyAmerican', 't', 'co', 'Hp7zi6wgwb', 'A', 'pension', 'is', 'a', 'promise', 'that', 'must', 'be', 'kept', 'Now', '22', '500', 'workers', 'and', 'retirees', 'in', 'Wisconsin', 'know', 'that', 'the', 'pensions', 'they', 'earned', 'will', 'be', 'there', 'for', 'them', 'when', 'they', 'need', 'it', 'I', 'was', 'proud', 'to', 'work', 'with', 'WI', 'teamsters', 'for', '6', 'long', 'years', 'to', 'get', 'this', 'job', 'done', 't', 'co', 'gQeOE3wo3S', 'Thanks', 'for', 'meeting', 'with', 'me', 'and', 'thanks', 'for', 'all', 'you', 'are', 'doing', 'to', 'help', 'families', 'get', 'through', 'this', 'public', 'health', 'and', 'economic', 'crisis', 't', 'co', 'fLuIilbOig', 'Proud', 'to', 'vote', 'for', 'XavierBecerra', 's', 'historic', 'confirmation', 'to', 'lead', 'HHSGov', 'I', 'know', 'he', 'will', 'not', 'only', 'protect', 'people', 's', 'health', 'care', 'including', 'guaranteed', 'protections', 'for', 'people', 'with', 'pre', 'existing', 'conditions', 'he', 'will', 'work', 'to', 'expand', 'access', 'to', 'quality', 'affordable', 'health', 'care', 't', 'co', 'zkS5b6dHAg', 'No', 'one', 'should', 'work', 'hard', 'full', 'time', 'and', 'live', 'in', 'poverty', 'It', 'is', 'past', 'time', 'to', 'RaiseTheWage', 't', 'co', 'tCZgHzqsbW', 'We', 'need', 'to', 'buy', 'what', 'America', 'makes', 'Period', 'The', 'federal', 'government', 'should', 'use', 'its', 'authority', 'to', 'suspend', 'trade', 'waivers', 'that', 'favor', 'foreign', 'companies', 'so', 'we', 'can', 'support', 'American', 'workers', 'and', 'American', 'businesses', 't', 'co', 'ruS8bryCRU', 'I', 'm', 'calling', 'on', 'POTUS', 'to', 'temporarily', 'suspend', 'trade', 'waivers', 'and', 'prioritize', 'American', 'companies', 'for', 'projects', 'funded', 'by', 'the', 'AmericanRescuePlan', 'BuyAmerican', 't', 'co', 'Ci5ErtGvyq', 'Our', 'nation', 'has', 'trade', 'waivers', 'that', 'could', 'allow', 'foreign', 'companies', 'that', 'don', 't', 'have', 'American', 'workers', 'or', 'pay', 'American', 'taxes', 'to', 'bid', 'on', 'projects', 'funded', 'by', 'your', 'taxpayer', 'money', 'We', 'should', 'suspend', 'these', 'waivers', 'to', 'support', 'U', 'S', 'workers', 'amp', 'businesses', 'not', 'foreign', 'firms', 'BuyAmerican', 't', 'co', 'QSB6AUCRVT', 'Voting', 'rights', 'should', 'not', 'be', 'a', 'partisan', 'issue', 'but', 'Republicans', 'in', 'Wisconsin', 'and', 'Washington', 'want', 'to', 'make', 'it', 'harder', 'for', 'you', 'to', 'vote', 'I', 'believe', 'every', 'American', 'should', 'have', 'their', 'voice', 'heard', 'so', 'I', 'm', 'working', 'to', 'protect', 'your', 'voting', 'rights', 'by', 'passing', 'the', 'John', 'Lewis', 'VotingRightsAct', 't', 'co', '1nQILbeRTO', 'HelpIsHere', 'Green', 'Bay', 'and', 'I', 'was', 'proud', 'to', 'be', 'the', 'one', 'member', 'of', 'our', 'Congressional', 'delegation', 'representing', 'Titletown', 'to', 'support', 'you', 't', 'co', 'Mc3YUWjHwm', 'I', 'support', 'the', 'ForThePeople', 'Act', 'because', 'I', 'support', 'more', 'people', 'voting', 'not', 'less', 'Let', 's', 'break', 'down', 'barriers', 'to', 'ensure', 'everyone', 'can', 'access', 'the', 'right', 'to', 'vote', 'VotingRightsAct', 'VRAA', 't', 'co', 'j8lhK04PS8', 'Proud', 'to', 'vote', 'again', 'today', 'to', 'make', 'history', 'on', 'POTUS', 'nomination', 'of', 'Katherine', 'Tai', 'as', 'our', 'new', 'United', 'States', 'Trade', 'Representative', 'She', 'understands', 'the', 'human', 'impact', 'of', 'trade', 'policies', 'and', 'has', 'spent', 'her', 'career', 'working', 'to', 'level', 'the', 'playing', 'field', 'for', 'American', 'workers', 'and', 'families', 't', 'co', 'ZTPxbAHElj', 'My', 'heart', 'breaks', 'for', 'the', 'two', 'workers', 'whose', 'lives', 'were', 'taken', 'by', 'tragic', 'gun', 'violence', 'in', 'Oconomowoc', 'I', 'know', 'everyone', 'in', 'Wisconsin', 'joins', 'me', 'in', 'sending', 'our', 'sympathies', 'to', 'their', 'friends', 'families', 'and', 'co', 'workers', 't', 'co', 'p8aiTQy4uD', 'HelpIsHere', 'La', 'Crosse', 'and', 'that', 's', 'why', 'I', 'voted', 'to', 'pass', 'the', 'AmericanRescuePlan', 't', 'co', 'T7rPz3dXPc', 'Voting', 'rights', 'are', 'under', 'attack', 'in', 'Wisconsin', 'and', 'across', 'the', 'country', 'and', 'I', 'support', 'doing', 'what', 'we', 'need', 'to', 'do', 'in', 'the', 'Senate', 'to', 'pass', 'the', 'ForThePeople', 'Act', 'and', 'the', 'John', 'Lewis', 'VRAA', 'because', 'we', 'should', 'make', 'it', 'easier', 'to', 'vote', 'not', 'harder', 't', 'co', 'Q3RH13yyDt', 'Thanks', 'to', 'Wisconsin', 'health', 'care', 'leaders', 'for', 'supporting', 'my', 'bipartisan', 'legislation', 'to', 'support', 'our', 'rural', 'hospitals', 'as', 'we', 'work', 'together', 'to', 'get', 'past', 'this', 'pandemic', 'and', 'move', 'forward', 't', 'co', 'wKXEVEogVy', 'My', 'thoughts', 'are', 'with', 'the', 'Atlanta', 'community', 'and', 'my', 'heart', 'breaks', 'for', 'the', 'family', 'and', 'friends', 'of', 'the', 'victims', 'of', 'this', 'tragic', 'mass', 'shooting', 'The', 'freedom', 'of', 'full', 'equality', 'for', 'LGBTQ', 'Americans', 'is', 'the', 'next', 'step', 'forward', 'for', 'our', 'country', 'When', 'the', 'Senate', 'Judiciary', 'Committee', 'JudiciaryDems', 'holds', 'its', 'hearing', 'today', 'on', 'the', 'Equality', 'Act', 'I', 'will', 'be', 'there', 'to', 'make', 'my', 'voice', 'heard', 'EqualityActNOW', 'It', 's', 'time', 'to', 'turn', 'the', 'page', 'on', 'Trump', 'I', 've', 'introduced', 'legislation', 'to', 'protect', 'and', 'expand', 'access', 'to', 'quality', 'affordable', 'health', 'insurance', 'for', 'people', 'with', 'preexisting', 'health', 'conditions', 't', 'co', 'SRyFty0Ief', 'With', 'nearly', '30', 'million', 'Americans', 'diagnosed', 'with', 'COVID19', 'we', 'need', 'to', 'undo', 'Trump', 'era', 'sabotage', 'that', 'destabilizes', 'the', 'ACA', 'health', 'insurance', 'market', 'weakens', 'protections', 'for', 'Americans', 'with', 'preexisting', 'conditions', 'and', 'increases', 'costs', 'My', 'legislation', 'to', 'provide', '10', 'billion', 'to', 'boost', 'domestic', 'production', 'of', 'PPE', 'was', 'included', 'in', 'the', 'AmericanRescuePlan', 'Now', 'that', 'HelpIsHere', 'I', 'm', 'pushing', 'to', 'make', 'sure', 'funding', 'goes', 'to', 'secure', 'critical', 'MadeinWI', 'materials', 'and', 'supplies', 'to', 'combat', 'the', 'pandemic', 't', 'co', '6njV9e39Fg', 'I', 'strongly', 'believe', 'your', 'taxpayer', 'money', 'should', 'not', 'be', 'spent', 'buying', 'foreign', 'products', 'and', 'supporting', 'foreign', 'workers', 'That', 's', 'why', 'I', 'm', 'working', 'with', 'SenSherrodBrown', 'to', 'ensure', 'we', 'fund', 'projects', 'that', 'prioritize', 'U', 'S', 'workers', 'and', 'businesses', 'BuyAmerican', 't', 'co', 'Cr6OGZd8X7', 'Trade', 'waivers', 'for', 'foreign', 'countries', 'shouldn', 't', 'force', 'us', 'to', 'rely', 'on', 'products', 'and', 'supplies', 'from', 'overseas', 'We', 'should', 'buy', 'what', 'America', 'makes', 'and', 'support', 'our', 'workers', 'and', 'businesses', 'BuyAmerican', 't', 'co', 'zzNVOdNCbH', 'When', 'taxpayer', 'dollars', 'are', 'spent', 'by', 'our', 'government', 'we', 'should', 'be', 'investing', 'in', 'our', 'workers', 'and', 'businesses', 'here', 'at', 'home', 'BuyAmerican', 't', 'co', 'AEahVg7VS4', 'My', 'work', 'is', 'inspired', 'by', 'Aidan', 'from', 'Slinger', 'WI', 'who', 'was', 'born', 'with', 'ectodermal', 'dysplasia', 'and', 'needed', 'intense', 'oral', 'care', 'from', 'an', 'early', 'age', 'but', 'his', 'family', 's', 'insurance', 'company', 'refused', 'to', 'pay', 'for', 'it', 'Thanks', 'to', 'Aidan', 'amp', 'NFED_ORG', 'we', 're', 'working', 'to', 'ensure', 'kids', 'like', 'Aidan', 'are', 'covered', 't', 'co', 'NSEg0cPPoy', 'Today', 'I', 'm', 'so', 'proud', 'to', 'reintroduce', 'the', 'EnsuringLastingSmiles', 'Act', 'with', 'SenJoniErnst', 'RepAnnaEshoo', 'RepDrewFerguson', 'This', 'important', 'reform', 'will', 'guarantee', 'that', 'those', 'born', 'with', 'congenital', 'anomalies', 'have', 'access', 'to', 'the', 'comprehensive', 'health', 'treatments', 'they', 'need', 't', 'co', '0CIb9E71yy', 'Andrea', 'Palm', 'is', 'the', 'right', 'choice', 'by', 'POTUS', 'to', 'serve', 'as', 'Deputy', 'HHSGov', 'Secretary', 'She', 'did', 'a', 'great', 'job', 'in', 'Wisconsin', 'and', 'I', 'm', 'looking', 'forward', 'to', 'supporting', 'her', 'nomination', 'so', 'we', 'can', 'work', 'together', 'to', 'beat', 'COVID19', 'amp', 'get', 'past', 'this', 'public', 'health', 'crisis', 't', 'co', 't7totaSZrV', 'So', 'proud', 'to', 'have', 'voted', 'to', 'make', 'history', 'and', 'confirm', 'President', 'Biden', 's', 'choice', 'to', 'lead', 'Interior', 'The', 'first', 'ever', 'Native', 'American', 'Cabinet', 'secretary', 'DebHaalandNM', 'will', 'protect', 'our', 'public', 'lands', 'and', 'help', 'us', 'create', 'a', 'clean', 'energy', 'future', 't', 'co', 'N8fzp4G4R7', 'Great', 'meeting', 'with', 'EnvisionGrtrFDL', 'today', 'about', 'supporting', 'our', 'workers', 'and', 'businesses', 'in', 'Fond', 'du', 'Lac', 'and', 'beyond', 't', 'co', 'nPo9F7vNLx', 'There', 'is', 'a', 'real', 'need', 'for', 'more', 'truck', 'drivers', 'and', 'removing', 'barriers', 'that', 'get', 'in', 'the', 'way', 'of', 'women', 'pursuing', 'careers', 'in', 'the', 'trucking', 'industry', 'is', 'key', 'I', 'am', 'working', 'to', 'create', 'more', 'job', 'opportunities', 'for', 'WI', 'women', 'that', 'will', 'lead', 'to', 'more', 'economic', 'security', 'for', 'working', 'families', 't', 'co', '8bTuZpvEDf', 'We', 'must', 'make', 'sure', 'the', 'AmericanRescuePlan', 'works', 'for', 'American', 'workers', 'and', 'American', 'businesses', 'I', 'm', 'working', 'with', 'SenSherrodBrown', 'to', 'ensure', 'we', 'are', 'supporting', 'U', 'S', 'companies', 'and', 'their', 'employees', 'with', 'this', 'COVID19', 'relief', 'bill', 'not', 'foreign', 'firms', 'BuyAmerican', 't', 'co', 'eSnbT7ngK7', 'To', 'the', 'small', 'businesses', 'restaurant', 'owners', 'and', 'live', 'venue', 'operators', 'in', 'Wisconsin', 'I', 'want', 'you', 'to', 'know', 'that', 'help', 'is', 'on', 'the', 'way', 'AmericanRescuePlan', 't', 'co', 'ohOQjYZKsX', 'I', 'want', 'POTUS', 'to', 'use', 'his', 'authority', 'to', 'temporarily', 'suspend', 'trade', 'waivers', 'that', 'could', 'allow', 'foreign', 'companies', 'that', 'do', 'not', 'have', 'American', 'workers', 'or', 'pay', 'American', 'taxes', 'to', 'bid', 'on', 'projects', 'funded', 'by', 'the', 'American', 'Rescue', 'Plan', 'BuyAmerican', 't', 'co', 'Eaz8V3v3nt', 'Today', 'SenSherrodBrown', 'and', 'I', 'are', 'leading', 'an', 'effort', 'to', 'call', 'on', 'POTUS', 'to', 'prioritize', 'American', 'companies', 'for', 'projects', 'funded', 'by', 'the', 'American', 'Rescue', 'Plan', 'BuyAmerican', 't', 'co', 'QPqEJNm2kS', 'In', 'the', 'past', 'there', 'has', 'been', 'little', 'progress', 'at', 'the', 'VA', 'for', 'Gulf', 'War', 'Vets', 'but', 'now', 'with', 'new', 'leadership', 'I', 'look', 'forward', 'to', 'working', 'with', 'SecVetAffairs', 'to', 'improve', 'the', 'VA', 's', 'treatment', 'of', 'Gulf', 'War', 'veterans', 'and', 'rebuild', 'strong', 'relationships', 'with', 'the', 'Gulf', 'War', 'Veteran', 'Service', 'Organizations', 't', 'co', '7zwRTn5X1O', 'Breonna', 'Taylor', 's', 'life', 'was', 'taken', 'by', 'police', 'one', 'year', 'ago', 'today', 'Her', 'life', 'matters', 'and', 'we', 'need', 'to', 'honor', 'her', 'by', 'taking', 'action', 'to', 'advance', 'racial', 'justice', 'We', 'need', 'the', 'JusticeInPolicing', 'Act', 'now', 'to', 'end', 'no', 'knock', 'warrants', 'SayHerName', 'BreonnaTaylor', 't', 'co', 'Bmy0iNXGte', 'As', 'I', 'said', 'earlier', 'this', 'week', 'systemic', 'racism', 'is', 'real', 'Whether', 'it', 's', 'on', 'the', 'House', 'floor', 'as', 'we', 'heard', 'from', 'a', 'Congressman', 'a', 'couple', 'of', 'days', 'ago', 'or', 'as', 'we', 'hear', 'it', 'from', 'the', 'mouth', 'of', 'a', 'Senator', 'Their', 'words', 'don', 't', 'represent', 'the', 'Wisconsin', 'I', 'know', 't', 'co', '8UD1HtWS70', 'A', 'violent', 'insurrection', 'against', 'our', 'Democracy', 'is', 'not', 'showing', 'you', 'love', 'this', 'country', 'and', 'when', 'a', 'Capitol', 'police', 'officer', 'is', 'killed', 'and', 'over', '140', 'are', 'injured', 'that', 'is', 'not', 'showing', 'you', 'truly', 'respect', 'law', 'enforcement', 'That', 's', 'why', 'over', '300', 'rioters', 'have', 'been', 'charged', 'with', 'breaking', 'the', 'law', 't', 'co', 'bVqmpr7tz5', 'This', 'week', 'I', 'voted', 'to', 'confirm', 'President', 'Biden', 's', 'historic', 'choice', 'to', 'lead', 'EPA', 'I', 'know', 'EPAMichaelRegan', 'will', 'move', 'us', 'forward', 'and', 'bring', 'a', 'new', 'approach', 'focused', 'on', 'science', 'health', 'environmental', 'justice', 'and', 'taking', 'on', 'climate', 'change', 'like', 'the', 'urgent', 'crisis', 'it', 'is', 't', 'co', 'XRwR1TGmIZ', 'What', 'a', 'refreshing', 'change', 'from', 'our', 'new', 'Attorney', 'General', 'Merrick', 'Garland', 't', 'co', 'BfZlfGclYM', 'Thanks', 'to', 'FaBWisconsin', 'for', 'meeting', 'to', 'talk', 'about', 'how', 'the', 'AmericanRescuePlan', 'will', 'provide', 'much', 'needed', 'support', 'to', 'WI', 'restaurants', 'bars', 'and', 'breweries', 'so', 'they', 'can', 'move', 'past', 'COVID19', 'and', 'help', 'grow', 'our', 'MadeInWI', 'economy', 't', 'co', 'a2Cp5aioF9', 'The', 'AmericanRescuePlan', 'provides', 'tax', 'credits', 'to', 'working', 'families', 'that', 'will', 'help', 'reduce', 'child', 'poverty', 'Some', 'Republicans', 'say', 'this', 'is', 'unnecessary', 'but', 'I', 'believe', 'we', 'have', 'a', 'moral', 'responsibility', 'to', 'lift', 'children', 'out', 'of', 'poverty', 't', 'co', 'cLP2PRCix5', 'President', 'Biden', 'is', 'providing', 'strong', 'leadership', 'and', 'the', 'AmericanRescuePlan', 'that', 'I', 'voted', 'for', 'and', 'he', 'signed', 'into', 'law', 'today', 'is', 'the', 'bold', 'action', 'we', 'need', 'in', 'Wisconsin', 'to', 'beat', 'this', 'pandemic', 'help', 'people', 'and', 'move', 'our', 'economy', 'forward', 'after', 'a', 'year', 'of', 'devastating', 'struggle', 'for', 'our', 'country', 'Couleecap', 'does', 'great', 'work', 'and', 'it', 'was', 'great', 'to', 'meet', 'with', 'them', 'today', 'Together', 'we', 'are', 'going', 'to', 'make', 'the', 'AmericanRescuePlan', 'work', 'for', 'families', 'in', 'Crawford', 'La', 'Crosse', 'Monroe', 'and', 'Vernon', 'counties', 't', 'co', 'oVf7XeP1k3', 'The', 'AmericanRescuePlan', 'is', 'what', 'Wisconsin', 'needs', 'to', 'beat', 'COVID19', 'and', 'bounce', 'back', 'stronger', 'POTUS', 'just', 'signed', 'it', 'into', 'law', 'to', 'provide', 'us', 'the', 'help', 'we', 'need', 'to', 'move', 'our', 'economy', 'forward', 't', 'co', 'k3fBYL5xmW', 'Thanks', 'to', 'AEMAdvocacy', 'for', 'meeting', 'with', 'me', 'today', 'to', 'talk', 'about', 'how', 'we', 'can', 'work', 'together', 'to', 'support', 'our', 'workers', 'and', 'help', 'our', 'manufacturers', 'succeed', 'AEMFlyIn', 't', 'co', 'AmjHDJDIPI']\n"
          ],
          "name": "stdout"
        }
      ]
    },
    {
      "cell_type": "code",
      "metadata": {
        "colab": {
          "base_uri": "https://localhost:8080/"
        },
        "id": "kMD1gLtWYn55",
        "outputId": "a90640f6-bfef-4018-8591-b5253b267075"
      },
      "source": [
        "print(all_politicians[102].name)\n",
        "print(all_politicians_untokeniz[102])"
      ],
      "execution_count": null,
      "outputs": [
        {
          "output_type": "stream",
          "text": [
            "Pence, Mike\n",
            " Our deepest sympathies and prayers to Her Majesty The Queen, the Royal Family and all the people of our great ally the United Kingdom. God bless Prince Philip, a man of dignity and devotion to family and country. https://t.co/2RPrwmBYAx https://t.co/D22adkH20A Excited to launch @AmericanFreedom, an advocacy organization that will defend and build upon the successful policies of the Trump-Pence Administration. AAF will help defeat the Radical Left Agenda and Advance American Freedom for generations to come! 🇺🇸 https://t.co/tnR04lTCXb “Do not be afraid, for I know that you are looking for Jesus, who was crucified. He is not here; He has risen, just as He said.” (Matthew 28) Karen and I send our best wishes for a Blessed Easter to all who greet the Empty Tomb with Full Hearts. \n",
            "He is Risen! #HappyEaster https://t.co/tsdh1WPBni https://t.co/Pg1ATtKXui Our hearts are with the family of US Capitol Police Officer William “Billy”Evans who gave his life protecting our Capitol today after 18 years of courageous service. We pray God’s comfort for his family and all the brave men and women of @CapitolPolice. This Good Friday, @KarenPence &amp; I join Christians everywhere remembering the sacrifice our Lord and Savior Jesus Christ made for us on the Cross. “...He was crushed for our iniquities; the punishment that brought us peace was on Him, and by His wounds we are healed.” #GoodFriday https://t.co/QAkKx0pbw9 Congratulations (Again!) to Congresswoman @millermeeks on a great victory for #IA02, House Republicans, and State-Based Elections in America! Iowa has a real champion in Dr. Miller-Meeks who will never stop fighting to put Iowa First! 🇺🇸 https://t.co/PotUdgkwYB To our fellow Christians in America and around the world, @KarenPence and I wish a blessed Palm Sunday. “Hosanna! Blessed is he who comes in the name of the Lord!” #PalmSunday https://t.co/Pd9OMM0BWd .@KarenPence and I wish everyone celebrating around America and the world a blessed and happy #Passover! Chag Sameach! https://t.co/lDQxjW3Enh Two years ago today in Rocket City, our Administration announced that the next man and the first woman on the Moon will be American astronauts launched on an American rocket from American soil! The United States is Going Back to the Moon, and on to Mars! 🇺🇸 https://t.co/OsLEmL5xho Election Integrity is a National Imperative and Georgia’s passage of S.B. 202 will ensure fairer &amp; more secure elections in the Peach State! Thank you to General Assembly Republicans &amp; @GovKemp for helping to restore public trust in elections. More states should follow soon!🇺🇸 Thank You @Franklin_Graham &amp; @SamaritansPurse for all you do “Helping in Jesus’ Name”! We were truly inspired. God Bless you all! https://t.co/gKNXmy5qYh In my years as Vice President, I was continually inspired by how @SamaritansPurse was always among the first on the scene of disasters, ready to Help neighbors in need in Jesus’ Name.\n",
            "\n",
            "Find out how you can serve with @SamaritansPurse today! https://t.co/pwiTohNgGh It was such a joy to be at @SamaritansPurse in NC today with @KarenPence to say thank you to @Franklin_Graham and his incredible staff &amp; volunteers for the work they’ve done serving as the hands and feet of Christ for 50 years in 100 countries! https://t.co/FwpL9k3Z1e Six years ago today, as Governor of Indiana, I signed Right to Try alongside little Jordan McLinn and Jordan was there when President Trump signed Right to Try for America in 2018. Thanks Jordan! 🇺🇸 https://t.co/RNJuJi5mRh Now, Nancy Pelosi has changed her tune—not trusting states to certify their own elections. Don’t let House Democrats take this seat to advance their Radical Left agenda. Let’s Stand up for Democracy and Stand with Congresswoman @millermeeks! 🇺🇸 https://t.co/ONumimEp31 After losing 13 seats in the 2020 election, House Democrats have a numbers problem and are trying to grab a House seat in Iowa to fix it. Despite a Bipartisan group of election officials in Iowa voting 5-0 to certify Mariannette @millermeeks after a recount... https://t.co/5SCuEsoJtC Congratulations @jbletlow! With her strong Conservative ideals, Julia will be a Great Representative for the people of #LA05 in Congress! 🇺🇸 https://t.co/NT8qf0UTN5 https://t.co/jZx9R1DNWH Three months ago, @KarenPence &amp; I got our Coronavirus vaccines. Thanks to #OperationWarpSpeed, today we have 3 Safe &amp; Effective Vaccines available and we encourage Every American to Get Your Vaccine!🇺🇸\n",
            "\n",
            "For details on when &amp; where to get vaccinated, visit: https://t.co/JFbfidk7R6 https://t.co/3am8OVEeJH Happy #StPatricksDay from our family to yours! In 1923, my grandfather came to America from Ireland, and today, and every day, our family is proud of our Irish American Heritage! 🍀🇺🇸 https://t.co/vZNZATbmkR .@SarahHuckabee is a Christian, a Conservative, and a Proud Arkansan who will fight for the people of Arkansas, stand with Law Enforcement, promote lower taxes, champion school choice, and more! Sarah will be a great Governor and has my full support! https://t.co/PRlkwo3Ooa https://t.co/9ldMr1yAO0 There is no Greater Fighter for Kansas than Senator Jerry Moran—a strong Conservative who always puts Kansas First while working to champion farmers &amp; ranchers, defend the Right to Life, &amp; protect our Second Amendment! I'm proud to support @moranforkansas! https://t.co/J1kYOonzm8 Louisiana, make sure to get out and Vote for @jbletlow! She is unapologetically pro-life, strong on Crime, and honors and respects our Military. Julia will stand strong for the people of #LA05 and has my full endorsement. https://t.co/Vg71O0cVqV Also, Check out the Best Book ever written about the Pence’s faith, family, and life of public service: “Where You Go” by our Amazing Daughter @charlipence! https://t.co/7oLqHJKXn1 Cancel Culture Strikes Again! This time: Facebook banned an ad for a novel about Abe Lincoln because it included my endorsement as “the best book on President Lincoln I have ever read.” \n",
            "\n",
            "Don’t let them cancel Old Abe! https://t.co/adsSQwNlXi Great Vote last night by @HouseGOP against HR1! This so-called For the People Act is an unconstitutional, reckless, and anti-democratic bill that could permanently damage our republic.\n",
            "\n",
            "Election Integrity is a National Imperative. 🇺🇸 https://t.co/PyYfMMAJAU https://t.co/2Lpll8LWS6 Here’s why HR 1 is unconstitutional, reckless, and anti-democratic in my first Op-ed in the @DailySignal: https://t.co/PyYfMMAJAU HR 1, the so-called For the People Act, will increase opportunities for election fraud, trample the First Amendment, further erode confidence in our elections and should be rejected by every member of Congress and opposed by every patriotic American. So Proud of our Son-in-Law Henry and Our Amazing Daughter @charlipence! Welcome Home Lt. Bond &amp; All the Men and Women aboard the USS Nimitz! 🇺🇸 https://t.co/n0rDaXsCzf Welcome Home! 🇺🇸 https://t.co/kimLntoXgx On this last weekend of #BlackHistoryMonth, take time to watch “Created Equal”, a documentary of a brave and inspiring American, Justice Clarence Thomas.\n",
            "\n",
            "Find a way to watch his authentic and courageous story:\n",
            "https://t.co/ZT0M9JVMUa Thanks again, @RepublicanStudy. Great to be with House Conservatives! 🇺🇸 https://t.co/CwUS69nWQA Great meeting with @RepublicanStudy leadership and fellow Hoosier Chairman @RepJimBanks today! As former Chairman of the RSC, I look forward to continuing to fight for the Conservative ideals that have made America great. 🇺🇸 https://t.co/npvgcJcGiI https://t.co/M18RlGlHIQ Congratulations to the incredible team at @NASA for the successful landing of the @NASAPersevere rover on Mars! Perseverance will help us continue to unlock the mysteries of space and one day land Americans on the Red Planet! Another Great day for American leadership in Space! 🇺🇸 https://t.co/ez0phmfF9r https://t.co/rAEAsRynjD Rush Limbaugh’s legacy will live on for generations in the hearts of the millions of Americans he inspired. His matchless voice will never be forgotten. May God comfort his family and all those who loved him. God Bless Rush Limbaugh. And during my service as Governor and Vice President, he was the anchor of Conservatism, giving voice to a movement and fighting for the ideals that make America great. During my years in Conservative talk radio, he was my daily inspiration and the gold standard on the airwaves as he sat behind the golden EIB microphone. During my years among House Conservatives in Congress, he was our greatest champion. Karen and I are among the millions who loved and admired this Good and Great Man. We started as fans, had the privilege to become friends, and we will miss him dearly. For more than 30 years no one did more to educate, inform, inspire, and just plain entertain Americans about the issues of the day than Rush Limbaugh. Rush Limbaugh gave voice to the ideals and values that made this country great, he inspired a generation of American conservatives, and he will be deeply missed. Rush Limbaugh made Conservatives proud and he made Conservatism fun. Today America lost a Giant with the passing of Rush Limbaugh, and Karen and I send our most heartfelt sympathies to Kathryn, his brother David, and the millions of Americans who loved and cherished his incomparable voice. https://t.co/tGlhCiY7g6 https://t.co/lrqeRWxoPP Statement on the Passing of Former Indiana First Lady Susan Bayh https://t.co/2a3K0thjgh https://t.co/2hcji7AshH https://t.co/XvZ0c6rFVv Now more than ever, we need to take the case for freedom, free markets, and traditional values to the rising generation and I look forward to working with the great @yaf team to ensure the torch of freedom shines bright for generations to come. Long before I became Vice President to President Donald Trump, the vision and leadership of Ronald Reagan inspired my youth and I am humbled to continue the work of advancing the Conservative cause from a position bearing his name. Young America’s Foundation has been a bulwark of the Conservative Movement, advancing the cause of freedom and ensuring our future leaders embrace America’s founding principles and I am honored to join @yaf as the Ronald Reagan Presidential Scholar. 🇺🇸 https://t.co/BgAHX0YfST https://t.co/Uw9q3IjaTi I look forward to rolling up my sleeves and working with the all-star team at @Heritage as we continue to take the case for a strong national defense, free markets and traditional values to policy makers across the Nation &amp; to every American who cherishes our Heritage of Freedom. .@Heritage helped shape my conservative philosophy for decades and played a pivotal role advancing conservative policies throughout the Trump Administration. The @Heritage Foundation is a flagship of the conservative movement and I am profoundly honored to join them as a distinguished visiting fellow to advance conservative policies that will benefit every American. 🇺🇸 https://t.co/htnz7RE6nm Life is Winning in America because of all those who marched today! Thank you to everyone who participated in the @March_for_Life and for the work you’re doing to protect the precious lives of the unborn! #whywemarch https://t.co/1U9mivnpMW Today we honor Dr. Martin Luther King Jr., a giant of the Civil Rights Movement who called on our Nation to live up to the highest ideals of our founding. We pay tribute to the incredible life &amp; accomplishments of Dr. King &amp; his memory will inspire us for generations to come. https://t.co/2jXe2Eshnv and emerge stronger and better than ever before. We will heal our Land, renew our strength, and the best days for the greatest Nation on earth are yet to come, for this one Nation, under God, indivisible, with liberty and justice for all. And looking out at all of you, and remembering the countless heroes we have met along the way these past four years, and the grace of Him who has ever guided the destiny of this Nation, I have faith that the day will come when we put these challenging times in the past... My fellow Americans, we’ve been through a lot this past year, but through it all, I have seen the strength and resilience of the American people shine forth. https://t.co/2eACnIDxWx I’m proud to report with just a few days left in our Administration, our Administration is the first in decades that did not get America into a new war. That’s Peace through Strength. https://t.co/uiSNxi67aT From this very Fort, selfless patriots like you have been at the heart of the war on terror from the very beginning. And it’s because of you that we reached the 19th anniversary of that terrible day having had no major terrorist attack on American soil since. Since 9/11 the 10th Mountain has been the most deployed division of the US Army. 10th Mountain brigades have served a combined 46 deployments to Iraq &amp; Afghanistan and one of the first conventional units to deploy to Afghanistan after 9/11 came from Fort Drum. Thank you to the men and women of the 10th Mountain Division at Fort Drum, you are the strength and the pride of the American people. America is the freest and strongest Nation in the history of the world and you secure that freedom and you are that strength. 🇺🇸 https://t.co/WncjtIUoM1 Pences makes final official appearance at upstate Army base https://t.co/BQLC53vUIG https://t.co/nvoffwVBMB Heading to New York with @SecondLady to visit our incredible men and women serving in uniform at Fort Drum! 🇺🇸 https://t.co/fiZfKVOLgx I couldn't be more proud to report, we’ve rebuilt our military, restored the arsenal of democracy, and enacted the largest increases in our National Defense since the days of Ronald Reagan. https://t.co/bnTYKSbQ5C Four years ago, we inherited a military that had been hollowed out by devastating budget cuts. Our troops hadn’t seen a significant pay raise in nearly 10 years, Iran was resurgent across the Middle East &amp; ISIS controlled a land mass larger than Pennsylvania. I urge the incoming administration to stay the course, do what we’ve done, stand up to Chinese aggression and trade abuses, stand strong for a free and open Indo-Pacific and put America and our freedom loving allies first. After generations where America &amp; our allies defended the freedom of navigation &amp; the interest of freedom loving nations across the Asia Pacific, today, China is determined to expand Beijing’s influence across the region through military provocations &amp; debt diplomacy. Thank you to all of the men &amp; women serving our Country in uniform at Naval Air Station Lemoore! The American people are more grateful for your service than you will ever know. You come from the rest of us, but make no mistake about it: You Are The Best Of Us. 🇺🇸 https://t.co/BchXHO8PEb https://t.co/OLTnjq5vBf Wheels up to CA with @SecondLady to visit the Great Sailors of Naval Air Station Lemoore! 🇺🇸 https://t.co/0gUBtna4GQ As long as Americans push the boundaries of what is possible, as long as we're brave enough to push the envelope and as long as American pilots and astronauts soar “into the wild blue yonder” and beyond, the story, example, courage and life of General Chuck Yeager will inspire. https://t.co/f9DMEsIwPk In 1947, wearing a football helmet he bought with his own money &amp; with two broken ribs, Chuck Yeager got into the cockpit of the Glamorous Glennis &amp; became the first human being ever to break the sound barrier. At 24 years old, he inspired an entire generation of American pilots. It was my honor to pay tribute to America’s Greatest Aviator, General Chuck Yeager. Chuck lived a great American life, raising a wonderful family, serving in uniform for over 30 years &amp; pushing the boundaries of what we considered possible. God Bless General Chuck Yeager. https://t.co/lzWIIo6ONM Honored to be heading to West Virginia today to celebrate the life of a truly Great American, General Chuck Yeager. https://t.co/TUej1a9RzS We’re grateful for the incredible men and women of the @NationalGuard who are working around the clock to keep our Nation’s Capitol safe. On behalf of the American People, thank you for stepping forward for your Country. https://t.co/oAiC95R7vg Good briefing today at @DHSgov about plans to ensure that we’ll have a safe Inauguration on January 20th. Grateful to Law Enforcement, @NationalGuard, and all the Federal Officials who are working around the clock to protect our Nation’s Capitol. God Bless Them All! https://t.co/5eCXz99S51 The American people can be confident that we’re going to ensure that we'll have a safe Inauguration in a matter consistent with our history &amp; traditions. We have confidence our Law Enforcement will protect our Capitol and the Great people of this Nation next week. https://t.co/aZeHj9w2c2 Statement from Vice President Pence on the Passing of Sheldon Adelson https://t.co/fbu7pQA9z3 Officer Sicknick is an American hero who gave his life defending our Capitol and this Nation will never forget or fail to honor the service and sacrifice of Officer Brian Sicknick. Karen and I were deeply saddened to learn of the passing of US Capitol Police Officer Brian D. Sicknick and send our deepest sympathies and prayers to his family, friends and fellow officers. Thank you to the incredible Capitol Hill Police Officers and every Law Enforcement Officer for keeping us safe today. Thanks to your service, the Capitol was secured and we are truly grateful. https://t.co/urDMpQBB7n And we will always be grateful for the men and women who stayed at their post to defend this historic place. To those who wreaked havoc in our Capitol today, you did not win. Violence never wins. Freedom wins. And this is still the People's House. https://t.co/ytErRKnk4O We condemn the violence that took place here in the strongest possible terms. We grieve the loss of life in these hallowed halls, as well as the injuries suffered by those who defended our Capitol today. Peaceful protest is the right of every American but this attack on our Capitol will not be tolerated and those involved will be prosecuted to the fullest extent of the law. The violence and destruction taking place at the US Capitol Must Stop and it Must Stop Now. Anyone involved must respect Law Enforcement officers and immediately leave the building. https://t.co/8WJbv9A8Lx Great @WhiteHouse Coronavirus Task Force meeting today as we continue to work closely with states &amp; deliver the Coronavirus Vaccine to MILLIONS of Americans. Under President @realDonaldTrump, we developed a Safe &amp; Effective vaccine in record time. Hope &amp; Healing are on the way! https://t.co/pzeckzi9da It’s Election Day in Georgia! Get out and VOTE to DEFEND THE MAJORITY! VOTE for @Perduesenate and @KLoeffler! #HoldTheLine 🇺🇸 https://t.co/uulmKMYYKq THANK YOU MILNER, GA! In one more day, we need you to HOLD THE LINE! We need people of Faith in this great state to take stand for two leaders who will support Life, Faith, and Freedom! We need you to VOTE for @Perduesenate and @KLoeffler! 🇺🇸 https://t.co/QSdC7ENeSl We need to Keep America Great—that’s what’s on the line. To preserve the progress that we've made, to protect our values and our liberties, we need you to VOTE, Georgia. Vote to send @Perduesenate and @KLoeffler back to Washington! #DefendTheMajority https://t.co/fEBKk119N2 If GA steps up to #HoldTheLine, if you vote to send @Perduesenate &amp; @KLoeffler back to the Senate &amp; if we stand with President @realDonaldTrump, with the support of the people across this state, &amp; with God’s help, we’re going to keep on Winning! https://t.co/lwhszhYCQF Just landed in Georgia! We need you to VOTE to send @Perduesenate and @KLoeffler back to a REPUBLICAN MAJORITY in the United States Senate! Wheels up to Georgia! We must DEFEND THE MAJORITY and send @Perduesenate and @KLoeffler back to the Senate!\n",
            "\n",
            "RSVP to join our Georgia Faith Community Call to Action: https://t.co/nXE7q199jW Let’s DEFEND THE MAJORITY! \n",
            "\n",
            "RSVP to join us this Monday in Milner, Georgia! https://t.co/nXE7q199jW Happy New Year from our family to yours! @SecondLady and I wish you every blessing for a healthy and prosperous year ahead! https://t.co/dPW2mjebH0 Operation Warp Speed is on track to distribute 20 Million doses of Coronavirus Vaccine by next week. Millions of Americans have been vaccinated and we are working with States every day to vaccinate millions more. This is no time for playing politics!\n",
            "https://t.co/KUKf1Szd0p This Christmas, we're especially grateful for our incredible healthcare workers &amp; first responders as well as the men &amp; women of our Armed Forces. As we spend time with loved ones, may we reflect upon our blessings &amp; give thanks during this season of Hope. #MerryChristmas\n"
          ],
          "name": "stdout"
        }
      ]
    },
    {
      "cell_type": "code",
      "metadata": {
        "id": "bDptsKOctqAi"
      },
      "source": [
        "names = [pol.name for pol in all_politicians]\n",
        "tw1 = [pol.twitteracc1 for pol in all_politicians]\n",
        "tw2 = [pol.twitteracc2 for pol in all_politicians]\n",
        "state = [pol.state for pol in all_politicians]\n",
        "party = [pol.party for pol in all_politicians]\n",
        "pos = [pol.pos for pol in all_politicians]\n",
        "tweets_total = [pol.tweets for pol in all_politicians]\n",
        "\n",
        "df_to_save = pd.DataFrame([names, tw1, tw2, state, party, pos, tweets_total]).transpose()"
      ],
      "execution_count": null,
      "outputs": []
    },
    {
      "cell_type": "code",
      "metadata": {
        "id": "K1rJnMSVt6pK"
      },
      "source": [
        "# ONLY RUN FIRST TIME. \n",
        "\n",
        "compression_opts = dict(method='zip', archive_name='out.csv') \n",
        "df_to_save.to_csv('out.zip', index=False, compression=compression_opts)  "
      ],
      "execution_count": null,
      "outputs": []
    },
    {
      "cell_type": "markdown",
      "metadata": {
        "id": "jMbZEwTzC7ro"
      },
      "source": [
        "# **MODEL 1:** BERT for Question Answering"
      ]
    },
    {
      "cell_type": "code",
      "metadata": {
        "id": "PwRNWgKCZ619"
      },
      "source": [
        "name_to_info = {}\n",
        "for pol in all_politicians:\n",
        "  name = pol.name.split(\", \")\n",
        "  if not name[0] in name_to_info:\n",
        "    name_to_info[name[0]] = pol\n",
        "  else:\n",
        "    # If there are two politicians with the last name, store first and last name. \n",
        "    temp = name_to_info[name[0]].name \n",
        "    temp_pol = name_to_info[name[0]]\n",
        "    del name_to_info[name[0]]\n",
        "    name_to_info[temp.split(\", \")[1] + \" \" + temp.split(\", \")[0]] = temp_pol\n",
        "    name_to_info[pol.name.split(\", \")[1] + \" \" + pol.name.split(\", \")[0]] = pol"
      ],
      "execution_count": null,
      "outputs": []
    },
    {
      "cell_type": "code",
      "metadata": {
        "id": "0JR0gTELS8ht"
      },
      "source": [
        "train_set, validation_set, all_text, unanswerable = [[] for _ in range(4)]\n",
        "\n",
        "for pol in all_politicians:\n",
        "  for tweet in pol.tweets:\n",
        "    if random.randint(1,10) is 1: \n",
        "      validation_set.append((pol, tweet))\n",
        "    else:\n",
        "      train_set.append((pol, tweet))"
      ],
      "execution_count": null,
      "outputs": []
    },
    {
      "cell_type": "code",
      "metadata": {
        "colab": {
          "base_uri": "https://localhost:8080/",
          "height": 262,
          "referenced_widgets": [
            "e4598e3d783d484982734cd310378781",
            "11b6147393224040975efba0c7ec58ae",
            "2555ff5e70d54ca8b803dc6dcec17c25",
            "465ec776125d4ce9a07732b2ee117e9a",
            "bf1c7526843a4e4ca7717c7aa5c9f77f",
            "b433dd5c4b92401d9b6bf4629374556c",
            "cd78b093436247fca11f74ccfc51b33e",
            "993b9c232547421a8ab785bfb059f10e",
            "a7334a73585f4763bf71c804a94ad34f",
            "74a1c6cda540465188a966466c395168",
            "2bf55a5a541749929b9cf591e124f84f",
            "472302e5ac714c37b3bedf976b8ec96c",
            "29fe0c3a7acd49718c279e79f1032217",
            "b8d3502beb1543d891c8cf3d43ec6ada",
            "5d5c2faecf414447b40394ed9183b2ce",
            "a4f7a773d33141ed96687ee45d5bc201",
            "ef145ad35a444c0696607702bedb4806",
            "16f960a1f74842bab2b22948bd89c564",
            "0341dba2cb2e4d8095fdff5967f62f94",
            "1013c6edc4d64cf6a3431c874f360f0f",
            "4c87f22aad014309b67ed37e5696200d",
            "4c128a18eaa8457f80799b97bd7bf238",
            "70d78b7b916e4b489cddce524b42a3b0",
            "9187befc0172496ea1dd31848f951986",
            "6d8a955c2b51463a845f7d375a90a505",
            "22aaa5e65a5643e1b57c66569a9e3bf1",
            "996bcb62831c49f1a7175b981dc7e83e",
            "d926f818168d48ae98a91dd663089629",
            "f74ac23eae2e4d70865a05bcccac85d1",
            "a4c8e613d65c4162ae49cd57aff7cdce",
            "4a0ef2733243484aa4dc05f1140e839a",
            "e1368b8b78c84ac98a32c4b265802875",
            "5e8640f975424dbfb9afa9db4fd378f6",
            "762146fec7814568bb182d9abf2a50b7",
            "4c483b7c0e6f453ca08e75cecc3be46a",
            "7d393bc3ab604e4083aff7e49d18d941",
            "2eee9a6800964d77ad030396bc5b3a5e",
            "9eb25d2e6bb743548dddc59b797847a9",
            "d225badaae774f82a8b9ed16ef20f99b",
            "80ded39a1c6f4afd85ac5857d12b0ca4"
          ]
        },
        "id": "zloLlWBCk76g",
        "outputId": "042cc910-5190-40b9-b511-503e1e20ea47"
      },
      "source": [
        "modelname = 'deepset/bert-base-cased-squad2'\n",
        "\n",
        "model = BertForQuestionAnswering.from_pretrained(modelname)\n",
        "tokenizer = AutoTokenizer.from_pretrained(modelname)"
      ],
      "execution_count": null,
      "outputs": [
        {
          "output_type": "display_data",
          "data": {
            "application/vnd.jupyter.widget-view+json": {
              "model_id": "e4598e3d783d484982734cd310378781",
              "version_minor": 0,
              "version_major": 2
            },
            "text/plain": [
              "HBox(children=(FloatProgress(value=0.0, description='Downloading', max=508.0, style=ProgressStyle(description_…"
            ]
          },
          "metadata": {
            "tags": []
          }
        },
        {
          "output_type": "stream",
          "text": [
            "\n"
          ],
          "name": "stdout"
        },
        {
          "output_type": "display_data",
          "data": {
            "application/vnd.jupyter.widget-view+json": {
              "model_id": "a7334a73585f4763bf71c804a94ad34f",
              "version_minor": 0,
              "version_major": 2
            },
            "text/plain": [
              "HBox(children=(FloatProgress(value=0.0, description='Downloading', max=433294681.0, style=ProgressStyle(descri…"
            ]
          },
          "metadata": {
            "tags": []
          }
        },
        {
          "output_type": "stream",
          "text": [
            "\n"
          ],
          "name": "stdout"
        },
        {
          "output_type": "display_data",
          "data": {
            "application/vnd.jupyter.widget-view+json": {
              "model_id": "ef145ad35a444c0696607702bedb4806",
              "version_minor": 0,
              "version_major": 2
            },
            "text/plain": [
              "HBox(children=(FloatProgress(value=0.0, description='Downloading', max=213450.0, style=ProgressStyle(descripti…"
            ]
          },
          "metadata": {
            "tags": []
          }
        },
        {
          "output_type": "stream",
          "text": [
            "\n"
          ],
          "name": "stdout"
        },
        {
          "output_type": "display_data",
          "data": {
            "application/vnd.jupyter.widget-view+json": {
              "model_id": "6d8a955c2b51463a845f7d375a90a505",
              "version_minor": 0,
              "version_major": 2
            },
            "text/plain": [
              "HBox(children=(FloatProgress(value=0.0, description='Downloading', max=112.0, style=ProgressStyle(description_…"
            ]
          },
          "metadata": {
            "tags": []
          }
        },
        {
          "output_type": "stream",
          "text": [
            "\n"
          ],
          "name": "stdout"
        },
        {
          "output_type": "display_data",
          "data": {
            "application/vnd.jupyter.widget-view+json": {
              "model_id": "5e8640f975424dbfb9afa9db4fd378f6",
              "version_minor": 0,
              "version_major": 2
            },
            "text/plain": [
              "HBox(children=(FloatProgress(value=0.0, description='Downloading', max=152.0, style=ProgressStyle(description_…"
            ]
          },
          "metadata": {
            "tags": []
          }
        },
        {
          "output_type": "stream",
          "text": [
            "\n"
          ],
          "name": "stdout"
        }
      ]
    },
    {
      "cell_type": "code",
      "metadata": {
        "id": "ktxH-RAbI0Gx"
      },
      "source": [
        "# Format: \"What does \" + name + \"think about \" + question input. \n",
        "def generate_answer(name, query, model):\n",
        "  name_lst = name.split(\" \")\n",
        "  context = \"\"\n",
        "\n",
        "  if name in name_to_info:\n",
        "    context = \" \".join(name_to_info[name].tweets)\n",
        "  else:\n",
        "    name_lst = name.split(\" \")\n",
        "    if name_lst[0] in name_to_info:\n",
        "      context = \" \".join(name_to_info[name_lst[0]].tweets)\n",
        "    elif name_lst[1] in name_to_info:\n",
        "      context = \" \".join(name_to_info[name_lst[1]].tweets)\n",
        "    \n",
        "  question = \"What do I think about \" + query\n",
        "\n",
        "  output = model({'question': question,'context': context})\n",
        "  percent = output['score']\n",
        "  answer = output['answer']\n",
        "\n",
        "  return percent, answer"
      ],
      "execution_count": null,
      "outputs": []
    },
    {
      "cell_type": "code",
      "metadata": {
        "id": "z6hn9eQKOHXv"
      },
      "source": [
        "# Examples\n",
        "nlp = pipeline('question-answering', model=model, tokenizer=tokenizer)\n",
        "percent, answer = generate_answer(\"Biden\", \"pandemic\", nlp)"
      ],
      "execution_count": null,
      "outputs": []
    },
    {
      "cell_type": "code",
      "metadata": {
        "colab": {
          "base_uri": "https://localhost:8080/"
        },
        "id": "40WL1u7FPmrG",
        "outputId": "df25b021-a78c-44bb-b6ad-ab033da8573f"
      },
      "source": [
        "print(\"Answer: '\" + answer + \"' with accuracy \" + str(np.round(percent, 2)*100) + \"%\")"
      ],
      "execution_count": null,
      "outputs": [
        {
          "output_type": "stream",
          "text": [
            "Answer: 'we cannot let people go hungry' with accuracy 45.0%\n"
          ],
          "name": "stdout"
        }
      ]
    },
    {
      "cell_type": "markdown",
      "metadata": {
        "id": "GczjmSaDCydS"
      },
      "source": [
        "# **MODEL 2**: Cosine Similarity Text Retrieval"
      ]
    },
    {
      "cell_type": "code",
      "metadata": {
        "id": "4lUh56YuUahl",
        "colab": {
          "base_uri": "https://localhost:8080/"
        },
        "outputId": "49e721ef-7c14-4edd-e503-db70be3dd1ce"
      },
      "source": [
        "import nltk\n",
        "nltk.download('punkt')\n",
        "nltk.download('stopwords')\n",
        "\n",
        "from nltk.corpus import stopwords\n",
        "from nltk.tokenize import word_tokenize\n",
        "import math\n",
        "import re\n",
        "from collections import Counter"
      ],
      "execution_count": null,
      "outputs": [
        {
          "output_type": "stream",
          "text": [
            "[nltk_data] Downloading package punkt to /root/nltk_data...\n",
            "[nltk_data]   Unzipping tokenizers/punkt.zip.\n",
            "[nltk_data] Downloading package stopwords to /root/nltk_data...\n",
            "[nltk_data]   Package stopwords is already up-to-date!\n"
          ],
          "name": "stdout"
        }
      ]
    },
    {
      "cell_type": "code",
      "metadata": {
        "id": "RDsSjN0vlb6p"
      },
      "source": [
        "from nltk.corpus import wordnet as guru"
      ],
      "execution_count": null,
      "outputs": []
    },
    {
      "cell_type": "code",
      "metadata": {
        "id": "bSRgVbTnbFY0"
      },
      "source": [
        "name_to_sent_tok = {}\n",
        "\n",
        "for name,pol in name_to_info.items():\n",
        "  original_tweets = all_politicians_untokeniz[pol.idx]\n",
        "  sentences = str.splitlines(original_tweets)\n",
        "\n",
        "  all_sents = []\n",
        "  sents_tok = []\n",
        "  for sent in sentences:\n",
        "    s_lst = word_tokenize(sent)\n",
        "    stopwrds = set([\"co\", \"https\", \"amp\", \"#\"]) #remove weird urls \n",
        "    sent = \"\"\n",
        "    for i,word in enumerate(s_lst):\n",
        "      if word is \".\" or word is \"?\" or word is \"!\":\n",
        "        sent = sent + word \n",
        "        sents_tok.append(sent)\n",
        "        sent = \"\"\n",
        "      else:\n",
        "        if (not \"co/\" in word) and (not \"https\" in word):\n",
        "          if (sent == \"\"):\n",
        "            sent = word\n",
        "          else:\n",
        "            sent = sent + \" \" + word\n",
        "\n",
        "  name_to_sent_tok[name] = sents_tok"
      ],
      "execution_count": null,
      "outputs": []
    },
    {
      "cell_type": "code",
      "metadata": {
        "id": "ypHyo5A3klgk"
      },
      "source": [
        "def sent_to_vec(sent):\n",
        "  regex = re.compile(r\"\\w+\")\n",
        "  words = regex.findall(sent)\n",
        "  return Counter(words)"
      ],
      "execution_count": null,
      "outputs": []
    },
    {
      "cell_type": "code",
      "metadata": {
        "id": "uG3ilH_qky6N"
      },
      "source": [
        "def cos_similarity(v1, v2):\n",
        "  intersection = set(np.intersect1d(list(v1.keys()), list(v2.keys())))\n",
        "  numrtr = 0\n",
        "  for i in intersection:\n",
        "    numrtr += v1[i] * v2[i]\n",
        "\n",
        "  x_sum, y_sum = [0 for _ in range(2)]\n",
        "  for x in list(v1.keys()):\n",
        "    x_sum += v1[x] ** 2\n",
        "  for y in list(v2.keys()):\n",
        "    y_sum += v2[y] ** 2\n",
        "\n",
        "  denom = math.sqrt(x_sum) * math.sqrt(y_sum)\n",
        "\n",
        "  if not denom:\n",
        "    return 0.0\n",
        "  else:\n",
        "    return float(numrtr) / denom"
      ],
      "execution_count": null,
      "outputs": []
    },
    {
      "cell_type": "code",
      "metadata": {
        "id": "nxfmbQxScnQb"
      },
      "source": [
        "# Format: \"What does \" + name + \"think about \" + question input. \n",
        "def generate_answer_cs(name, query):\n",
        "  name_lst = name.split(\" \")\n",
        "  context = \"\"\n",
        "  input_n = \"\"\n",
        "\n",
        "  if name in name_to_sent_tok :\n",
        "    input_n = name\n",
        "  else:\n",
        "    name_lst = name.split(\" \")\n",
        "    if name_lst[0] in name_to_sent_tok :\n",
        "      input_n = name_lst[0]\n",
        "    elif name_lst[1] in name_to_sent_tok :\n",
        "      input_n = name_lst[1]\n",
        "\n",
        "  q_lst = word_tokenize(query)\n",
        "  stopwrds = set(stopwords.words('english'))\n",
        "  q_tok = {word for word in q_lst if not word in stopwrds}\n",
        "    \n",
        "  all_sentences = name_to_sent_tok[input_n]\n",
        "\n",
        "  max_c_sim = 0\n",
        "  max_tweet = \"\"\n",
        "  for tweet in all_sentences:\n",
        "    q_vec = sent_to_vec(query)\n",
        "    t_vec = sent_to_vec(tweet)\n",
        "\n",
        "    cos_sim = cos_similarity(q_vec, t_vec)\n",
        "    if cos_sim > max_c_sim:\n",
        "      max_tweet = tweet \n",
        "    \n",
        "  return max_tweet"
      ],
      "execution_count": null,
      "outputs": []
    },
    {
      "cell_type": "code",
      "metadata": {
        "colab": {
          "base_uri": "https://localhost:8080/"
        },
        "id": "JIuvjJNYjwsA",
        "outputId": "6d8e501b-0a82-4860-9c4e-f288cee1c5c9"
      },
      "source": [
        "print(generate_answer_cs(\"Biden\", \"pandemic\"))"
      ],
      "execution_count": null,
      "outputs": [
        {
          "output_type": "stream",
          "text": [
            "Together we ’ ll change the course of the pandemic , build a bridge toward economic recovery , and invest in racial justice.\n"
          ],
          "name": "stdout"
        }
      ]
    },
    {
      "cell_type": "markdown",
      "metadata": {
        "id": "_3x3ccgHlDOM"
      },
      "source": [
        "# Evaluation + Performance"
      ]
    },
    {
      "cell_type": "code",
      "metadata": {
        "id": "HppERhdcH2md"
      },
      "source": [
        "import time\n",
        "from nltk.corpus import stopwords\n",
        "from nltk.tokenize import RegexpTokenizer\n",
        "import plotly.express as px\n",
        "from sklearn import metrics\n",
        "from sklearn import feature_extraction\n",
        "from sklearn.preprocessing import MultiLabelBinarizer"
      ],
      "execution_count": null,
      "outputs": []
    },
    {
      "cell_type": "code",
      "metadata": {
        "colab": {
          "base_uri": "https://localhost:8080/"
        },
        "id": "qsGXaqRhJfYF",
        "outputId": "385908c7-733d-46e6-96d6-1d8b0ded39fa"
      },
      "source": [
        "nltk.download('stopwords')"
      ],
      "execution_count": null,
      "outputs": [
        {
          "output_type": "stream",
          "text": [
            "[nltk_data] Downloading package stopwords to /root/nltk_data...\n",
            "[nltk_data]   Package stopwords is already up-to-date!\n"
          ],
          "name": "stdout"
        },
        {
          "output_type": "execute_result",
          "data": {
            "text/plain": [
              "True"
            ]
          },
          "metadata": {
            "tags": []
          },
          "execution_count": 43
        }
      ]
    },
    {
      "cell_type": "code",
      "metadata": {
        "id": "Z5dnvtSVIHmL"
      },
      "source": [
        "# Tokenizing all of the response words\n",
        "tokenizer = RegexpTokenizer(r'\\w+') # getting rid of punctuation.\n",
        "all_text = \"\"\n",
        "all_words = []\n",
        "for pol in all_politicians_untokeniz:\n",
        "  all_text = all_text + \" \" + pol\n",
        "\n",
        "all_words = tokenizer.tokenize(all_text) # splitting up all of the words.\n",
        "stop_words = set(stopwords.words('english')) # removing stop words (most common words in English language, like 'and' or 'the').\n",
        "stop_words.update([\"co\", \"https\", \"amp\", \"today\", \"1\", \"u\", \"19\", \"one\", \"us\"]) #removing common words that don't aid in understanding data.\n",
        "\n",
        "# Finding a frequency distribution of words and ngrams\n",
        "lowercase = [w.lower() for w in all_words]\n",
        "word_distribution = nltk.FreqDist(w for w in lowercase if not w in stop_words)\n",
        "top_words = word_distribution.most_common(50)\n",
        "\n",
        "ngrams = nltk.ngrams(all_words, 2)\n",
        "ngrams_no_stop_words = [gram for gram in ngrams if not any(stop in gram for stop in stop_words)] #removing stop words\n",
        "ngram_distribution = nltk.FreqDist(ngrams_no_stop_words)\n",
        "top_ngrams = ngram_distribution.most_common(25)"
      ],
      "execution_count": null,
      "outputs": []
    },
    {
      "cell_type": "code",
      "metadata": {
        "colab": {
          "base_uri": "https://localhost:8080/",
          "height": 542
        },
        "id": "ZmRo-hEbKHHK",
        "outputId": "7661c6fd-c4c9-4c34-ec8a-c38c1b771c2e"
      },
      "source": [
        "words = [w for w,c in top_words]\n",
        "counts = [c for w,c in top_words]\n",
        "\n",
        "fig = px.bar(x=words, y=counts, labels={'x':'Words', 'y':'Word Frequencies'})\n",
        "fig.show()"
      ],
      "execution_count": null,
      "outputs": [
        {
          "output_type": "display_data",
          "data": {
            "text/html": [
              "<html>\n",
              "<head><meta charset=\"utf-8\" /></head>\n",
              "<body>\n",
              "    <div>\n",
              "            <script src=\"https://cdnjs.cloudflare.com/ajax/libs/mathjax/2.7.5/MathJax.js?config=TeX-AMS-MML_SVG\"></script><script type=\"text/javascript\">if (window.MathJax) {MathJax.Hub.Config({SVG: {font: \"STIX-Web\"}});}</script>\n",
              "                <script type=\"text/javascript\">window.PlotlyConfig = {MathJaxConfig: 'local'};</script>\n",
              "        <script src=\"https://cdn.plot.ly/plotly-latest.min.js\"></script>    \n",
              "            <div id=\"647bcd18-6d42-40ea-8264-374a192a48c8\" class=\"plotly-graph-div\" style=\"height:525px; width:100%;\"></div>\n",
              "            <script type=\"text/javascript\">\n",
              "                \n",
              "                    window.PLOTLYENV=window.PLOTLYENV || {};\n",
              "                    \n",
              "                if (document.getElementById(\"647bcd18-6d42-40ea-8264-374a192a48c8\")) {\n",
              "                    Plotly.newPlot(\n",
              "                        '647bcd18-6d42-40ea-8264-374a192a48c8',\n",
              "                        [{\"alignmentgroup\": \"True\", \"hoverlabel\": {\"namelength\": 0}, \"hovertemplate\": \"Words=%{x}<br>Word Frequencies=%{y}\", \"legendgroup\": \"\", \"marker\": {\"color\": \"#636efa\"}, \"name\": \"\", \"offsetgroup\": \"\", \"orientation\": \"v\", \"showlegend\": false, \"textposition\": \"auto\", \"type\": \"bar\", \"x\": [\"american\", \"help\", \"get\", \"need\", \"people\", \"covid\", \"work\", \"biden\", \"act\", \"senate\", \"health\", \"must\", \"bill\", \"americans\", \"pandemic\", \"new\", \"support\", \"president\", \"state\", \"families\", \"make\", \"working\", \"country\", \"time\", \"relief\", \"great\", \"plan\", \"nation\", \"care\", \"border\", \"day\", \"crisis\", \"communities\", \"year\", \"continue\", \"keep\", \"would\", \"women\", \"first\", \"every\", \"proud\", \"many\", \"across\", \"america\", \"like\", \"congress\", \"back\", \"right\", \"workers\", \"forward\"], \"xaxis\": \"x\", \"y\": [1577, 1482, 1329, 1324, 1310, 1290, 1276, 1251, 1225, 1184, 1158, 1149, 1103, 1068, 1042, 1017, 1015, 1005, 973, 963, 961, 957, 950, 948, 867, 864, 856, 850, 835, 821, 774, 759, 744, 724, 712, 707, 705, 693, 684, 683, 661, 661, 660, 656, 649, 642, 642, 636, 629, 626], \"yaxis\": \"y\"}],\n",
              "                        {\"barmode\": \"relative\", \"legend\": {\"tracegroupgap\": 0}, \"margin\": {\"t\": 60}, \"template\": {\"data\": {\"bar\": [{\"error_x\": {\"color\": \"#2a3f5f\"}, \"error_y\": {\"color\": \"#2a3f5f\"}, \"marker\": {\"line\": {\"color\": \"#E5ECF6\", \"width\": 0.5}}, \"type\": \"bar\"}], \"barpolar\": [{\"marker\": {\"line\": {\"color\": \"#E5ECF6\", \"width\": 0.5}}, \"type\": \"barpolar\"}], \"carpet\": [{\"aaxis\": {\"endlinecolor\": \"#2a3f5f\", \"gridcolor\": \"white\", \"linecolor\": \"white\", \"minorgridcolor\": \"white\", \"startlinecolor\": \"#2a3f5f\"}, \"baxis\": {\"endlinecolor\": \"#2a3f5f\", \"gridcolor\": \"white\", \"linecolor\": \"white\", \"minorgridcolor\": \"white\", \"startlinecolor\": \"#2a3f5f\"}, \"type\": \"carpet\"}], \"choropleth\": [{\"colorbar\": {\"outlinewidth\": 0, \"ticks\": \"\"}, \"type\": \"choropleth\"}], \"contour\": [{\"colorbar\": {\"outlinewidth\": 0, \"ticks\": \"\"}, \"colorscale\": [[0.0, \"#0d0887\"], [0.1111111111111111, \"#46039f\"], [0.2222222222222222, \"#7201a8\"], [0.3333333333333333, \"#9c179e\"], [0.4444444444444444, \"#bd3786\"], [0.5555555555555556, \"#d8576b\"], [0.6666666666666666, \"#ed7953\"], [0.7777777777777778, \"#fb9f3a\"], [0.8888888888888888, \"#fdca26\"], [1.0, \"#f0f921\"]], \"type\": \"contour\"}], \"contourcarpet\": [{\"colorbar\": {\"outlinewidth\": 0, \"ticks\": \"\"}, \"type\": \"contourcarpet\"}], \"heatmap\": [{\"colorbar\": {\"outlinewidth\": 0, \"ticks\": \"\"}, \"colorscale\": [[0.0, \"#0d0887\"], [0.1111111111111111, \"#46039f\"], [0.2222222222222222, \"#7201a8\"], [0.3333333333333333, \"#9c179e\"], [0.4444444444444444, \"#bd3786\"], [0.5555555555555556, \"#d8576b\"], [0.6666666666666666, \"#ed7953\"], [0.7777777777777778, \"#fb9f3a\"], [0.8888888888888888, \"#fdca26\"], [1.0, \"#f0f921\"]], \"type\": \"heatmap\"}], \"heatmapgl\": [{\"colorbar\": {\"outlinewidth\": 0, \"ticks\": \"\"}, \"colorscale\": [[0.0, \"#0d0887\"], [0.1111111111111111, \"#46039f\"], [0.2222222222222222, \"#7201a8\"], [0.3333333333333333, \"#9c179e\"], [0.4444444444444444, \"#bd3786\"], [0.5555555555555556, \"#d8576b\"], [0.6666666666666666, \"#ed7953\"], [0.7777777777777778, \"#fb9f3a\"], [0.8888888888888888, \"#fdca26\"], [1.0, \"#f0f921\"]], \"type\": \"heatmapgl\"}], \"histogram\": [{\"marker\": {\"colorbar\": {\"outlinewidth\": 0, \"ticks\": \"\"}}, \"type\": \"histogram\"}], \"histogram2d\": [{\"colorbar\": {\"outlinewidth\": 0, \"ticks\": \"\"}, \"colorscale\": [[0.0, \"#0d0887\"], [0.1111111111111111, \"#46039f\"], [0.2222222222222222, \"#7201a8\"], [0.3333333333333333, \"#9c179e\"], [0.4444444444444444, \"#bd3786\"], [0.5555555555555556, \"#d8576b\"], [0.6666666666666666, \"#ed7953\"], [0.7777777777777778, \"#fb9f3a\"], [0.8888888888888888, \"#fdca26\"], [1.0, \"#f0f921\"]], \"type\": \"histogram2d\"}], \"histogram2dcontour\": [{\"colorbar\": {\"outlinewidth\": 0, \"ticks\": \"\"}, \"colorscale\": [[0.0, \"#0d0887\"], [0.1111111111111111, \"#46039f\"], [0.2222222222222222, \"#7201a8\"], [0.3333333333333333, \"#9c179e\"], [0.4444444444444444, \"#bd3786\"], [0.5555555555555556, \"#d8576b\"], [0.6666666666666666, \"#ed7953\"], [0.7777777777777778, \"#fb9f3a\"], [0.8888888888888888, \"#fdca26\"], [1.0, \"#f0f921\"]], \"type\": \"histogram2dcontour\"}], \"mesh3d\": [{\"colorbar\": {\"outlinewidth\": 0, \"ticks\": \"\"}, \"type\": \"mesh3d\"}], \"parcoords\": [{\"line\": {\"colorbar\": {\"outlinewidth\": 0, \"ticks\": \"\"}}, \"type\": \"parcoords\"}], \"pie\": [{\"automargin\": true, \"type\": \"pie\"}], \"scatter\": [{\"marker\": {\"colorbar\": {\"outlinewidth\": 0, \"ticks\": \"\"}}, \"type\": \"scatter\"}], \"scatter3d\": [{\"line\": {\"colorbar\": {\"outlinewidth\": 0, \"ticks\": \"\"}}, \"marker\": {\"colorbar\": {\"outlinewidth\": 0, \"ticks\": \"\"}}, \"type\": \"scatter3d\"}], \"scattercarpet\": [{\"marker\": {\"colorbar\": {\"outlinewidth\": 0, \"ticks\": \"\"}}, \"type\": \"scattercarpet\"}], \"scattergeo\": [{\"marker\": {\"colorbar\": {\"outlinewidth\": 0, \"ticks\": \"\"}}, \"type\": \"scattergeo\"}], \"scattergl\": [{\"marker\": {\"colorbar\": {\"outlinewidth\": 0, \"ticks\": \"\"}}, \"type\": \"scattergl\"}], \"scattermapbox\": [{\"marker\": {\"colorbar\": {\"outlinewidth\": 0, \"ticks\": \"\"}}, \"type\": \"scattermapbox\"}], \"scatterpolar\": [{\"marker\": {\"colorbar\": {\"outlinewidth\": 0, \"ticks\": \"\"}}, \"type\": \"scatterpolar\"}], \"scatterpolargl\": [{\"marker\": {\"colorbar\": {\"outlinewidth\": 0, \"ticks\": \"\"}}, \"type\": \"scatterpolargl\"}], \"scatterternary\": [{\"marker\": {\"colorbar\": {\"outlinewidth\": 0, \"ticks\": \"\"}}, \"type\": \"scatterternary\"}], \"surface\": [{\"colorbar\": {\"outlinewidth\": 0, \"ticks\": \"\"}, \"colorscale\": [[0.0, \"#0d0887\"], [0.1111111111111111, \"#46039f\"], [0.2222222222222222, \"#7201a8\"], [0.3333333333333333, \"#9c179e\"], [0.4444444444444444, \"#bd3786\"], [0.5555555555555556, \"#d8576b\"], [0.6666666666666666, \"#ed7953\"], [0.7777777777777778, \"#fb9f3a\"], [0.8888888888888888, \"#fdca26\"], [1.0, \"#f0f921\"]], \"type\": \"surface\"}], \"table\": [{\"cells\": {\"fill\": {\"color\": \"#EBF0F8\"}, \"line\": {\"color\": \"white\"}}, \"header\": {\"fill\": {\"color\": \"#C8D4E3\"}, \"line\": {\"color\": \"white\"}}, \"type\": \"table\"}]}, \"layout\": {\"annotationdefaults\": {\"arrowcolor\": \"#2a3f5f\", \"arrowhead\": 0, \"arrowwidth\": 1}, \"coloraxis\": {\"colorbar\": {\"outlinewidth\": 0, \"ticks\": \"\"}}, \"colorscale\": {\"diverging\": [[0, \"#8e0152\"], [0.1, \"#c51b7d\"], [0.2, \"#de77ae\"], [0.3, \"#f1b6da\"], [0.4, \"#fde0ef\"], [0.5, \"#f7f7f7\"], [0.6, \"#e6f5d0\"], [0.7, \"#b8e186\"], [0.8, \"#7fbc41\"], [0.9, \"#4d9221\"], [1, \"#276419\"]], \"sequential\": [[0.0, \"#0d0887\"], [0.1111111111111111, \"#46039f\"], [0.2222222222222222, \"#7201a8\"], [0.3333333333333333, \"#9c179e\"], [0.4444444444444444, \"#bd3786\"], [0.5555555555555556, \"#d8576b\"], [0.6666666666666666, \"#ed7953\"], [0.7777777777777778, \"#fb9f3a\"], [0.8888888888888888, \"#fdca26\"], [1.0, \"#f0f921\"]], \"sequentialminus\": [[0.0, \"#0d0887\"], [0.1111111111111111, \"#46039f\"], [0.2222222222222222, \"#7201a8\"], [0.3333333333333333, \"#9c179e\"], [0.4444444444444444, \"#bd3786\"], [0.5555555555555556, \"#d8576b\"], [0.6666666666666666, \"#ed7953\"], [0.7777777777777778, \"#fb9f3a\"], [0.8888888888888888, \"#fdca26\"], [1.0, \"#f0f921\"]]}, \"colorway\": [\"#636efa\", \"#EF553B\", \"#00cc96\", \"#ab63fa\", \"#FFA15A\", \"#19d3f3\", \"#FF6692\", \"#B6E880\", \"#FF97FF\", \"#FECB52\"], \"font\": {\"color\": \"#2a3f5f\"}, \"geo\": {\"bgcolor\": \"white\", \"lakecolor\": \"white\", \"landcolor\": \"#E5ECF6\", \"showlakes\": true, \"showland\": true, \"subunitcolor\": \"white\"}, \"hoverlabel\": {\"align\": \"left\"}, \"hovermode\": \"closest\", \"mapbox\": {\"style\": \"light\"}, \"paper_bgcolor\": \"white\", \"plot_bgcolor\": \"#E5ECF6\", \"polar\": {\"angularaxis\": {\"gridcolor\": \"white\", \"linecolor\": \"white\", \"ticks\": \"\"}, \"bgcolor\": \"#E5ECF6\", \"radialaxis\": {\"gridcolor\": \"white\", \"linecolor\": \"white\", \"ticks\": \"\"}}, \"scene\": {\"xaxis\": {\"backgroundcolor\": \"#E5ECF6\", \"gridcolor\": \"white\", \"gridwidth\": 2, \"linecolor\": \"white\", \"showbackground\": true, \"ticks\": \"\", \"zerolinecolor\": \"white\"}, \"yaxis\": {\"backgroundcolor\": \"#E5ECF6\", \"gridcolor\": \"white\", \"gridwidth\": 2, \"linecolor\": \"white\", \"showbackground\": true, \"ticks\": \"\", \"zerolinecolor\": \"white\"}, \"zaxis\": {\"backgroundcolor\": \"#E5ECF6\", \"gridcolor\": \"white\", \"gridwidth\": 2, \"linecolor\": \"white\", \"showbackground\": true, \"ticks\": \"\", \"zerolinecolor\": \"white\"}}, \"shapedefaults\": {\"line\": {\"color\": \"#2a3f5f\"}}, \"ternary\": {\"aaxis\": {\"gridcolor\": \"white\", \"linecolor\": \"white\", \"ticks\": \"\"}, \"baxis\": {\"gridcolor\": \"white\", \"linecolor\": \"white\", \"ticks\": \"\"}, \"bgcolor\": \"#E5ECF6\", \"caxis\": {\"gridcolor\": \"white\", \"linecolor\": \"white\", \"ticks\": \"\"}}, \"title\": {\"x\": 0.05}, \"xaxis\": {\"automargin\": true, \"gridcolor\": \"white\", \"linecolor\": \"white\", \"ticks\": \"\", \"title\": {\"standoff\": 15}, \"zerolinecolor\": \"white\", \"zerolinewidth\": 2}, \"yaxis\": {\"automargin\": true, \"gridcolor\": \"white\", \"linecolor\": \"white\", \"ticks\": \"\", \"title\": {\"standoff\": 15}, \"zerolinecolor\": \"white\", \"zerolinewidth\": 2}}}, \"xaxis\": {\"anchor\": \"y\", \"domain\": [0.0, 1.0], \"title\": {\"text\": \"Words\"}}, \"yaxis\": {\"anchor\": \"x\", \"domain\": [0.0, 1.0], \"title\": {\"text\": \"Word Frequencies\"}}},\n",
              "                        {\"responsive\": true}\n",
              "                    ).then(function(){\n",
              "                            \n",
              "var gd = document.getElementById('647bcd18-6d42-40ea-8264-374a192a48c8');\n",
              "var x = new MutationObserver(function (mutations, observer) {{\n",
              "        var display = window.getComputedStyle(gd).display;\n",
              "        if (!display || display === 'none') {{\n",
              "            console.log([gd, 'removed!']);\n",
              "            Plotly.purge(gd);\n",
              "            observer.disconnect();\n",
              "        }}\n",
              "}});\n",
              "\n",
              "// Listen for the removal of the full notebook cells\n",
              "var notebookContainer = gd.closest('#notebook-container');\n",
              "if (notebookContainer) {{\n",
              "    x.observe(notebookContainer, {childList: true});\n",
              "}}\n",
              "\n",
              "// Listen for the clearing of the current output cell\n",
              "var outputEl = gd.closest('.output');\n",
              "if (outputEl) {{\n",
              "    x.observe(outputEl, {childList: true});\n",
              "}}\n",
              "\n",
              "                        })\n",
              "                };\n",
              "                \n",
              "            </script>\n",
              "        </div>\n",
              "</body>\n",
              "</html>"
            ]
          },
          "metadata": {
            "tags": []
          }
        }
      ]
    },
    {
      "cell_type": "code",
      "metadata": {
        "id": "rzpnjWxsYZ7p",
        "colab": {
          "base_uri": "https://localhost:8080/"
        },
        "outputId": "6e9cf673-b18c-42d5-bf0f-056a5352c7c4"
      },
      "source": [
        "start = time.time()\n",
        "print(\"hello\")\n",
        "end = time.time()\n",
        "print(end - start)"
      ],
      "execution_count": null,
      "outputs": [
        {
          "output_type": "stream",
          "text": [
            "hello\n",
            "0.00013184547424316406\n"
          ],
          "name": "stdout"
        }
      ]
    },
    {
      "cell_type": "code",
      "metadata": {
        "id": "TXAekrojKtJM",
        "colab": {
          "resources": {
            "http://localhost:8080/nbextensions/google.colab/files.js": {
              "data": "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",
              "ok": true,
              "headers": [
                [
                  "content-type",
                  "application/javascript"
                ]
              ],
              "status": 200,
              "status_text": ""
            }
          },
          "base_uri": "https://localhost:8080/",
          "height": 72
        },
        "outputId": "db9618ad-a259-4c19-962b-09cbf5ba8e8f"
      },
      "source": [
        "val_uploaded = files.upload()"
      ],
      "execution_count": null,
      "outputs": [
        {
          "output_type": "display_data",
          "data": {
            "text/html": [
              "\n",
              "     <input type=\"file\" id=\"files-6efbd20e-6065-4f29-94a5-f6a79616e331\" name=\"files[]\" multiple disabled\n",
              "        style=\"border:none\" />\n",
              "     <output id=\"result-6efbd20e-6065-4f29-94a5-f6a79616e331\">\n",
              "      Upload widget is only available when the cell has been executed in the\n",
              "      current browser session. Please rerun this cell to enable.\n",
              "      </output>\n",
              "      <script src=\"/nbextensions/google.colab/files.js\"></script> "
            ],
            "text/plain": [
              "<IPython.core.display.HTML object>"
            ]
          },
          "metadata": {
            "tags": []
          }
        },
        {
          "output_type": "stream",
          "text": [
            "Saving Political Q-A Eval - Sheet1.csv to Political Q-A Eval - Sheet1.csv\n"
          ],
          "name": "stdout"
        }
      ]
    },
    {
      "cell_type": "code",
      "metadata": {
        "id": "DRlBZM40cPrL",
        "colab": {
          "base_uri": "https://localhost:8080/"
        },
        "outputId": "6b36e5c0-8af4-4608-a4f9-d27f76fb9ad5"
      },
      "source": [
        "# Retrieving and setting up custom-made validation data\n",
        "\n",
        "df_val = pd.read_csv('Political Q-A Eval - Sheet1.csv')\n",
        "df_val0 = df_val.replace(np.nan, '', regex=True)\n",
        "dfval = df_val.replace(np.nan, '', regex=True).T\n",
        "print(dfval)\n",
        "\n",
        "pol_names = df_val0.columns.to_list()[1:]\n",
        "\n",
        "all_val = []\n",
        "for pol in pol_names:\n",
        "  all_val.append((pol, {}))\n",
        " \n",
        "for i, (idx, row) in enumerate(dfval.iterrows()):\n",
        "  d = row.to_dict()\n",
        "  if i == 0:\n",
        "    for x in range(0,25):\n",
        "      for pol in range(0,len(all_val)):\n",
        "        all_val[pol][1][d[x]] = \"\"\n",
        "  else:\n",
        "    for j, (k, v) in enumerate(all_val[i-1][1].items()):\n",
        "      all_val[i-1][1][k] = d[j]\n",
        "\n",
        "print(all_val)"
      ],
      "execution_count": null,
      "outputs": [
        {
          "output_type": "stream",
          "text": [
            "                                                           0   ...                                                 25\n",
            "Unnamed: 0                                         Republican  ...                                      China / Asian\n",
            "Baldwin     Republicans in Wisconsin and Washington want t...  ...                                                   \n",
            "Barrasso                        Economy is quickly recovering  ...                                                   \n",
            "Bennet      Senate Republicans can’t give up promoting Tru...  ...                                                   \n",
            "Blackburn                                                      ...  Keep China Our of Solar Energy Act. #Communist...\n",
            "Blumenthal                                                     ...  Anti-Asian hate crimes have increased by 150% ...\n",
            "Blunt       Democrat and Republican administrations alike ...  ...                                                   \n",
            "Booker      History won't be kind to the 43 Senate Republi...  ...  When it comes to AAPI representation in our go...\n",
            "Boozman                                                        ...                                                   \n",
            "Braun           Helped elect countless pro-Trump Republicans.  ...                                                   \n",
            "Biden                                                          ...                                                   \n",
            "Harris                                                         ...                                                   \n",
            "Pence       Fight for the Conservative ideals that have ma...  ...                                                   \n",
            "\n",
            "[13 rows x 26 columns]\n",
            "[('Baldwin', {'Republican': 'Republicans in Wisconsin and Washington want to make it harder for you to vote', 'Democrat': 'Bipartisan bills', 'health care': 'We should protect people so they don’t get stuck paying thousands of dollars out of pocket when they need health care. Now more than ever, Americans need access to quality, affordable health care. Supports the American Rescue Plan and CORPS Act. ', 'immigration / border': '', 'marriage': 'Equal rights for all types of marriage. ', 'education': 'Increase educational assistance. Help students from low-income and disadvantaged backgrounds prepare for and succeed in higher education', 'equality': 'Women deserve equal pay. ', 'environment': 'We need environmental justice. ', 'spending': 'Stop spending taxpayer money on infrastructure projects that are not subject to Buy American requirements. ', 'election': 'End corruption with the For People Act and get dark money out of our elections. ', 'pandemic': 'We need to increase vaccinations to stop the pandemic. ', 'vaccine': 'The #COVID19 vaccines are safe and effective at preventing sickness, severe illness, and death. As more people get vaccinated, the faster we’re going to beat this deadly pandemic', 'taxes': 'Taxpayer dollars should benefit American workers and American companies.', 'Trump': 'Trump perpetuates conspiracy theories and his big lie that the election was stolen from him. He lost fair and square.', 'police': 'Let us honor their service and sacrifice.', 'war': 'We need to improve the treatment of Gulf War vets. ', 'poverty': 'Supports the American Rescue Plan to provide tax credits to working families that will reduce child poverty. ', 'military / veterans': 'We need to improve the treatment of Gulf War vets. ', 'climate change': 'Taking on climate change like the urgent crisis it is with the EPA.', 'democracy': \"The future of democracy depends on how gains on human rights and women's rights are protected. \", 'Biden': 'So proud to have voted to make history and confirm President Biden', 'economic ': 'Put people back into work and rebuild economic security for working families. ', 'jobs': 'We need a bold economic plan that will create jobs and put people back to work. ', 'gun ': \"The American people support commonsense gun safety reforms – let’s get it done and help save lives. It's an epidemic. We need to end gun violence. \", 'Black Lives Matter': ''}), ('Barrasso', {'Republican': 'Economy is quickly recovering', 'Democrat': \"Americans don't want their taxes raised for unnecessary liberal spending. Liberals waste taxpayer funds. Democrats are flat-out wrong. Tax-and-spend Democrats are back.\", 'health care': 'Improve access to mental health services.', 'immigration / border': 'Finish the wall and bring back the Remain in Mexico border policy. Walls work.', 'marriage': '', 'education': '', 'equality': 'Protect private water rights.', 'environment': '', 'spending': 'Unnecessary liberal spending. Out-of-control socialist spending spree.', 'election': \"Democrat's bills will deform elections. It will make them harder to secure, easier to defraud, and cast doubts.\", 'pandemic': 'End this pandemic. We need a real health leader with experience.', 'vaccine': 'Thanks to the Covid-19 vaccine, we are closer to getting life back to normal. ', 'taxes': 'Thanks to Republican low taxes, our economy is recovering quickly.', 'Trump': 'Trump border policies worked. ', 'police': 'Capitol Police Officer was tragically killed.', 'war': \"POTUS's war on American energy.\", 'poverty': 'Solution to poverty is energy.', 'military / veterans': 'Visit with the veterans.', 'climate change': '', 'democracy': 'Strive to advance the principles of freedom and democracy.', 'Biden': 'The president says he is a no malarkey guy, but his plans are malarkey plans. Biden created the border crisis. ', 'economic ': 'Thanks to low taxes, fewer regulations, our economy is recovering quickly. ', 'jobs': 'Good-paying jobs vanished on Inauguration Day.', 'gun ': \"Right to bear arms. The president shouldn't infringe on our constitutional right to protect our homes and families. Second ammendment.\", 'Black Lives Matter': ''}), ('Bennet', {'Republican': 'Senate Republicans can’t give up promoting Trump’s conspiracy theories and his big lie that the election was stolen from him', 'Democrat': '', 'health care': 'We need the American Rescue Plan. We must confront the systemic inequalities that allow health care disparities to exist.', 'immigration / border': '', 'marriage': '', 'education': \"I've introduced bipartisan legislation will make higher education more accessible to students\", 'equality': 'It is unacceptable there is still a gender wage gap in this country. Equal pay for equal work.', 'environment': 'Eager to keep working to build a 21st century clean energy economy.', 'spending': 'Put money in the hands of working people who will spend the money.', 'election': \"Explain to Trump voters that the election wasn't stolen.\", 'pandemic': 'Everyone needs to get the #COVID19 vaccine so we can get through this pandemic', 'vaccine': 'Everyone needs to get the #COVID19 vaccine so we can get through this pandemic', 'taxes': \"Expenses like childcare and diapers can't wait until tax time.\", 'Trump': 'Overturn the Trump-era rule', 'police': 'Officer Billy Evans died making the ultimate sacrifice to protect the US Capitol.', 'war': 'doing whatever we can to keep weapons of war off our streets', 'poverty': 'We need to prevent child poverty with the Child Tax Credit. The #AmericanRescuePlan can cut child poverty in half.', 'military / veterans': '#HelpIsHere for Veterans and their families in Union Grove.', 'climate change': 'As western states face persistent drought and climate change, we need to invest in resilient water infrastructure.', 'democracy': \"China and Russia want democracy to retreat. America's example is the best tool to strengthen democracy. America's democracy is crying out for repair.\", 'Biden': '', 'economic ': 'Need to expand benefits and tie them to economic conditions to prepare us for the future. ', 'jobs': 'The #AmericanJobsPlan is an ambitious and much-needed investment in 21st century infrastructure.', 'gun ': 'Pass universal background checks; limit the size of magazines; address our mental health crisis.', 'Black Lives Matter': 'We owe it to Breonna, Black Americans, and all victims of racial violence to seek justice. #BlackLivesMatter'}), ('Blackburn', {'Republican': '', 'Democrat': 'Blue states can’t stop mooching off the federal government. Democrats don’t want compromise or unity. Democrats are spending your #BidenBailout tax dollars.', 'health care': \"Tennesseans are facing a rural health care crisis, and I'm focused on a solution.\", 'immigration / border': 'The Biden Administration believes if they don’t talk about the border crisis, it will go away. Build the wall! #BidensBailout could issue over $4 billion in payouts to illegal immigrants to break our nation’s laws. The time is long overdue to close immigration loopholes and strengthen the integrity of the asylum process.', 'marriage': '', 'education': 'The @CDCgov guidelines have changed yet again... even though science has shown for months that it is safe to reopen schools.', 'equality': \"The Equality Act will destroy women's rights and safety.\", 'environment': \"The left's weaponized version of environmentalism is a one-way ticket to destroy your individual choice.\", 'spending': 'Payments up to $15,600 PER illegal immigrant. This is how Democrats are spending your #BidenBailout tax dollars.', 'election': 'HR. 1 and S.1 threaten the integrity of the election process', 'pandemic': 'U.S. enters recovery from a global pandemic', 'vaccine': 'Tennessee’s own @101stAASLTDIV is helping administer the COVID-19 vaccine across the country!', 'taxes': 'Biden administration is using your tax dollars to restore millions of taxpayer dollars to the Palestinian Authority', 'Trump': '', 'police': 'We express our gratitude to all @CapitolPolice', 'war': '', 'poverty': '', 'military / veterans': 'We honor the service and sacrifice of the brave men and women who served', 'climate change': '', 'democracy': 'America is here to protect democracy and freedom. The U.S. must stand solid and resolute for democracy.', 'Biden': 'Lead the effort in stopping the Biden Administration from packing the courts. The Bank of Biden is wasting your tax dollars! Wants to put another 2 trillion dent in taxpayers pockets. ', 'economic ': 'Tennessee has sustained economic growth even through difficult times because we remain business friendly!', 'jobs': 'Tennessee welcomes @Gap’s expansion and 600 new jobs in Gallatin!', 'gun ': 'The Second Amendment isn’t going anywhere. Period.', 'Black Lives Matter': ''}), ('Blumenthal', {'Republican': '', 'Democrat': '', 'health care': 'The importance of quality, affordable health care has never been greater.', 'immigration / border': '', 'marriage': '', 'education': 'Implement alternative sentencing—requiring people to do educational training/community service to counter their hate. The importance of quality, affordable health care has never been greater.', 'equality': 'Sexist inequalities—unacceptable.', 'environment': 'Belief in the importance of environmental justice', 'spending': '', 'election': '', 'pandemic': 'Cruising during a global pandemic is simply unsafe.', 'vaccine': 'Putting shots in arms is how we get through this pandemic-and that means equal access to the vaccine no matter what your zip code is.', 'taxes': '', 'Trump': 'Obama created the National Marine Monument, Trump tried to destroy it (of course), now Biden has restored it. Hurrah!', 'police': 'Law enforcement don’t have the data to fully understand the scope and complexities of the problem hate crimes pose. Officer Billy Evans made the ultimate sacrifice protecting and defending our democracy.', 'war': '', 'poverty': 'The American Rescue Plan made one of the greatest investments in reducing child poverty in history.', 'military / veterans': '', 'climate change': 'Climate change is a clear and escalating national security threat.', 'democracy': \"Our right to vote is sacred and fundamental to our democracy. It's time for Congress to pass John Lewis's Voting Rights Act.\", 'Biden': 'Yesterday, President Biden strongly, steadfastly committed to end gun violence. Listening to President Biden speak with such power, eloquence, passion about the moral imperative for gun violence prevention. The commonsense steps the Biden Admin is taking will save lives', 'economic ': 'Affordable child care is absolutely fundamental to getting our economy back on track', 'jobs': 'Infrastructure isn’t just a blueprint for reshaping our roads, bridges, and transit, but a path to creating new, forward-looking jobs.', 'gun ': 'Gun violence is a public health crisis that we must address with the full force of the federal government. Guns have no respect for state boundaries. ', 'Black Lives Matter': ''}), ('Blunt', {'Republican': 'Democrat and Republican administrations alike have said: nine is the right number for the Supreme Court. ', 'Democrat': 'Democrats’ massive spending bill. Democrats are going down a bad road that would set a dangerous precedent. Democrats’ proposal to expand the Supreme Court is not about court reform. It’s about tilting the scales of justice squarely in favor of one political party. Less than 6% of the Democrats’ so-called “infrastructure” plan will go toward America’s roads and bridges. ', 'health care': \"COVID-19 has shown the need for greater access to health care, while highlighting health disparities and the needs of underserved populations. Personalized medicine will be a critical part of  health care's future. Investing in mental health care is critical.\", 'immigration / border': 'Pres. Biden’s executive overreach to freeze border wall construction is fueling the crisis we’re seeing now at our southern border. The security of our southern border is compromised.\\n', 'marriage': '', 'education': 'Great to see schools in our state working closely to support military kids throughout their education. Prolonged remote learning has taken a toll on our kids and experts say in-person learning is safe.. ', 'equality': '', 'environment': '', 'spending': 'Stop the president’s nearly $1.6 trillion spending plan. Democrats’ massive spending bill. ', 'election': 'S.1 would throw our election system into chaos, make elections less secure, and undermine Americans’ faith in the process. S.1 would impose a one-size-fits-all federal takeover of our election system – setting up our next elections to be chaotic.', 'pandemic': 'More than half of Americans say the coronavirus pandemic is taking a toll on their mental health. The pandemic has demonstrated the need for continued investments in mental health care and treating those with substance use disorders.', 'vaccine': 'Providing greater vaccine access to Missourians. Cole County Community Vaccination Site is open for any Missourian who would like to get a COVID vaccine. I believe vaccinating Americans will help our country reopen.', 'taxes': 'Unrelated liberal policies and tax hikes that will hurt working families. Democrats will use it to try and justify new taxes on American families and businesses. Eliminate the death tax once and for all.', 'Trump': '', 'police': 'Every day, U.S. Capitol Police Officers risk their lives to keep people safe and defend the greatest symbol of democracy in the world.', 'war': '', 'poverty': '', 'military / veterans': 'Military children face unique challenges and situations – from frequent moves to a parent being deployed. To all the brave Missourians who fought for our country in Vietnam, welcome home. We owe you, and your families, a deep debt of gratitude for your service and sacrifice. ', 'climate change': '', 'democracy': '', 'Biden': 'President Biden’s so-called “infrastructure” plan is filled with extreme, unrelated liberal policies and tax hikes that will hurt working families', 'economic ': 'Create long-term economic growth in the region. Democrats will lead to fewer jobs, lower wages, and decreased economic growth.', 'jobs': \"Democrats will lead to fewer jobs, lower wages, and decreased economic growth. Biden's infrastructure plan is paid for with job-destroying tax hikes just as the economy is starting to recover from the pandemic\", 'gun ': '', 'Black Lives Matter': ''}), ('Booker', {'Republican': \"History won't be kind to the 43 Senate Republicans who voted to excuse Trump's outrageous misconduct.\", 'Democrat': \"Democrats fight because we know it makes our democracy stronger. Now let's go flip some Senate seats in 2022 and expand our Democratic majority.\", 'health care': 'MOMMIES Act expands access to health coverage, behavioral health care &amp; funding to get vaccines to all Americans.', 'immigration / border': '', 'marriage': '', 'education': 'Student athletes deserve fair compensation, stronger health and safety standards, and better educational opportunities.', 'equality': 'I am driven to write our own story that moves our country toward justice and equality for all.', 'environment': '', 'spending': '', 'election': 'It’s time to pass the John Lewis Voting Rights Advancement Act and the #ForThePeople Act', 'pandemic': 'The pandemic has devastated communities of color and placed a harsh light on existing systemic inequities.', 'vaccine': 'As more vaccines continue to become available across our country, please regularly check to see what is available in your community. COVID-19 vaccines are proven to be safe and effective.', 'taxes': 'The child tax credit expansion should be made permanent', 'Trump': \"History won't be kind to the 43 Senate Republicans who voted to excuse Trump's outrageous misconduct.\", 'police': 'Adam Toledo had his hands in the air when an officer shot him point blank in the chest. We need to end police violence.', 'war': 'The war on drugs has been a war on people.', 'poverty': \"1 in 3 people in this country living in poverty are children. We need to make the American Rescue Plan's expansion of the child tax credit permanent to lift families and end this national tragedy.\", 'military / veterans': \"Those who received veterans' benefits in 2020 shouldn't need to take any action to receive payment.\", 'climate change': 'This horror worsens The Climate Crisis', 'democracy': 'Voting rights are under continued attack in states across our country — we must fight back and push for reforms that would increase participation in our democracy.', 'Biden': \"I applaud Joe Biden, and I'm glad he has made minimum wage a priority.\", 'economic ': 'So happy to join to talk about economic justice and the racial wealth gap. We must address multiple fronts simultaneously—from an economic recession to a pandemic to national security threats.', 'jobs': 'The American Jobs Plan makes the critical investments we need for a 21st Century workforce.', 'gun ': 'End the gun violence epidemic in this country. Congress must act to protect Americans. We have not taken near enough steps to end the mass shooting epidemic in America. A return to normalcy cannot mean a return to mass shooting after mass shooting.', 'Black Lives Matter': 'Black women are 3-4 times more likely to die from pregnancy-related causes than white women. We must address the Black Maternal Health Crisis. This epidemic of injustice that Black Americans face daily must end. His life mattered. #BlackLivesMatter. We’ll reduce Black poverty by 37% this year. For black children, poverty will be cut 54%.'}), ('Boozman', {'Republican': '', 'Democrat': 'Democrats should abandon this attempt to mandate voting rules from Washington, politicize election oversight and bankroll political campaigns.', 'health care': '', 'immigration / border': 'Our border security officials are overwhelmed and over capacity. Sadly, it was predictable given the Biden administration’s efforts to reverse the successful policies enacted by the Trump administration and Congress to secure the border and fix our broken system.', 'marriage': '', 'education': 'I’m always appreciative of the opportunity to visit AR classrooms virtually and discuss what’s on young people’s minds. It was helpful to get an update about the challenges administrators have faced and their concerns about the pandemic’s future repercussions on education.', 'equality': '', 'environment': '', 'spending': \"far too much spending on Congressional Dems' wish list.\", 'election': 'Arkansans can best decide how to run our elections, including how to ensure they are free and fair. Federalizing and nationalizing how we vote is unwise and undermines election security. This bill does it + more, including harming election integrity.', 'pandemic': 'Covid-19 has impacted AK school districts. Now even more Arkansans have the ability to get vaccinated against COVID-19. Let’s all do our part and help get more #ShotsInARms to get this pandemic behind us and return to normal.', 'vaccine': 'The last stop on today’s itinerary was Boston Mountain Rural Health Center in Searcy County to speak with administrators about COVID-19 and the vaccine rollout. I stopped by Corner Drug Store in Melbourne to discuss the COVID-19 vaccination effort and getting #ShotsInARms as the only vaccine provider in the area. Get Arkansas vaccinated. Now even more Arkansans have the ability to get vaccinated against COVID-19. Let’s all do our part and help get more #ShotsInARms to get this pandemic behind us and return to normal.', 'taxes': \"The death tax is a costly impediment to that dream, and I'm proud to join my colleagues working to end it.\", 'Trump': 'Trump secured our border.', 'police': 'The @CapitolPolice are dedicated law enforcement officers who risk their lives and safety protecting Capitol Hill.', 'war': '', 'poverty': '', 'military / veterans': \"Our nation has waited long enough for a monument in Washington, D.C. that honors the service and sacrifice of WWI veterans. Tomorrow, that wait will finally be over. We owe military spouses so much. Let's show our gratitude by making their lives easier in simple, meaningful ways. I’m encouraged by their progress and valued interacting with these vets providers. ensure Vietnam War-era #veterans who served in Thailand can prove toxic exposure and get the benefits they’ve earned.\", 'climate change': '', 'democracy': '', 'Biden': \"The Biden plan in its current form isn't the place to start.\", 'economic ': 'The recently updated Conference Center in Fairfield Bay that’s helping drive economic growth and activity.', 'jobs': 'Supports jobs in its community and received PPP funds that helped it maintain operations and continue to pay employees.', 'gun ': 'The Second Amendment is a foundational, fundamental right enshrined in the Constitution, and more gun control will not stop criminals from breaking the law.', 'Black Lives Matter': ''}), ('Braun', {'Republican': 'Helped elect countless pro-Trump Republicans.', 'Democrat': 'When will Dem Mayors restore law and order to our great cities? ', 'health care': 'Lowering family healthcare costs by $1400 a year and increasing 401k benefits.', 'immigration / border': 'The priorities I’m bringing to the US Senate, securing our border. ', 'marriage': '', 'education': '', 'equality': '', 'environment': '', 'spending': '', 'election': 'This election is too important to sit out - get your friends, get your neighbors, get out and VOTE for Trump!', 'pandemic': '', 'vaccine': '', 'taxes': 'Explains why Democrat plans to raise taxes on the rich won’t work.', 'Trump': 'I campaigned with President Trump in 2018 – where he helped expand our Senate majority – and touted his policies to Make America Great Again.', 'police': 'The radical left has no respect for law enforcement. Back the badge!', 'war': 'Bush successfully led our troops through the Gulf War.', 'poverty': '', 'military / veterans': '', 'climate change': '', 'democracy': '', 'Biden': 'Biden needs to come out of his basement to debate @realDonaldTrump and do it before Americans start voting! Crazy talk on the other side from Bernie or Joe Biden', 'economic ': '', 'jobs': '@AOC tells Amazon they are not welcome to create good paying jobs in New York City, my response is simple: Indiana is open for business.', 'gun ': '', 'Black Lives Matter': 'BLM groups have been radicalized!'}), ('Biden', {'Republican': '', 'Democrat': 'Strengthen our party’s infrastructure and elect Democrats across the country', 'health care': '', 'immigration / border': '', 'marriage': '', 'education': 'More support to safely and quickly reopen schools.', 'equality': '', 'environment': '', 'spending': '', 'election': 'Though pushed, tested, and threatened throughout the 2020 election, our democracy proved to be resilient, true, and strong.', 'pandemic': 'Continue to wear a mask, socially distance, and wash your hands. It all matters and can help save lives. Lead with science and scientists — with a CDC and NIH that are free from political influence.\\n I know masks have become a partisan issue — but it’s a patriotic act. Experts say wearing a mask from now until April will save more than 50,000 lives. In this pandemic, in America, we cannot let people go hungry. We cannot let people get evicted. We cannot watch nurses and educators lose their jobs. Together we ’ ll change the course of the pandemic , build a bridge toward economic recovery , and invest in racial justice.', 'vaccine': 'Setting up additional vaccination sites to help America get back to normal. To get as many people vaccinated as quickly as possible, we need more clinics across the nation. Establish community vaccine centers. We’re going to ensure the vaccine is distributed quickly, equitably, and free of charge to every American.', 'taxes': '', 'Trump': 'Impeach and hold President Trump accountable.', 'police': '', 'war': '', 'poverty': '', 'military / veterans': '', 'climate change': '', 'democracy': 'Though pushed, tested, and threatened throughout the 2020 election, our democracy proved to be resilient, true, and strong.', 'Biden': '', 'economic ': 'It’s time to build our economy from the bottom up—and the middle out—not the top down.', 'jobs': 'The American Jobs Plan is the largest American jobs investment since World War II. Under the American Jobs Plan, 100% of our nation’s lead pipes and service lines will be replaced—so every child in America can turn on the faucet or fountain and drink clean water.', 'gun ': '', 'Black Lives Matter': 'Highlight the incredible diversity of the nation.'}), ('Harris', {'Republican': '', 'Democrat': '', 'health care': 'A special enrollment period for health care is now open until August 15. Find a plan that works for you and your family. Addressing health disparities', 'immigration / border': '', 'marriage': '', 'education': 'Get our kids back to school.', 'equality': '', 'environment': 'We’ve seen the devastation the climate crisis has had on our country: homes and neighborhoods in ashes, some of the most active hurricane seasons on record and historic flooding in the Midwest.', 'spending': '', 'election': '', 'pandemic': 'Pay tribute to the lives lost from COVID-19. Take a moment to mourn the more than 400,000 Americans we’ve tragically lost from this pandemic. Joe and I will listen to the scientists. The science behind COVID-19 is not partisan. Get control of this pandemic. We are still in the middle of a pandemic: mask up, wash your hands, and maintain social distancing.', 'vaccine': 'Setting up community vaccination sites nationwide. Scaling up testing and tracing. Getting control of this pandemic and ensuring vaccines are distributed equitably and free for all.', 'taxes': '', 'Trump': '', 'police': '', 'war': '', 'poverty': '', 'military / veterans': '', 'climate change': \"The science behind climate change is not a hoax. We’ve seen the devastation the climate crisis has had on our country: homes and neighborhoods in ashes, some of the most active hurricane seasons on record and historic flooding in the Midwest. Starting on January 20th, we'll tackle this crisis head-on here and around the world.\", 'democracy': \"January 20, 2021 will mark a new chance to heal, rebuild, and strengthen our democracy we all cherish. Restoring and strengthening America's global leadership as a champion of democracy\", 'Biden': '@JoeBiden and I will work to unify our country, tackle the challenges facing our nation, and renew the promise of America.', 'economic ': 'Racial justice is not attainable without economic justice—and that fight was about equity, dignity, and a brighter future for all of our children.', 'jobs': 'Get people back to work. Higher minimum wage, paid leave, safe workplaces, and stronger unions.', 'gun ': '', 'Black Lives Matter': \"Celebrate the nation's rich diversity. The pandemic disproportionately affects Black and Latina women who often lack paid sick leave or the ability to work from home. Addressing issues that disproportionately affect Black women, including pay disparity and maternal mortality.\"}), ('Pence', {'Republican': 'Fight for the Conservative ideals that have made America great.', 'Democrat': 'Defeat the Radical Left Agenda and Advance American Freedom for generations to come. Don’t let House Democrats take this seat to advance their Radical Left agenda. After losing 13 seats in the 2020 election, House Democrats have a numbers problem and are trying to grab a House seat in Iowa', 'health care': '', 'immigration / border': '', 'marriage': '', 'education': 'Champion school choice.', 'equality': '', 'environment': '', 'spending': '', 'election': 'Ensure fairer and more secure elections in the Peach State. Election Integrity is a National Imperative.', 'pandemic': '', 'vaccine': 'We encourage Every American to Get Your Vaccine. Deliver the Coronavirus Vaccine to MILLIONS of Americans. Under President @realDonaldTrump, we developed a Safe &amp; Effective vaccine in record time. Operation Warp Speed is on track to distribute 20 Million doses of Coronavirus Vaccine by next week', 'taxes': 'Promote lower taxes.', 'Trump': 'Defend and build upon the successful policies of the Trump-Pence Administration. ', 'police': 'Pray God’s comfort for his family and all the brave men and women of @CapitolPolice. Stand with law enforcement.', 'war': '', 'poverty': '', 'military / veterans': 'Honors and respects the military. We’ve rebuilt our military, restored the arsenal of democracy, and enacted the largest increases in our National Defense since the days of Ronald Reagan.', 'climate change': '', 'democracy': 'Let’s Stand up for Democracy. HR 1 is unconstitutional, reckless, and anti-democratic', 'Biden': '', 'economic ': '', 'jobs': '', 'gun ': 'Protect the second ammendment.', 'Black Lives Matter': ''})]\n"
          ],
          "name": "stdout"
        }
      ]
    },
    {
      "cell_type": "code",
      "metadata": {
        "colab": {
          "base_uri": "https://localhost:8080/"
        },
        "id": "uveI1veLmdeV",
        "outputId": "eb6fc800-0fd5-4c6e-ef40-cf59deba3459"
      },
      "source": [
        "bert_incorrect, cs_incorrect, bert_correct, cs_correct = [[] for _ in range(4)]\n",
        "bert_avg_f1, cs_avg_f1, bert_avg_acc, cs_avg_acc, bert_avg_time, cs_avg_time = [0 for _ in range(6)]\n",
        "total = 0\n",
        "\n",
        "for pol, pol_dict in all_val:\n",
        "  for topic, correct_resp in pol_dict.items():\n",
        "\n",
        "    bert_start = time.time()\n",
        "    bert_percent, bert_resp = generate_answer(pol, topic, nlp)\n",
        "    bert_end = time.time()\n",
        "    bert_time = bert_end - bert_start\n",
        "\n",
        "    cs_start = time.time()\n",
        "    cs_resp = generate_answer_cs(pol, topic)\n",
        "    cs_end = time.time()\n",
        "    cs_time = cs_end - cs_start\n",
        "\n",
        "    y_true = [correct_resp.split(\" \")]\n",
        "    bert_pred = [bert_resp.split(\" \")]\n",
        "    cs_pred = [cs_resp.split(\" \")]\n",
        "\n",
        "    binarizer = MultiLabelBinarizer()\n",
        "    binarizer.fit(y_true)\n",
        "\n",
        "    bert_f1 = metrics.f1_score(binarizer.transform(y_true), binarizer.transform(bert_pred), average='macro')\n",
        "    cs_f1 = metrics.f1_score(binarizer.transform(y_true), binarizer.transform(cs_pred), average='macro')\n",
        "    bert_accuracy = metrics.accuracy_score(binarizer.transform(y_true), binarizer.transform(bert_pred))\n",
        "    cs_accuracy = metrics.accuracy_score(binarizer.transform(y_true), binarizer.transform(cs_pred))\n",
        "    \n",
        "    if bert_f1 <= 0.25:\n",
        "      bert_incorrect.append({'Correct': correct_resp, 'Bert': bert_resp, 'F1': bert_f1, 'Accuracy': bert_accuracy, 'Bert Acc': bert_percent, 'Time': bert_time})\n",
        "    else:\n",
        "      bert_correct.append({'Correct': correct_resp, 'Bert': bert_resp, 'F1': bert_f1, 'Accuracy': bert_accuracy, 'Bert Acc': bert_percent, 'Time': bert_time})\n",
        "\n",
        "    if cs_f1 <= 0.25:\n",
        "      cs_incorrect.append({'Correct': correct_resp, 'CS': cs_resp, 'F1': cs_f1, 'Accuracy': cs_accuracy, 'Time': cs_time})\n",
        "    else:\n",
        "      cs_correct.append({'Correct': correct_resp, 'CS': cs_resp, 'F1': cs_f1, 'Accuracy': cs_accuracy, 'Time': cs_time})\n",
        "    \n",
        "    bert_avg_f1 += bert_f1\n",
        "    bert_avg_acc += bert_accuracy\n",
        "    cs_avg_f1 += cs_f1\n",
        "    cs_avg_acc += cs_accuracy\n",
        "    bert_avg_time += bert_time\n",
        "    cs_avg_time += cs_time\n",
        "\n",
        "    total += 1"
      ],
      "execution_count": null,
      "outputs": [
        {
          "output_type": "stream",
          "text": [
            "/usr/local/lib/python3.7/dist-packages/sklearn/preprocessing/_label.py:987: UserWarning:\n",
            "\n",
            "unknown class(es) ['Americans', 'and', 'generations', 'has', 'impacted', 'millions', 'of', 'unborn'] will be ignored\n",
            "\n",
            "/usr/local/lib/python3.7/dist-packages/sklearn/preprocessing/_label.py:987: UserWarning:\n",
            "\n",
            "unknown class(es) ['I', 'am', 'any', 'free', 'is', 'not', 'unfree', 'while', 'woman'] will be ignored\n",
            "\n",
            "/usr/local/lib/python3.7/dist-packages/sklearn/preprocessing/_label.py:987: UserWarning:\n",
            "\n",
            "unknown class(es) ['ending', 'of', 'poverty', 'the', 'violence'] will be ignored\n",
            "\n",
            "/usr/local/lib/python3.7/dist-packages/sklearn/preprocessing/_label.py:987: UserWarning:\n",
            "\n",
            "unknown class(es) ['#', ',', ';', 'BlackHistoryMonth', 'Celebrating', 'Hughes', 'Langston', 'ancestors', 'as', 'birthday', 'celebrate', 'day', 'first', 'his', 'history', 'honor', 'in', 'indelible', 'kick', 'of', 'off', 'poetic', 'the', 'today', 'urgent', 'we', 'wisdom'] will be ignored\n",
            "\n",
            "/usr/local/lib/python3.7/dist-packages/sklearn/preprocessing/_label.py:987: UserWarning:\n",
            "\n",
            "unknown class(es) ['American', 'Plan', 'Rescue', 'about', 'answering', 'questions', 'the', 'your'] will be ignored\n",
            "\n",
            "/usr/local/lib/python3.7/dist-packages/sklearn/preprocessing/_label.py:987: UserWarning:\n",
            "\n",
            "unknown class(es) [\"''\", \"'m\", '30', ':', 'American', 'I', 'Plan.', 'Rescue', 'Twitter', 'about', 'answering', 'minutes', 'next', 'on', 'or', 'questions', 'so', 'spending', 'the', 'your'] will be ignored\n",
            "\n",
            "/usr/local/lib/python3.7/dist-packages/sklearn/preprocessing/_label.py:987: UserWarning:\n",
            "\n",
            "unknown class(es) ['comfortable', 'constrict', 'feel', 'make', 'need', 'no', 'other', 'people', 'you', 'yourself'] will be ignored\n",
            "\n",
            "/usr/local/lib/python3.7/dist-packages/sklearn/preprocessing/_label.py:987: UserWarning:\n",
            "\n",
            "unknown class(es) ['Hope', 'Zoom', 'an', 'as', 'discuss', 'election.', 'final', 'hours', 'how', 'impact', 'in', 'make', 'of', 'on', 'see', 'these', 'we', 'you'] will be ignored\n",
            "\n",
            "/usr/local/lib/python3.7/dist-packages/sklearn/preprocessing/_label.py:987: UserWarning:\n",
            "\n",
            "unknown class(es) ['Americans', 'generations', 'impacted', 'millions', 'unborn'] will be ignored\n",
            "\n",
            "/usr/local/lib/python3.7/dist-packages/sklearn/preprocessing/_label.py:987: UserWarning:\n",
            "\n",
            "unknown class(es) ['#', ':', 'MLKDay', 'We', 'address', 'an', 'economic', 'fronts', 'multiple', 'must', 'national', 'recession', 'security', 'simultaneously—from', 'threats.', 'to'] will be ignored\n",
            "\n",
            "/usr/local/lib/python3.7/dist-packages/sklearn/preprocessing/_label.py:987: UserWarning:\n",
            "\n",
            "unknown class(es) ['effective'] will be ignored\n",
            "\n",
            "/usr/local/lib/python3.7/dist-packages/sklearn/preprocessing/_label.py:987: UserWarning:\n",
            "\n",
            "unknown class(es) [',', 'Act', 'By', 'Defense', 'PPE.', 'Production', 'can', 'dramatically', 'increase', 'invoking', 'kits', 'materials', 'of', 'supply', 'testing', 'the', 'vaccine', 'we'] will be ignored\n",
            "\n",
            "/usr/local/lib/python3.7/dist-packages/sklearn/preprocessing/_label.py:987: UserWarning:\n",
            "\n",
            "unknown class(es) ['2019', '2020', 'filed', 'haven', 'if', 't', 'taxes', 'the', 'they', 'use', 'will', 'you', 'your'] will be ignored\n",
            "\n",
            "/usr/local/lib/python3.7/dist-packages/sklearn/preprocessing/_label.py:987: UserWarning:\n",
            "\n",
            "unknown class(es) ['It', 'in', 'investments', 'more', 'punished', 'receive', 'send', 'state.', 'states', 'taxes', 'than', 'that', 'their', 'they'] will be ignored\n",
            "\n",
            "/usr/local/lib/python3.7/dist-packages/sklearn/preprocessing/_label.py:987: UserWarning:\n",
            "\n",
            "unknown class(es) ['a', 'awesomeness', 'backstreetboys', 'have', 'higher', 'level', 'me', 'of', 'than'] will be ignored\n",
            "\n",
            "/usr/local/lib/python3.7/dist-packages/sklearn/preprocessing/_label.py:987: UserWarning:\n",
            "\n",
            "unknown class(es) ['Donald', 'Georgia', 'Trump', 'an', 'attempt', 'disenfranchise', 'effort', 'election', 'is', 'millions', 'of', 'overturn', 'results', 's', 'unhinged', 'voters.', '’'] will be ignored\n",
            "\n",
            "/usr/local/lib/python3.7/dist-packages/sklearn/preprocessing/_label.py:987: UserWarning:\n",
            "\n",
            "unknown class(es) [',', 'If', 'and', 'end', 'failed', 'federal', 'focus', 'justice.', 'marijuana', 'need', 'of', 'prohibition', 'restorative', 'right', 'the', 'this', 'to', 'want', 'we', 'wrongs'] will be ignored\n",
            "\n",
            "/usr/local/lib/python3.7/dist-packages/sklearn/preprocessing/_label.py:987: UserWarning:\n",
            "\n",
            "unknown class(es) [':', 'Americans', 'It', 'full-time', 'is', 'live', 'many', 'poverty.', 'so', 'still', 'that', 'unacceptable', 'work'] will be ignored\n",
            "\n",
            "/usr/local/lib/python3.7/dist-packages/sklearn/preprocessing/_label.py:987: UserWarning:\n",
            "\n",
            "unknown class(es) ['payment', 'shouldn', 't'] will be ignored\n",
            "\n",
            "/usr/local/lib/python3.7/dist-packages/sklearn/preprocessing/_label.py:987: UserWarning:\n",
            "\n",
            "unknown class(es) ['$', '&', \"'\", ',', '3.3', '50', '7.6', ':', ';', 'COVID-19', 'Health', 'Indian', 'Most', 'Security', 'Service', 'Social', 'Title', 'To', 'X.', 'address', 'amp', 'beneficiaries', 'bill', 'billion', 'centers', 'community', 'disability', 'for', 'health', 'impacts', 'million', \"n't\", 'of', 'retirement', 'send', 'should', 'the', 'those', 'veterans', 'will'] will be ignored\n",
            "\n"
          ],
          "name": "stderr"
        }
      ]
    },
    {
      "cell_type": "code",
      "metadata": {
        "id": "xuQKeWI_uVoj"
      },
      "source": [
        "bert_avg_f1 /= total\n",
        "cs_avg_f1 /= total\n",
        "bert_avg_accuracy /= total\n",
        "cs_avg_accuracy /= total\n",
        "bert_avg_time /= total\n",
        "cs_avg_time /= total"
      ],
      "execution_count": null,
      "outputs": []
    },
    {
      "cell_type": "markdown",
      "metadata": {
        "id": "EdQoReK4DIfu"
      },
      "source": [
        "# **TODO**\n",
        "\n",
        "1. Add Bert to frontend\n",
        "2. Add synonyms, remove stopwords for second model\n",
        "3. Model comparisons and analysis"
      ]
    }
  ]
}